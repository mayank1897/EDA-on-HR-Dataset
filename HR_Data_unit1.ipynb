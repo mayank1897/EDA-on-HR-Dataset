{
  "nbformat": 4,
  "nbformat_minor": 0,
  "metadata": {
    "colab": {
      "name": "HR Data unit1",
      "provenance": [],
      "collapsed_sections": [
        "bTACviQGT7fy"
      ]
    },
    "kernelspec": {
      "name": "python3",
      "display_name": "Python 3"
    }
  },
  "cells": [
    {
      "cell_type": "code",
      "metadata": {
        "id": "h358t6_z4yAD"
      },
      "source": [
        "import numpy as np\n",
        "import pandas as pd\n",
        "import matplotlib.pyplot as plt\n",
        "import seaborn as sns\n",
        "sns.set(color_codes=True)"
      ],
      "execution_count": null,
      "outputs": []
    },
    {
      "cell_type": "code",
      "metadata": {
        "id": "HM23RSoT5ZAW"
      },
      "source": [
        "df=pd.read_csv(\"unit1.csv\")"
      ],
      "execution_count": null,
      "outputs": []
    },
    {
      "cell_type": "markdown",
      "metadata": {
        "id": "GkPe3PogPixU"
      },
     
    },
    {
      "cell_type": "code",
      "metadata": {
        "id": "h1Qjno7H50dl",
        "outputId": "62815b72-937e-4658-ae01-609c0bb16663",
        "colab": {
          "base_uri": "https://localhost:8080/",
          "height": 440
        }
      },
      "source": [
        "df.head()"
      ],
      "execution_count": null,
      "outputs": [
        {
          "output_type": "execute_result",
          "data": {
            "text/html": [
              "<div>\n",
              "<style scoped>\n",
              "    .dataframe tbody tr th:only-of-type {\n",
              "        vertical-align: middle;\n",
              "    }\n",
              "\n",
              "    .dataframe tbody tr th {\n",
              "        vertical-align: top;\n",
              "    }\n",
              "\n",
              "    .dataframe thead th {\n",
              "        text-align: right;\n",
              "    }\n",
              "</style>\n",
              "<table border=\"1\" class=\"dataframe\">\n",
              "  <thead>\n",
              "    <tr style=\"text-align: right;\">\n",
              "      <th></th>\n",
              "      <th>Employee ID</th>\n",
              "      <th>Data Effective Date</th>\n",
              "      <th>Employee\\nStatus\\n</th>\n",
              "      <th>Career Level \\n(1=lowest, 6=highest)\\n</th>\n",
              "      <th>Hired Date</th>\n",
              "      <th>Hired in FY\\n(Yes/No)</th>\n",
              "      <th>Termination Date</th>\n",
              "      <th>Terminated\\nin FY\\n(Yes/No)</th>\n",
              "      <th>Termination Type\\n(Voluntary or Involuntary Exit)</th>\n",
              "      <th>Job Start Date</th>\n",
              "      <th>Promoted\\nin FY\\n(Yes/No)</th>\n",
              "      <th>Birth Date</th>\n",
              "      <th>Age\\n(Years)</th>\n",
              "      <th>Tenure\\n(Years)</th>\n",
              "      <th>Time in\\nJob (Years)</th>\n",
              "      <th>Rating</th>\n",
              "      <th>Education\\n(Highest\\nDegree)</th>\n",
              "    </tr>\n",
              "  </thead>\n",
              "  <tbody>\n",
              "    <tr>\n",
              "      <th>0</th>\n",
              "      <td>A0001</td>\n",
              "      <td>31-12-2016</td>\n",
              "      <td>Active</td>\n",
              "      <td>1</td>\n",
              "      <td>12-09-2016</td>\n",
              "      <td>Yes</td>\n",
              "      <td>NaN</td>\n",
              "      <td>No</td>\n",
              "      <td>NaN</td>\n",
              "      <td>12-09-2016</td>\n",
              "      <td>NaN</td>\n",
              "      <td>21-09-1992</td>\n",
              "      <td>NaN</td>\n",
              "      <td>NaN</td>\n",
              "      <td>NaN</td>\n",
              "      <td>At Target</td>\n",
              "      <td>BA/BS</td>\n",
              "    </tr>\n",
              "    <tr>\n",
              "      <th>1</th>\n",
              "      <td>A0002</td>\n",
              "      <td>31-12-2016</td>\n",
              "      <td>Active</td>\n",
              "      <td>1</td>\n",
              "      <td>19-04-2016</td>\n",
              "      <td>Yes</td>\n",
              "      <td>NaN</td>\n",
              "      <td>No</td>\n",
              "      <td>NaN</td>\n",
              "      <td>19-04-2016</td>\n",
              "      <td>NaN</td>\n",
              "      <td>16-11-1993</td>\n",
              "      <td>NaN</td>\n",
              "      <td>NaN</td>\n",
              "      <td>NaN</td>\n",
              "      <td>At Target</td>\n",
              "      <td>BA/BS</td>\n",
              "    </tr>\n",
              "    <tr>\n",
              "      <th>2</th>\n",
              "      <td>A0003</td>\n",
              "      <td>31-12-2016</td>\n",
              "      <td>Active</td>\n",
              "      <td>1</td>\n",
              "      <td>14-03-2016</td>\n",
              "      <td>Yes</td>\n",
              "      <td>NaN</td>\n",
              "      <td>No</td>\n",
              "      <td>NaN</td>\n",
              "      <td>14-03-2016</td>\n",
              "      <td>NaN</td>\n",
              "      <td>26-11-1993</td>\n",
              "      <td>NaN</td>\n",
              "      <td>NaN</td>\n",
              "      <td>NaN</td>\n",
              "      <td>At Target</td>\n",
              "      <td>MA/MS</td>\n",
              "    </tr>\n",
              "    <tr>\n",
              "      <th>3</th>\n",
              "      <td>A0004</td>\n",
              "      <td>31-12-2016</td>\n",
              "      <td>Active</td>\n",
              "      <td>1</td>\n",
              "      <td>12-09-2016</td>\n",
              "      <td>Yes</td>\n",
              "      <td>NaN</td>\n",
              "      <td>No</td>\n",
              "      <td>NaN</td>\n",
              "      <td>12-09-2016</td>\n",
              "      <td>NaN</td>\n",
              "      <td>28-03-1993</td>\n",
              "      <td>NaN</td>\n",
              "      <td>NaN</td>\n",
              "      <td>NaN</td>\n",
              "      <td>At Target</td>\n",
              "      <td>BA/BS</td>\n",
              "    </tr>\n",
              "    <tr>\n",
              "      <th>4</th>\n",
              "      <td>A0005</td>\n",
              "      <td>31-12-2016</td>\n",
              "      <td>Active</td>\n",
              "      <td>1</td>\n",
              "      <td>19-04-2016</td>\n",
              "      <td>Yes</td>\n",
              "      <td>NaN</td>\n",
              "      <td>No</td>\n",
              "      <td>NaN</td>\n",
              "      <td>19-04-2016</td>\n",
              "      <td>NaN</td>\n",
              "      <td>01-09-1992</td>\n",
              "      <td>NaN</td>\n",
              "      <td>NaN</td>\n",
              "      <td>NaN</td>\n",
              "      <td>At Target</td>\n",
              "      <td>BA/BS</td>\n",
              "    </tr>\n",
              "  </tbody>\n",
              "</table>\n",
              "</div>"
            ],
            "text/plain": [
              "  Employee ID Data Effective Date  ...     Rating  Education\\n(Highest\\nDegree)\n",
              "0       A0001          31-12-2016  ...  At Target                         BA/BS\n",
              "1       A0002          31-12-2016  ...  At Target                         BA/BS\n",
              "2       A0003          31-12-2016  ...  At Target                         MA/MS\n",
              "3       A0004          31-12-2016  ...  At Target                         BA/BS\n",
              "4       A0005          31-12-2016  ...  At Target                         BA/BS\n",
              "\n",
              "[5 rows x 17 columns]"
            ]
          },
          "metadata": {
            "tags": []
          },
          "execution_count": 5
        }
      ]
    },
    {
      "cell_type": "code",
      "metadata": {
        "id": "onrU8slZ52DN",
        "outputId": "0b71aeb8-3912-40de-ceb9-68192c5e287e",
        "colab": {
          "base_uri": "https://localhost:8080/"
        }
      },
      "source": [
        "df.info()"
      ],
      "execution_count": null,
      "outputs": [
        {
          "output_type": "stream",
          "text": [
            "<class 'pandas.core.frame.DataFrame'>\n",
            "RangeIndex: 6328 entries, 0 to 6327\n",
            "Data columns (total 17 columns):\n",
            " #   Column                                            Non-Null Count  Dtype  \n",
            "---  ------                                            --------------  -----  \n",
            " 0   Employee ID                                       6328 non-null   object \n",
            " 1   Data Effective Date                               6328 non-null   object \n",
            " 2   Employee\n",
            "Status\n",
            "                                  6328 non-null   object \n",
            " 3   Career Level \n",
            "(1=lowest, 6=highest)\n",
            "              6328 non-null   int64  \n",
            " 4   Hired Date                                        6328 non-null   object \n",
            " 5   Hired in FY\n",
            "(Yes/No)                              6328 non-null   object \n",
            " 6   Termination Date                                  408 non-null    object \n",
            " 7   Terminated\n",
            "in FY\n",
            "(Yes/No)                         6328 non-null   object \n",
            " 8   Termination Type\n",
            "(Voluntary or Involuntary Exit)  408 non-null    object \n",
            " 9   Job Start Date                                    6328 non-null   object \n",
            " 10  Promoted\n",
            "in FY\n",
            "(Yes/No)                           5293 non-null   object \n",
            " 11  Birth Date                                        6328 non-null   object \n",
            " 12  Age\n",
            "(Years)                                       0 non-null      float64\n",
            " 13  Tenure\n",
            "(Years)                                    0 non-null      float64\n",
            " 14  Time in\n",
            "Job (Years)                               0 non-null      float64\n",
            " 15  Rating                                            6328 non-null   object \n",
            " 16  Education\n",
            "(Highest\n",
            "Degree)                        6328 non-null   object \n",
            "dtypes: float64(3), int64(1), object(13)\n",
            "memory usage: 840.6+ KB\n"
          ],
          "name": "stdout"
        }
      ]
    },
    {
      "cell_type": "code",
      "metadata": {
        "id": "B-2T1YHB8H7W",
        "outputId": "810a64e6-718c-4783-86bf-b5e4763c2183",
        "colab": {
          "base_uri": "https://localhost:8080/"
        }
      },
      "source": [
        "df[\"Termination Date\"].values"
      ],
      "execution_count": null,
      "outputs": [
        {
          "output_type": "execute_result",
          "data": {
            "text/plain": [
              "array([nan, nan, nan, ..., '13-09-2016', '12-07-2016', '25-01-2016'],\n",
              "      dtype=object)"
            ]
          },
          "metadata": {
            "tags": []
          },
          "execution_count": 7
        }
      ]
    },
    {
      "cell_type": "code",
      "metadata": {
        "id": "KyfgNE5f9ERh",
        "outputId": "e14f3ead-1483-4d21-b591-8a5b7789b87c",
        "colab": {
          "base_uri": "https://localhost:8080/"
        }
      },
      "source": [
        "df['''Termination Type\n",
        "(Voluntary or Involuntary Exit)'''].values"
      ],
      "execution_count": null,
      "outputs": [
        {
          "output_type": "execute_result",
          "data": {
            "text/plain": [
              "array([nan, nan, nan, ..., 'Voluntary Exit', 'Voluntary Exit',\n",
              "       'Voluntary Exit'], dtype=object)"
            ]
          },
          "metadata": {
            "tags": []
          },
          "execution_count": 8
        }
      ]
    },
    {
      "cell_type": "code",
      "metadata": {
        "id": "D5_OjD2D9YIu",
        "outputId": "c0bde8f2-3cd1-408d-f1d8-9f9cb83a4916",
        "colab": {
          "base_uri": "https://localhost:8080/"
        }
      },
      "source": [
        "df['''Promoted\n",
        "in FY\n",
        "(Yes/No)'''].values"
      ],
      "execution_count": null,
      "outputs": [
        {
          "output_type": "execute_result",
          "data": {
            "text/plain": [
              "array([nan, nan, nan, ..., 'No', 'No', 'No'], dtype=object)"
            ]
          },
          "metadata": {
            "tags": []
          },
          "execution_count": 9
        }
      ]
    },
    {
      "cell_type": "code",
      "metadata": {
        "id": "R5wi6i3X91EZ",
        "outputId": "31673a10-3182-43db-b973-3739cfd435a7",
        "colab": {
          "base_uri": "https://localhost:8080/"
        }
      },
      "source": [
        "df['''Age\n",
        "(Years)'''].values"
      ],
      "execution_count": null,
      "outputs": [
        {
          "output_type": "execute_result",
          "data": {
            "text/plain": [
              "array([nan, nan, nan, ..., nan, nan, nan])"
            ]
          },
          "metadata": {
            "tags": []
          },
          "execution_count": 10
        }
      ]
    },
    {
      "cell_type": "code",
      "metadata": {
        "id": "9HYsDywP99-K",
        "outputId": "afd02cd9-af1a-4bdb-f945-e7bc5ac43df2",
        "colab": {
          "base_uri": "https://localhost:8080/"
        }
      },
      "source": [
        "df['''Tenure\n",
        "(Years)'''].values"
      ],
      "execution_count": null,
      "outputs": [
        {
          "output_type": "execute_result",
          "data": {
            "text/plain": [
              "array([nan, nan, nan, ..., nan, nan, nan])"
            ]
          },
          "metadata": {
            "tags": []
          },
          "execution_count": 11
        }
      ]
    },
    {
      "cell_type": "code",
      "metadata": {
        "id": "nBQnzqweY6XH",
        "outputId": "8b1f0e12-b751-490e-f8c9-e2d48f464baa",
        "colab": {
          "base_uri": "https://localhost:8080/"
        }
      },
      "source": [
        "df['''Time in\n",
        "Job (Years)'''].values"
      ],
      "execution_count": null,
      "outputs": [
        {
          "output_type": "execute_result",
          "data": {
            "text/plain": [
              "array([nan, nan, nan, ..., nan, nan, nan])"
            ]
          },
          "metadata": {
            "tags": []
          },
          "execution_count": 12
        }
      ]
    },
    {
      "cell_type": "code",
      "metadata": {
        "id": "r8VOCv8ZZHz_",
        "outputId": "e365a9e1-eea4-4976-9953-639952023d9a",
        "colab": {
          "base_uri": "https://localhost:8080/"
        }
      },
      "source": [
        "df.dtypes"
      ],
      "execution_count": null,
      "outputs": [
        {
          "output_type": "execute_result",
          "data": {
            "text/plain": [
              "Employee ID                                           object\n",
              "Data Effective Date                                   object\n",
              "Employee\\nStatus\\n                                    object\n",
              "Career Level \\n(1=lowest, 6=highest)\\n                 int64\n",
              "Hired Date                                            object\n",
              "Hired in FY\\n(Yes/No)                                 object\n",
              "Termination Date                                      object\n",
              "Terminated\\nin FY\\n(Yes/No)                           object\n",
              "Termination Type\\n(Voluntary or Involuntary Exit)     object\n",
              "Job Start Date                                        object\n",
              "Promoted\\nin FY\\n(Yes/No)                             object\n",
              "Birth Date                                            object\n",
              "Age\\n(Years)                                         float64\n",
              "Tenure\\n(Years)                                      float64\n",
              "Time in\\nJob (Years)                                 float64\n",
              "Rating                                                object\n",
              "Education\\n(Highest\\nDegree)                          object\n",
              "dtype: object"
            ]
          },
          "metadata": {
            "tags": []
          },
          "execution_count": 13
        }
      ]
    },
    {
      "cell_type": "code",
      "metadata": {
        "id": "Fw_ozjSubB96"
      },
      "source": [
        "df[[\"Data Effective Date\",\"Hired Date\",\"Termination Date\",\"Job Start Date\",\"Birth Date\"]]=df[[\"Data Effective Date\",\"Hired Date\",\"Termination Date\",\"Job Start Date\",\"Birth Date\"]].apply(pd.to_datetime)"
      ],
      "execution_count": null,
      "outputs": []
    },
    {
      "cell_type": "code",
      "metadata": {
        "id": "-eS3eSHkbUlP",
        "outputId": "a6d4ea54-790a-4873-834e-f27be4ee8d37",
        "colab": {
          "base_uri": "https://localhost:8080/"
        }
      },
      "source": [
        "df.dtypes"
      ],
      "execution_count": null,
      "outputs": [
        {
          "output_type": "execute_result",
          "data": {
            "text/plain": [
              "Employee ID                                                  object\n",
              "Data Effective Date                                  datetime64[ns]\n",
              "Employee\\nStatus\\n                                           object\n",
              "Career Level \\n(1=lowest, 6=highest)\\n                        int64\n",
              "Hired Date                                           datetime64[ns]\n",
              "Hired in FY\\n(Yes/No)                                        object\n",
              "Termination Date                                     datetime64[ns]\n",
              "Terminated\\nin FY\\n(Yes/No)                                  object\n",
              "Termination Type\\n(Voluntary or Involuntary Exit)            object\n",
              "Job Start Date                                       datetime64[ns]\n",
              "Promoted\\nin FY\\n(Yes/No)                                    object\n",
              "Birth Date                                           datetime64[ns]\n",
              "Age\\n(Years)                                                float64\n",
              "Tenure\\n(Years)                                             float64\n",
              "Time in\\nJob (Years)                                        float64\n",
              "Rating                                                       object\n",
              "Education\\n(Highest\\nDegree)                                 object\n",
              "dtype: object"
            ]
          },
          "metadata": {
            "tags": []
          },
          "execution_count": 15
        }
      ]
    },
    {
      "cell_type": "code",
      "metadata": {
        "id": "ph2xlaNAbp_F",
        "outputId": "c6e9eb6c-78c7-4a3c-b35d-fef4d1c4494c",
        "colab": {
          "base_uri": "https://localhost:8080/",
          "height": 355
        }
      },
      "source": [
        "df.head()"
      ],
      "execution_count": null,
      "outputs": [
        {
          "output_type": "execute_result",
          "data": {
            "text/html": [
              "<div>\n",
              "<style scoped>\n",
              "    .dataframe tbody tr th:only-of-type {\n",
              "        vertical-align: middle;\n",
              "    }\n",
              "\n",
              "    .dataframe tbody tr th {\n",
              "        vertical-align: top;\n",
              "    }\n",
              "\n",
              "    .dataframe thead th {\n",
              "        text-align: right;\n",
              "    }\n",
              "</style>\n",
              "<table border=\"1\" class=\"dataframe\">\n",
              "  <thead>\n",
              "    <tr style=\"text-align: right;\">\n",
              "      <th></th>\n",
              "      <th>Employee ID</th>\n",
              "      <th>Data Effective Date</th>\n",
              "      <th>Employee\\nStatus\\n</th>\n",
              "      <th>Career Level \\n(1=lowest, 6=highest)\\n</th>\n",
              "      <th>Hired Date</th>\n",
              "      <th>Hired in FY\\n(Yes/No)</th>\n",
              "      <th>Termination Date</th>\n",
              "      <th>Terminated\\nin FY\\n(Yes/No)</th>\n",
              "      <th>Termination Type\\n(Voluntary or Involuntary Exit)</th>\n",
              "      <th>Job Start Date</th>\n",
              "      <th>Promoted\\nin FY\\n(Yes/No)</th>\n",
              "      <th>Birth Date</th>\n",
              "      <th>Age\\n(Years)</th>\n",
              "      <th>Tenure\\n(Years)</th>\n",
              "      <th>Time in\\nJob (Years)</th>\n",
              "      <th>Rating</th>\n",
              "      <th>Education\\n(Highest\\nDegree)</th>\n",
              "    </tr>\n",
              "  </thead>\n",
              "  <tbody>\n",
              "    <tr>\n",
              "      <th>0</th>\n",
              "      <td>A0001</td>\n",
              "      <td>2016-12-31</td>\n",
              "      <td>Active</td>\n",
              "      <td>1</td>\n",
              "      <td>2016-12-09</td>\n",
              "      <td>Yes</td>\n",
              "      <td>NaT</td>\n",
              "      <td>No</td>\n",
              "      <td>NaN</td>\n",
              "      <td>2016-12-09</td>\n",
              "      <td>NaN</td>\n",
              "      <td>1992-09-21</td>\n",
              "      <td>NaN</td>\n",
              "      <td>NaN</td>\n",
              "      <td>NaN</td>\n",
              "      <td>At Target</td>\n",
              "      <td>BA/BS</td>\n",
              "    </tr>\n",
              "    <tr>\n",
              "      <th>1</th>\n",
              "      <td>A0002</td>\n",
              "      <td>2016-12-31</td>\n",
              "      <td>Active</td>\n",
              "      <td>1</td>\n",
              "      <td>2016-04-19</td>\n",
              "      <td>Yes</td>\n",
              "      <td>NaT</td>\n",
              "      <td>No</td>\n",
              "      <td>NaN</td>\n",
              "      <td>2016-04-19</td>\n",
              "      <td>NaN</td>\n",
              "      <td>1993-11-16</td>\n",
              "      <td>NaN</td>\n",
              "      <td>NaN</td>\n",
              "      <td>NaN</td>\n",
              "      <td>At Target</td>\n",
              "      <td>BA/BS</td>\n",
              "    </tr>\n",
              "    <tr>\n",
              "      <th>2</th>\n",
              "      <td>A0003</td>\n",
              "      <td>2016-12-31</td>\n",
              "      <td>Active</td>\n",
              "      <td>1</td>\n",
              "      <td>2016-03-14</td>\n",
              "      <td>Yes</td>\n",
              "      <td>NaT</td>\n",
              "      <td>No</td>\n",
              "      <td>NaN</td>\n",
              "      <td>2016-03-14</td>\n",
              "      <td>NaN</td>\n",
              "      <td>1993-11-26</td>\n",
              "      <td>NaN</td>\n",
              "      <td>NaN</td>\n",
              "      <td>NaN</td>\n",
              "      <td>At Target</td>\n",
              "      <td>MA/MS</td>\n",
              "    </tr>\n",
              "    <tr>\n",
              "      <th>3</th>\n",
              "      <td>A0004</td>\n",
              "      <td>2016-12-31</td>\n",
              "      <td>Active</td>\n",
              "      <td>1</td>\n",
              "      <td>2016-12-09</td>\n",
              "      <td>Yes</td>\n",
              "      <td>NaT</td>\n",
              "      <td>No</td>\n",
              "      <td>NaN</td>\n",
              "      <td>2016-12-09</td>\n",
              "      <td>NaN</td>\n",
              "      <td>1993-03-28</td>\n",
              "      <td>NaN</td>\n",
              "      <td>NaN</td>\n",
              "      <td>NaN</td>\n",
              "      <td>At Target</td>\n",
              "      <td>BA/BS</td>\n",
              "    </tr>\n",
              "    <tr>\n",
              "      <th>4</th>\n",
              "      <td>A0005</td>\n",
              "      <td>2016-12-31</td>\n",
              "      <td>Active</td>\n",
              "      <td>1</td>\n",
              "      <td>2016-04-19</td>\n",
              "      <td>Yes</td>\n",
              "      <td>NaT</td>\n",
              "      <td>No</td>\n",
              "      <td>NaN</td>\n",
              "      <td>2016-04-19</td>\n",
              "      <td>NaN</td>\n",
              "      <td>1992-01-09</td>\n",
              "      <td>NaN</td>\n",
              "      <td>NaN</td>\n",
              "      <td>NaN</td>\n",
              "      <td>At Target</td>\n",
              "      <td>BA/BS</td>\n",
              "    </tr>\n",
              "  </tbody>\n",
              "</table>\n",
              "</div>"
            ],
            "text/plain": [
              "  Employee ID Data Effective Date  ...     Rating  Education\\n(Highest\\nDegree)\n",
              "0       A0001          2016-12-31  ...  At Target                         BA/BS\n",
              "1       A0002          2016-12-31  ...  At Target                         BA/BS\n",
              "2       A0003          2016-12-31  ...  At Target                         MA/MS\n",
              "3       A0004          2016-12-31  ...  At Target                         BA/BS\n",
              "4       A0005          2016-12-31  ...  At Target                         BA/BS\n",
              "\n",
              "[5 rows x 17 columns]"
            ]
          },
          "metadata": {
            "tags": []
          },
          "execution_count": 16
        }
      ]
    },
    {
      "cell_type": "code",
      "metadata": {
        "id": "M6QWcFFKRqw5",
        "outputId": "f6067a39-166f-47b0-9e97-e314d8ede478",
        "colab": {
          "base_uri": "https://localhost:8080/"
        }
      },
      "source": [
        "df[\"Birth Date\"].values[0]"
      ],
      "execution_count": null,
      "outputs": [
        {
          "output_type": "execute_result",
          "data": {
            "text/plain": [
              "numpy.datetime64('1992-09-21T00:00:00.000000000')"
            ]
          },
          "metadata": {
            "tags": []
          },
          "execution_count": 17
        }
      ]
    },
    {
      "cell_type": "code",
      "metadata": {
        "id": "4zWqB-THUvzo",
        "outputId": "17c9f39d-ec10-47ec-a6f1-8c74fe5fa211",
        "colab": {
          "base_uri": "https://localhost:8080/",
          "height": 355
        }
      },
      "source": [
        "df[\"Age\\n(Years)\"]=pd.Series((df[\"Data Effective Date\"]-df[\"Birth Date\"])/np.timedelta64(1,\"Y\")).astype(int)\n",
        "df.head()"
      ],
      "execution_count": null,
      "outputs": [
        {
          "output_type": "execute_result",
          "data": {
            "text/html": [
              "<div>\n",
              "<style scoped>\n",
              "    .dataframe tbody tr th:only-of-type {\n",
              "        vertical-align: middle;\n",
              "    }\n",
              "\n",
              "    .dataframe tbody tr th {\n",
              "        vertical-align: top;\n",
              "    }\n",
              "\n",
              "    .dataframe thead th {\n",
              "        text-align: right;\n",
              "    }\n",
              "</style>\n",
              "<table border=\"1\" class=\"dataframe\">\n",
              "  <thead>\n",
              "    <tr style=\"text-align: right;\">\n",
              "      <th></th>\n",
              "      <th>Employee ID</th>\n",
              "      <th>Data Effective Date</th>\n",
              "      <th>Employee\\nStatus\\n</th>\n",
              "      <th>Career Level \\n(1=lowest, 6=highest)\\n</th>\n",
              "      <th>Hired Date</th>\n",
              "      <th>Hired in FY\\n(Yes/No)</th>\n",
              "      <th>Termination Date</th>\n",
              "      <th>Terminated\\nin FY\\n(Yes/No)</th>\n",
              "      <th>Termination Type\\n(Voluntary or Involuntary Exit)</th>\n",
              "      <th>Job Start Date</th>\n",
              "      <th>Promoted\\nin FY\\n(Yes/No)</th>\n",
              "      <th>Birth Date</th>\n",
              "      <th>Age\\n(Years)</th>\n",
              "      <th>Tenure\\n(Years)</th>\n",
              "      <th>Time in\\nJob (Years)</th>\n",
              "      <th>Rating</th>\n",
              "      <th>Education\\n(Highest\\nDegree)</th>\n",
              "    </tr>\n",
              "  </thead>\n",
              "  <tbody>\n",
              "    <tr>\n",
              "      <th>0</th>\n",
              "      <td>A0001</td>\n",
              "      <td>2016-12-31</td>\n",
              "      <td>Active</td>\n",
              "      <td>1</td>\n",
              "      <td>2016-12-09</td>\n",
              "      <td>Yes</td>\n",
              "      <td>NaT</td>\n",
              "      <td>No</td>\n",
              "      <td>NaN</td>\n",
              "      <td>2016-12-09</td>\n",
              "      <td>NaN</td>\n",
              "      <td>1992-09-21</td>\n",
              "      <td>24</td>\n",
              "      <td>NaN</td>\n",
              "      <td>NaN</td>\n",
              "      <td>At Target</td>\n",
              "      <td>BA/BS</td>\n",
              "    </tr>\n",
              "    <tr>\n",
              "      <th>1</th>\n",
              "      <td>A0002</td>\n",
              "      <td>2016-12-31</td>\n",
              "      <td>Active</td>\n",
              "      <td>1</td>\n",
              "      <td>2016-04-19</td>\n",
              "      <td>Yes</td>\n",
              "      <td>NaT</td>\n",
              "      <td>No</td>\n",
              "      <td>NaN</td>\n",
              "      <td>2016-04-19</td>\n",
              "      <td>NaN</td>\n",
              "      <td>1993-11-16</td>\n",
              "      <td>23</td>\n",
              "      <td>NaN</td>\n",
              "      <td>NaN</td>\n",
              "      <td>At Target</td>\n",
              "      <td>BA/BS</td>\n",
              "    </tr>\n",
              "    <tr>\n",
              "      <th>2</th>\n",
              "      <td>A0003</td>\n",
              "      <td>2016-12-31</td>\n",
              "      <td>Active</td>\n",
              "      <td>1</td>\n",
              "      <td>2016-03-14</td>\n",
              "      <td>Yes</td>\n",
              "      <td>NaT</td>\n",
              "      <td>No</td>\n",
              "      <td>NaN</td>\n",
              "      <td>2016-03-14</td>\n",
              "      <td>NaN</td>\n",
              "      <td>1993-11-26</td>\n",
              "      <td>23</td>\n",
              "      <td>NaN</td>\n",
              "      <td>NaN</td>\n",
              "      <td>At Target</td>\n",
              "      <td>MA/MS</td>\n",
              "    </tr>\n",
              "    <tr>\n",
              "      <th>3</th>\n",
              "      <td>A0004</td>\n",
              "      <td>2016-12-31</td>\n",
              "      <td>Active</td>\n",
              "      <td>1</td>\n",
              "      <td>2016-12-09</td>\n",
              "      <td>Yes</td>\n",
              "      <td>NaT</td>\n",
              "      <td>No</td>\n",
              "      <td>NaN</td>\n",
              "      <td>2016-12-09</td>\n",
              "      <td>NaN</td>\n",
              "      <td>1993-03-28</td>\n",
              "      <td>23</td>\n",
              "      <td>NaN</td>\n",
              "      <td>NaN</td>\n",
              "      <td>At Target</td>\n",
              "      <td>BA/BS</td>\n",
              "    </tr>\n",
              "    <tr>\n",
              "      <th>4</th>\n",
              "      <td>A0005</td>\n",
              "      <td>2016-12-31</td>\n",
              "      <td>Active</td>\n",
              "      <td>1</td>\n",
              "      <td>2016-04-19</td>\n",
              "      <td>Yes</td>\n",
              "      <td>NaT</td>\n",
              "      <td>No</td>\n",
              "      <td>NaN</td>\n",
              "      <td>2016-04-19</td>\n",
              "      <td>NaN</td>\n",
              "      <td>1992-01-09</td>\n",
              "      <td>24</td>\n",
              "      <td>NaN</td>\n",
              "      <td>NaN</td>\n",
              "      <td>At Target</td>\n",
              "      <td>BA/BS</td>\n",
              "    </tr>\n",
              "  </tbody>\n",
              "</table>\n",
              "</div>"
            ],
            "text/plain": [
              "  Employee ID Data Effective Date  ...     Rating  Education\\n(Highest\\nDegree)\n",
              "0       A0001          2016-12-31  ...  At Target                         BA/BS\n",
              "1       A0002          2016-12-31  ...  At Target                         BA/BS\n",
              "2       A0003          2016-12-31  ...  At Target                         MA/MS\n",
              "3       A0004          2016-12-31  ...  At Target                         BA/BS\n",
              "4       A0005          2016-12-31  ...  At Target                         BA/BS\n",
              "\n",
              "[5 rows x 17 columns]"
            ]
          },
          "metadata": {
            "tags": []
          },
          "execution_count": 18
        }
      ]
    },
    {
      "cell_type": "code",
      "metadata": {
        "id": "k9IfYGg0es5S",
        "outputId": "9cde7430-c7b8-46db-cc37-fa968e95304a",
        "colab": {
          "base_uri": "https://localhost:8080/"
        }
      },
      "source": [
        "age_cat=pd.cut(df[\"Age\\n(Years)\"],bins=[0,25,35,45,55,65,np.inf],labels=[\"<25\",\"25-35\",\"35-45\",\"45-55\",\"55-65<\",\"65<\"])\n",
        "age_cat"
      ],
      "execution_count": null,
      "outputs": [
        {
          "output_type": "execute_result",
          "data": {
            "text/plain": [
              "0          <25\n",
              "1          <25\n",
              "2          <25\n",
              "3          <25\n",
              "4          <25\n",
              "         ...  \n",
              "6323    55-65<\n",
              "6324    55-65<\n",
              "6325     45-55\n",
              "6326    55-65<\n",
              "6327    55-65<\n",
              "Name: Age\\n(Years), Length: 6328, dtype: category\n",
              "Categories (6, object): ['<25' < '25-35' < '35-45' < '45-55' < '55-65<' < '65<']"
            ]
          },
          "metadata": {
            "tags": []
          },
          "execution_count": 19
        }
      ]
    },
    {
      "cell_type": "code",
      "metadata": {
        "id": "6cs5GmR9hbc7"
      },
      "source": [
        "df[\"age_cat\"]=age_cat"
      ],
      "execution_count": null,
      "outputs": []
    },
    {
      "cell_type": "code",
      "metadata": {
        "id": "7q3IEOWlhViV",
        "outputId": "d4cc06c0-2f9d-4d43-f1b2-75acb62a3e03",
        "colab": {
          "base_uri": "https://localhost:8080/",
          "height": 355
        }
      },
      "source": [
        "df.head()"
      ],
      "execution_count": null,
      "outputs": [
        {
          "output_type": "execute_result",
          "data": {
            "text/html": [
              "<div>\n",
              "<style scoped>\n",
              "    .dataframe tbody tr th:only-of-type {\n",
              "        vertical-align: middle;\n",
              "    }\n",
              "\n",
              "    .dataframe tbody tr th {\n",
              "        vertical-align: top;\n",
              "    }\n",
              "\n",
              "    .dataframe thead th {\n",
              "        text-align: right;\n",
              "    }\n",
              "</style>\n",
              "<table border=\"1\" class=\"dataframe\">\n",
              "  <thead>\n",
              "    <tr style=\"text-align: right;\">\n",
              "      <th></th>\n",
              "      <th>Employee ID</th>\n",
              "      <th>Data Effective Date</th>\n",
              "      <th>Employee\\nStatus\\n</th>\n",
              "      <th>Career Level \\n(1=lowest, 6=highest)\\n</th>\n",
              "      <th>Hired Date</th>\n",
              "      <th>Hired in FY\\n(Yes/No)</th>\n",
              "      <th>Termination Date</th>\n",
              "      <th>Terminated\\nin FY\\n(Yes/No)</th>\n",
              "      <th>Termination Type\\n(Voluntary or Involuntary Exit)</th>\n",
              "      <th>Job Start Date</th>\n",
              "      <th>Promoted\\nin FY\\n(Yes/No)</th>\n",
              "      <th>Birth Date</th>\n",
              "      <th>Age\\n(Years)</th>\n",
              "      <th>Tenure\\n(Years)</th>\n",
              "      <th>Time in\\nJob (Years)</th>\n",
              "      <th>Rating</th>\n",
              "      <th>Education\\n(Highest\\nDegree)</th>\n",
              "      <th>age_cat</th>\n",
              "    </tr>\n",
              "  </thead>\n",
              "  <tbody>\n",
              "    <tr>\n",
              "      <th>0</th>\n",
              "      <td>A0001</td>\n",
              "      <td>2016-12-31</td>\n",
              "      <td>Active</td>\n",
              "      <td>1</td>\n",
              "      <td>2016-12-09</td>\n",
              "      <td>Yes</td>\n",
              "      <td>NaT</td>\n",
              "      <td>No</td>\n",
              "      <td>NaN</td>\n",
              "      <td>2016-12-09</td>\n",
              "      <td>NaN</td>\n",
              "      <td>1992-09-21</td>\n",
              "      <td>24</td>\n",
              "      <td>NaN</td>\n",
              "      <td>NaN</td>\n",
              "      <td>At Target</td>\n",
              "      <td>BA/BS</td>\n",
              "      <td>&lt;25</td>\n",
              "    </tr>\n",
              "    <tr>\n",
              "      <th>1</th>\n",
              "      <td>A0002</td>\n",
              "      <td>2016-12-31</td>\n",
              "      <td>Active</td>\n",
              "      <td>1</td>\n",
              "      <td>2016-04-19</td>\n",
              "      <td>Yes</td>\n",
              "      <td>NaT</td>\n",
              "      <td>No</td>\n",
              "      <td>NaN</td>\n",
              "      <td>2016-04-19</td>\n",
              "      <td>NaN</td>\n",
              "      <td>1993-11-16</td>\n",
              "      <td>23</td>\n",
              "      <td>NaN</td>\n",
              "      <td>NaN</td>\n",
              "      <td>At Target</td>\n",
              "      <td>BA/BS</td>\n",
              "      <td>&lt;25</td>\n",
              "    </tr>\n",
              "    <tr>\n",
              "      <th>2</th>\n",
              "      <td>A0003</td>\n",
              "      <td>2016-12-31</td>\n",
              "      <td>Active</td>\n",
              "      <td>1</td>\n",
              "      <td>2016-03-14</td>\n",
              "      <td>Yes</td>\n",
              "      <td>NaT</td>\n",
              "      <td>No</td>\n",
              "      <td>NaN</td>\n",
              "      <td>2016-03-14</td>\n",
              "      <td>NaN</td>\n",
              "      <td>1993-11-26</td>\n",
              "      <td>23</td>\n",
              "      <td>NaN</td>\n",
              "      <td>NaN</td>\n",
              "      <td>At Target</td>\n",
              "      <td>MA/MS</td>\n",
              "      <td>&lt;25</td>\n",
              "    </tr>\n",
              "    <tr>\n",
              "      <th>3</th>\n",
              "      <td>A0004</td>\n",
              "      <td>2016-12-31</td>\n",
              "      <td>Active</td>\n",
              "      <td>1</td>\n",
              "      <td>2016-12-09</td>\n",
              "      <td>Yes</td>\n",
              "      <td>NaT</td>\n",
              "      <td>No</td>\n",
              "      <td>NaN</td>\n",
              "      <td>2016-12-09</td>\n",
              "      <td>NaN</td>\n",
              "      <td>1993-03-28</td>\n",
              "      <td>23</td>\n",
              "      <td>NaN</td>\n",
              "      <td>NaN</td>\n",
              "      <td>At Target</td>\n",
              "      <td>BA/BS</td>\n",
              "      <td>&lt;25</td>\n",
              "    </tr>\n",
              "    <tr>\n",
              "      <th>4</th>\n",
              "      <td>A0005</td>\n",
              "      <td>2016-12-31</td>\n",
              "      <td>Active</td>\n",
              "      <td>1</td>\n",
              "      <td>2016-04-19</td>\n",
              "      <td>Yes</td>\n",
              "      <td>NaT</td>\n",
              "      <td>No</td>\n",
              "      <td>NaN</td>\n",
              "      <td>2016-04-19</td>\n",
              "      <td>NaN</td>\n",
              "      <td>1992-01-09</td>\n",
              "      <td>24</td>\n",
              "      <td>NaN</td>\n",
              "      <td>NaN</td>\n",
              "      <td>At Target</td>\n",
              "      <td>BA/BS</td>\n",
              "      <td>&lt;25</td>\n",
              "    </tr>\n",
              "  </tbody>\n",
              "</table>\n",
              "</div>"
            ],
            "text/plain": [
              "  Employee ID Data Effective Date  ... Education\\n(Highest\\nDegree)  age_cat\n",
              "0       A0001          2016-12-31  ...                        BA/BS      <25\n",
              "1       A0002          2016-12-31  ...                        BA/BS      <25\n",
              "2       A0003          2016-12-31  ...                        MA/MS      <25\n",
              "3       A0004          2016-12-31  ...                        BA/BS      <25\n",
              "4       A0005          2016-12-31  ...                        BA/BS      <25\n",
              "\n",
              "[5 rows x 18 columns]"
            ]
          },
          "metadata": {
            "tags": []
          },
          "execution_count": 21
        }
      ]
    },
    {
      "cell_type": "code",
      "metadata": {
        "id": "oxOjz6NOODFn",
        "outputId": "5f6b97e7-5c37-427c-fcb8-a9d3e7cd1e07",
        "colab": {
          "base_uri": "https://localhost:8080/"
        }
      },
      "source": [
        "len(df)"
      ],
      "execution_count": null,
      "outputs": [
        {
          "output_type": "execute_result",
          "data": {
            "text/plain": [
              "6328"
            ]
          },
          "metadata": {
            "tags": []
          },
          "execution_count": 22
        }
      ]
    },
    {
      "cell_type": "code",
      "metadata": {
        "id": "LBgp6cIZN_Pc",
        "outputId": "032c2273-955c-4d87-968d-3076be050327",
        "colab": {
          "base_uri": "https://localhost:8080/"
        }
      },
      "source": [
        "df[\"Employee\\nStatus\\n\"].value_counts()"
      ],
      "execution_count": null,
      "outputs": [
        {
          "output_type": "execute_result",
          "data": {
            "text/plain": [
              "Active        5920\n",
              "Terminated     408\n",
              "Name: Employee\\nStatus\\n, dtype: int64"
            ]
          },
          "metadata": {
            "tags": []
          },
          "execution_count": 23
        }
      ]
    },
    {
      "cell_type": "code",
      "metadata": {
        "id": "cEfOOkXpIzQ8",
        "outputId": "337d421a-f141-4cd8-f592-d874717a0f9c",
        "colab": {
          "base_uri": "https://localhost:8080/"
        }
      },
      "source": [
        "(df[\"Employee\\nStatus\\n\"].value_counts()/df[\"Employee\\nStatus\\n\"].value_counts().values.sum())*100"
      ],
      "execution_count": null,
      "outputs": [
        {
          "output_type": "execute_result",
          "data": {
            "text/plain": [
              "Active        93.552465\n",
              "Terminated     6.447535\n",
              "Name: Employee\\nStatus\\n, dtype: float64"
            ]
          },
          "metadata": {
            "tags": []
          },
          "execution_count": 24
        }
      ]
    },
    {
      "cell_type": "code",
      "metadata": {
        "id": "ITmxUhS5MffA",
        "outputId": "ef2d4a4d-c547-4148-f0ef-fea89c85a118",
        "colab": {
          "base_uri": "https://localhost:8080/",
          "height": 377
        }
      },
      "source": [
        "fig=plt.gcf()\n",
        "fig.set_size_inches(8,5)\n",
        "sns.barplot((df[\"Employee\\nStatus\\n\"].value_counts()/df[\"Employee\\nStatus\\n\"].value_counts()).index,(df[\"Employee\\nStatus\\n\"].value_counts()/df[\"Employee\\nStatus\\n\"].value_counts().values.sum())*100)\n",
        "for i,value in enumerate((df[\"Employee\\nStatus\\n\"].value_counts()/df[\"Employee\\nStatus\\n\"].value_counts()).index):\n",
        "    x=i\n",
        "    y=int(round(((df[\"Employee\\nStatus\\n\"].value_counts()/df[\"Employee\\nStatus\\n\"].value_counts().values.sum())*100).loc[value]))\n",
        "    plt.text(x,y,str(y)+\"%\",ha=\"center\")"
      ],
      "execution_count": null,
      "outputs": [
        {
          "output_type": "stream",
          "text": [
            "/usr/local/lib/python3.6/dist-packages/seaborn/_decorators.py:43: FutureWarning: Pass the following variables as keyword args: x, y. From version 0.12, the only valid positional argument will be `data`, and passing other arguments without an explicit keyword will result in an error or misinterpretation.\n",
            "  FutureWarning\n"
          ],
          "name": "stderr"
        },
        {
          "output_type": "display_data",
          "data": {
            "image/png": "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\n",
            "text/plain": [
              "<Figure size 576x360 with 1 Axes>"
            ]
          },
          "metadata": {
            "tags": []
          }
        }
      ]
    },
    {
      "cell_type": "code",
      "metadata": {
        "id": "rNiu4mV8Txay",
        "outputId": "9b4e65b0-ee0c-4200-ede9-900061201e56",
        "colab": {
          "base_uri": "https://localhost:8080/"
        }
      },
      "source": [
        "~(df[\"Termination Date\"].isnull())"
      ],
      "execution_count": null,
      "outputs": [
        {
          "output_type": "execute_result",
          "data": {
            "text/plain": [
              "0       False\n",
              "1       False\n",
              "2       False\n",
              "3       False\n",
              "4       False\n",
              "        ...  \n",
              "6323     True\n",
              "6324     True\n",
              "6325     True\n",
              "6326     True\n",
              "6327     True\n",
              "Name: Termination Date, Length: 6328, dtype: bool"
            ]
          },
          "metadata": {
            "tags": []
          },
          "execution_count": 26
        }
      ]
    },
    {
      "cell_type": "code",
      "metadata": {
        "id": "BVVlqUpg6j6s"
      },
      "source": [
        "df_term=df[~(df[\"Termination Date\"].isnull())]"
      ],
      "execution_count": null,
      "outputs": []
    },
    {
      "cell_type": "code",
      "metadata": {
        "id": "ZSwqZjrTNMec",
        "outputId": "f5e6ba07-e2d3-4308-b237-a79a40060fea",
        "colab": {
          "base_uri": "https://localhost:8080/"
        }
      },
      "source": [
        "len(df_term)"
      ],
      "execution_count": null,
      "outputs": [
        {
          "output_type": "execute_result",
          "data": {
            "text/plain": [
              "408"
            ]
          },
          "metadata": {
            "tags": []
          },
          "execution_count": 28
        }
      ]
    },
    {
      "cell_type": "code",
      "metadata": {
        "id": "W0BolsWwPkbh",
        "outputId": "6c8e7c0f-b52e-47b9-8565-010cfaa8fa8b",
        "colab": {
          "base_uri": "https://localhost:8080/",
          "height": 355
        }
      },
      "source": [
        "df_term.head()"
      ],
      "execution_count": null,
      "outputs": [
        {
          "output_type": "execute_result",
          "data": {
            "text/html": [
              "<div>\n",
              "<style scoped>\n",
              "    .dataframe tbody tr th:only-of-type {\n",
              "        vertical-align: middle;\n",
              "    }\n",
              "\n",
              "    .dataframe tbody tr th {\n",
              "        vertical-align: top;\n",
              "    }\n",
              "\n",
              "    .dataframe thead th {\n",
              "        text-align: right;\n",
              "    }\n",
              "</style>\n",
              "<table border=\"1\" class=\"dataframe\">\n",
              "  <thead>\n",
              "    <tr style=\"text-align: right;\">\n",
              "      <th></th>\n",
              "      <th>Employee ID</th>\n",
              "      <th>Data Effective Date</th>\n",
              "      <th>Employee\\nStatus\\n</th>\n",
              "      <th>Career Level \\n(1=lowest, 6=highest)\\n</th>\n",
              "      <th>Hired Date</th>\n",
              "      <th>Hired in FY\\n(Yes/No)</th>\n",
              "      <th>Termination Date</th>\n",
              "      <th>Terminated\\nin FY\\n(Yes/No)</th>\n",
              "      <th>Termination Type\\n(Voluntary or Involuntary Exit)</th>\n",
              "      <th>Job Start Date</th>\n",
              "      <th>Promoted\\nin FY\\n(Yes/No)</th>\n",
              "      <th>Birth Date</th>\n",
              "      <th>Age\\n(Years)</th>\n",
              "      <th>Tenure\\n(Years)</th>\n",
              "      <th>Time in\\nJob (Years)</th>\n",
              "      <th>Rating</th>\n",
              "      <th>Education\\n(Highest\\nDegree)</th>\n",
              "      <th>age_cat</th>\n",
              "    </tr>\n",
              "  </thead>\n",
              "  <tbody>\n",
              "    <tr>\n",
              "      <th>5920</th>\n",
              "      <td>A5921</td>\n",
              "      <td>2016-12-31</td>\n",
              "      <td>Terminated</td>\n",
              "      <td>1</td>\n",
              "      <td>2015-02-11</td>\n",
              "      <td>Yes</td>\n",
              "      <td>2016-09-26</td>\n",
              "      <td>Yes</td>\n",
              "      <td>Voluntary Exit</td>\n",
              "      <td>2015-02-11</td>\n",
              "      <td>NaN</td>\n",
              "      <td>1992-07-06</td>\n",
              "      <td>24</td>\n",
              "      <td>NaN</td>\n",
              "      <td>NaN</td>\n",
              "      <td>At Target</td>\n",
              "      <td>BA/BS</td>\n",
              "      <td>&lt;25</td>\n",
              "    </tr>\n",
              "    <tr>\n",
              "      <th>5921</th>\n",
              "      <td>A5922</td>\n",
              "      <td>2016-12-31</td>\n",
              "      <td>Terminated</td>\n",
              "      <td>1</td>\n",
              "      <td>2016-04-08</td>\n",
              "      <td>Yes</td>\n",
              "      <td>2016-10-16</td>\n",
              "      <td>Yes</td>\n",
              "      <td>Voluntary Exit</td>\n",
              "      <td>2016-04-08</td>\n",
              "      <td>NaN</td>\n",
              "      <td>1994-05-31</td>\n",
              "      <td>22</td>\n",
              "      <td>NaN</td>\n",
              "      <td>NaN</td>\n",
              "      <td>At Target</td>\n",
              "      <td>MA/MS</td>\n",
              "      <td>&lt;25</td>\n",
              "    </tr>\n",
              "    <tr>\n",
              "      <th>5922</th>\n",
              "      <td>A5923</td>\n",
              "      <td>2016-12-31</td>\n",
              "      <td>Terminated</td>\n",
              "      <td>1</td>\n",
              "      <td>2016-06-14</td>\n",
              "      <td>Yes</td>\n",
              "      <td>2016-08-26</td>\n",
              "      <td>Yes</td>\n",
              "      <td>Voluntary Exit</td>\n",
              "      <td>2016-06-14</td>\n",
              "      <td>NaN</td>\n",
              "      <td>1990-05-10</td>\n",
              "      <td>26</td>\n",
              "      <td>NaN</td>\n",
              "      <td>NaN</td>\n",
              "      <td>At Target</td>\n",
              "      <td>BA/BS</td>\n",
              "      <td>25-35</td>\n",
              "    </tr>\n",
              "    <tr>\n",
              "      <th>5923</th>\n",
              "      <td>A5924</td>\n",
              "      <td>2016-12-31</td>\n",
              "      <td>Terminated</td>\n",
              "      <td>1</td>\n",
              "      <td>2016-07-08</td>\n",
              "      <td>Yes</td>\n",
              "      <td>2016-11-25</td>\n",
              "      <td>Yes</td>\n",
              "      <td>Voluntary Exit</td>\n",
              "      <td>2016-07-08</td>\n",
              "      <td>NaN</td>\n",
              "      <td>1993-02-14</td>\n",
              "      <td>23</td>\n",
              "      <td>NaN</td>\n",
              "      <td>NaN</td>\n",
              "      <td>At Target</td>\n",
              "      <td>BA/BS</td>\n",
              "      <td>&lt;25</td>\n",
              "    </tr>\n",
              "    <tr>\n",
              "      <th>5924</th>\n",
              "      <td>A5925</td>\n",
              "      <td>2016-12-31</td>\n",
              "      <td>Terminated</td>\n",
              "      <td>1</td>\n",
              "      <td>2015-06-23</td>\n",
              "      <td>Yes</td>\n",
              "      <td>2016-01-28</td>\n",
              "      <td>Yes</td>\n",
              "      <td>Voluntary Exit</td>\n",
              "      <td>2015-06-23</td>\n",
              "      <td>NaN</td>\n",
              "      <td>1993-09-04</td>\n",
              "      <td>23</td>\n",
              "      <td>NaN</td>\n",
              "      <td>NaN</td>\n",
              "      <td>At Target</td>\n",
              "      <td>BA/BS</td>\n",
              "      <td>&lt;25</td>\n",
              "    </tr>\n",
              "  </tbody>\n",
              "</table>\n",
              "</div>"
            ],
            "text/plain": [
              "     Employee ID Data Effective Date  ... Education\\n(Highest\\nDegree)  age_cat\n",
              "5920       A5921          2016-12-31  ...                        BA/BS      <25\n",
              "5921       A5922          2016-12-31  ...                        MA/MS      <25\n",
              "5922       A5923          2016-12-31  ...                        BA/BS    25-35\n",
              "5923       A5924          2016-12-31  ...                        BA/BS      <25\n",
              "5924       A5925          2016-12-31  ...                        BA/BS      <25\n",
              "\n",
              "[5 rows x 18 columns]"
            ]
          },
          "metadata": {
            "tags": []
          },
          "execution_count": 29
        }
      ]
    },
    {
      "cell_type": "code",
      "metadata": {
        "id": "KSsdlHV9gIR3",
        "outputId": "af334b8e-66cf-4704-a583-70d9ef5a8898",
        "colab": {
          "base_uri": "https://localhost:8080/"
        }
      },
      "source": [
        "(df_term[\"Termination Date\"]-df_term[\"Job Start Date\"])"
      ],
      "execution_count": null,
      "outputs": [
        {
          "output_type": "execute_result",
          "data": {
            "text/plain": [
              "5920    593 days\n",
              "5921    191 days\n",
              "5922     73 days\n",
              "5923    140 days\n",
              "5924    219 days\n",
              "          ...   \n",
              "6323   4383 days\n",
              "6324   3908 days\n",
              "6325   4121 days\n",
              "6326   4419 days\n",
              "6327   4164 days\n",
              "Length: 408, dtype: timedelta64[ns]"
            ]
          },
          "metadata": {
            "tags": []
          },
          "execution_count": 30
        }
      ]
    },
    {
      "cell_type": "code",
      "metadata": {
        "id": "wAouDO3i8XDT",
        "outputId": "4bcd8849-97a6-4677-ad67-706d11b7222c",
        "colab": {
          "base_uri": "https://localhost:8080/"
        }
      },
      "source": [
        " 191/(365*1)"
      ],
      "execution_count": null,
      "outputs": [
        {
          "output_type": "execute_result",
          "data": {
            "text/plain": [
              "0.5232876712328767"
            ]
          },
          "metadata": {
            "tags": []
          },
          "execution_count": 31
        }
      ]
    },
    {
      "cell_type": "code",
      "metadata": {
        "id": "ByNJT5IX7XuB",
        "outputId": "894fc909-d397-4867-f221-674878e846ea",
        "colab": {
          "base_uri": "https://localhost:8080/"
        }
      },
      "source": [
        "(df_term[\"Termination Date\"]-df_term[\"Job Start Date\"])/np.timedelta64(1,\"Y\")"
      ],
      "execution_count": null,
      "outputs": [
        {
          "output_type": "execute_result",
          "data": {
            "text/plain": [
              "5920     1.623579\n",
              "5921     0.522940\n",
              "5922     0.199867\n",
              "5923     0.383307\n",
              "5924     0.599602\n",
              "          ...    \n",
              "6323    12.000246\n",
              "6324    10.699741\n",
              "6325    11.282915\n",
              "6326    12.098811\n",
              "6327    11.400645\n",
              "Length: 408, dtype: float64"
            ]
          },
          "metadata": {
            "tags": []
          },
          "execution_count": 32
        }
      ]
    },
    {
      "cell_type": "code",
      "metadata": {
        "id": "yVOy7Lc38m5C"
      },
      "source": [
        "job_time=pd.Series((df_term[\"Termination Date\"]-df_term[\"Job Start Date\"])/np.timedelta64(1,\"Y\"))"
      ],
      "execution_count": null,
      "outputs": []
    },
    {
      "cell_type": "code",
      "metadata": {
        "id": "RKbAbfu8_wNZ",
        "outputId": "73d54dbe-fde6-4e64-cf0d-74cbb2f11bdb",
        "colab": {
          "base_uri": "https://localhost:8080/"
        }
      },
      "source": [
        "job_time.head()"
      ],
      "execution_count": null,
      "outputs": [
        {
          "output_type": "execute_result",
          "data": {
            "text/plain": [
              "5920    1.623579\n",
              "5921    0.522940\n",
              "5922    0.199867\n",
              "5923    0.383307\n",
              "5924    0.599602\n",
              "dtype: float64"
            ]
          },
          "metadata": {
            "tags": []
          },
          "execution_count": 34
        }
      ]
    },
    {
      "cell_type": "code",
      "metadata": {
        "id": "ytwmGrjYBA-A",
        "outputId": "1b3bd16c-be8d-425d-ca58-dd6ab8b95c2f",
        "colab": {
          "base_uri": "https://localhost:8080/"
        }
      },
      "source": [
        "job_time=job_time.astype(int)\n",
        "job_time"
      ],
      "execution_count": null,
      "outputs": [
        {
          "output_type": "execute_result",
          "data": {
            "text/plain": [
              "5920     1\n",
              "5921     0\n",
              "5922     0\n",
              "5923     0\n",
              "5924     0\n",
              "        ..\n",
              "6323    12\n",
              "6324    10\n",
              "6325    11\n",
              "6326    12\n",
              "6327    11\n",
              "Length: 408, dtype: int64"
            ]
          },
          "metadata": {
            "tags": []
          },
          "execution_count": 35
        }
      ]
    },
    {
      "cell_type": "code",
      "metadata": {
        "id": "i5cmAZDmBHMA",
        "outputId": "7a77f19b-54bd-4133-c002-1c4710db61a6",
        "colab": {
          "base_uri": "https://localhost:8080/"
        }
      },
      "source": [
        "df_term[\"Time in\\nJob (Years)\"]=job_time"
      ],
      "execution_count": null,
      "outputs": [
        {
          "output_type": "stream",
          "text": [
            "/usr/local/lib/python3.6/dist-packages/ipykernel_launcher.py:1: SettingWithCopyWarning: \n",
            "A value is trying to be set on a copy of a slice from a DataFrame.\n",
            "Try using .loc[row_indexer,col_indexer] = value instead\n",
            "\n",
            "See the caveats in the documentation: https://pandas.pydata.org/pandas-docs/stable/user_guide/indexing.html#returning-a-view-versus-a-copy\n",
            "  \"\"\"Entry point for launching an IPython kernel.\n"
          ],
          "name": "stderr"
        }
      ]
    },
    {
      "cell_type": "code",
      "metadata": {
        "id": "kfZNVk_gCIN7",
        "outputId": "ad6c191d-d28f-4932-e02c-06ba5f726814",
        "colab": {
          "base_uri": "https://localhost:8080/",
          "height": 355
        }
      },
      "source": [
        "df_term.head()"
      ],
      "execution_count": null,
      "outputs": [
        {
          "output_type": "execute_result",
          "data": {
            "text/html": [
              "<div>\n",
              "<style scoped>\n",
              "    .dataframe tbody tr th:only-of-type {\n",
              "        vertical-align: middle;\n",
              "    }\n",
              "\n",
              "    .dataframe tbody tr th {\n",
              "        vertical-align: top;\n",
              "    }\n",
              "\n",
              "    .dataframe thead th {\n",
              "        text-align: right;\n",
              "    }\n",
              "</style>\n",
              "<table border=\"1\" class=\"dataframe\">\n",
              "  <thead>\n",
              "    <tr style=\"text-align: right;\">\n",
              "      <th></th>\n",
              "      <th>Employee ID</th>\n",
              "      <th>Data Effective Date</th>\n",
              "      <th>Employee\\nStatus\\n</th>\n",
              "      <th>Career Level \\n(1=lowest, 6=highest)\\n</th>\n",
              "      <th>Hired Date</th>\n",
              "      <th>Hired in FY\\n(Yes/No)</th>\n",
              "      <th>Termination Date</th>\n",
              "      <th>Terminated\\nin FY\\n(Yes/No)</th>\n",
              "      <th>Termination Type\\n(Voluntary or Involuntary Exit)</th>\n",
              "      <th>Job Start Date</th>\n",
              "      <th>Promoted\\nin FY\\n(Yes/No)</th>\n",
              "      <th>Birth Date</th>\n",
              "      <th>Age\\n(Years)</th>\n",
              "      <th>Tenure\\n(Years)</th>\n",
              "      <th>Time in\\nJob (Years)</th>\n",
              "      <th>Rating</th>\n",
              "      <th>Education\\n(Highest\\nDegree)</th>\n",
              "      <th>age_cat</th>\n",
              "    </tr>\n",
              "  </thead>\n",
              "  <tbody>\n",
              "    <tr>\n",
              "      <th>5920</th>\n",
              "      <td>A5921</td>\n",
              "      <td>2016-12-31</td>\n",
              "      <td>Terminated</td>\n",
              "      <td>1</td>\n",
              "      <td>2015-02-11</td>\n",
              "      <td>Yes</td>\n",
              "      <td>2016-09-26</td>\n",
              "      <td>Yes</td>\n",
              "      <td>Voluntary Exit</td>\n",
              "      <td>2015-02-11</td>\n",
              "      <td>NaN</td>\n",
              "      <td>1992-07-06</td>\n",
              "      <td>24</td>\n",
              "      <td>NaN</td>\n",
              "      <td>1</td>\n",
              "      <td>At Target</td>\n",
              "      <td>BA/BS</td>\n",
              "      <td>&lt;25</td>\n",
              "    </tr>\n",
              "    <tr>\n",
              "      <th>5921</th>\n",
              "      <td>A5922</td>\n",
              "      <td>2016-12-31</td>\n",
              "      <td>Terminated</td>\n",
              "      <td>1</td>\n",
              "      <td>2016-04-08</td>\n",
              "      <td>Yes</td>\n",
              "      <td>2016-10-16</td>\n",
              "      <td>Yes</td>\n",
              "      <td>Voluntary Exit</td>\n",
              "      <td>2016-04-08</td>\n",
              "      <td>NaN</td>\n",
              "      <td>1994-05-31</td>\n",
              "      <td>22</td>\n",
              "      <td>NaN</td>\n",
              "      <td>0</td>\n",
              "      <td>At Target</td>\n",
              "      <td>MA/MS</td>\n",
              "      <td>&lt;25</td>\n",
              "    </tr>\n",
              "    <tr>\n",
              "      <th>5922</th>\n",
              "      <td>A5923</td>\n",
              "      <td>2016-12-31</td>\n",
              "      <td>Terminated</td>\n",
              "      <td>1</td>\n",
              "      <td>2016-06-14</td>\n",
              "      <td>Yes</td>\n",
              "      <td>2016-08-26</td>\n",
              "      <td>Yes</td>\n",
              "      <td>Voluntary Exit</td>\n",
              "      <td>2016-06-14</td>\n",
              "      <td>NaN</td>\n",
              "      <td>1990-05-10</td>\n",
              "      <td>26</td>\n",
              "      <td>NaN</td>\n",
              "      <td>0</td>\n",
              "      <td>At Target</td>\n",
              "      <td>BA/BS</td>\n",
              "      <td>25-35</td>\n",
              "    </tr>\n",
              "    <tr>\n",
              "      <th>5923</th>\n",
              "      <td>A5924</td>\n",
              "      <td>2016-12-31</td>\n",
              "      <td>Terminated</td>\n",
              "      <td>1</td>\n",
              "      <td>2016-07-08</td>\n",
              "      <td>Yes</td>\n",
              "      <td>2016-11-25</td>\n",
              "      <td>Yes</td>\n",
              "      <td>Voluntary Exit</td>\n",
              "      <td>2016-07-08</td>\n",
              "      <td>NaN</td>\n",
              "      <td>1993-02-14</td>\n",
              "      <td>23</td>\n",
              "      <td>NaN</td>\n",
              "      <td>0</td>\n",
              "      <td>At Target</td>\n",
              "      <td>BA/BS</td>\n",
              "      <td>&lt;25</td>\n",
              "    </tr>\n",
              "    <tr>\n",
              "      <th>5924</th>\n",
              "      <td>A5925</td>\n",
              "      <td>2016-12-31</td>\n",
              "      <td>Terminated</td>\n",
              "      <td>1</td>\n",
              "      <td>2015-06-23</td>\n",
              "      <td>Yes</td>\n",
              "      <td>2016-01-28</td>\n",
              "      <td>Yes</td>\n",
              "      <td>Voluntary Exit</td>\n",
              "      <td>2015-06-23</td>\n",
              "      <td>NaN</td>\n",
              "      <td>1993-09-04</td>\n",
              "      <td>23</td>\n",
              "      <td>NaN</td>\n",
              "      <td>0</td>\n",
              "      <td>At Target</td>\n",
              "      <td>BA/BS</td>\n",
              "      <td>&lt;25</td>\n",
              "    </tr>\n",
              "  </tbody>\n",
              "</table>\n",
              "</div>"
            ],
            "text/plain": [
              "     Employee ID Data Effective Date  ... Education\\n(Highest\\nDegree)  age_cat\n",
              "5920       A5921          2016-12-31  ...                        BA/BS      <25\n",
              "5921       A5922          2016-12-31  ...                        MA/MS      <25\n",
              "5922       A5923          2016-12-31  ...                        BA/BS    25-35\n",
              "5923       A5924          2016-12-31  ...                        BA/BS      <25\n",
              "5924       A5925          2016-12-31  ...                        BA/BS      <25\n",
              "\n",
              "[5 rows x 18 columns]"
            ]
          },
          "metadata": {
            "tags": []
          },
          "execution_count": 37
        }
      ]
    },
    {
      "cell_type": "code",
      "metadata": {
        "id": "fycE8UO4CKMM",
        "outputId": "baa8d974-0e94-4b63-9f23-1688612e83c5",
        "colab": {
          "base_uri": "https://localhost:8080/"
        }
      },
      "source": [
        "df_term[\"Tenure\\n(Years)\"]=(pd.Series((df_term[\"Termination Date\"]-df_term[\"Hired Date\"])/np.timedelta64(1,\"Y\"))).astype(int)"
      ],
      "execution_count": null,
      "outputs": [
        {
          "output_type": "stream",
          "text": [
            "/usr/local/lib/python3.6/dist-packages/ipykernel_launcher.py:1: SettingWithCopyWarning: \n",
            "A value is trying to be set on a copy of a slice from a DataFrame.\n",
            "Try using .loc[row_indexer,col_indexer] = value instead\n",
            "\n",
            "See the caveats in the documentation: https://pandas.pydata.org/pandas-docs/stable/user_guide/indexing.html#returning-a-view-versus-a-copy\n",
            "  \"\"\"Entry point for launching an IPython kernel.\n"
          ],
          "name": "stderr"
        }
      ]
    },
    {
      "cell_type": "code",
      "metadata": {
        "id": "Wyy2Eh0nDrpF",
        "outputId": "811d4e16-bd85-4a19-a821-0305ffeb8041",
        "colab": {
          "base_uri": "https://localhost:8080/",
          "height": 389
        }
      },
      "source": [
        "df_term.tail()"
      ],
      "execution_count": null,
      "outputs": [
        {
          "output_type": "execute_result",
          "data": {
            "text/html": [
              "<div>\n",
              "<style scoped>\n",
              "    .dataframe tbody tr th:only-of-type {\n",
              "        vertical-align: middle;\n",
              "    }\n",
              "\n",
              "    .dataframe tbody tr th {\n",
              "        vertical-align: top;\n",
              "    }\n",
              "\n",
              "    .dataframe thead th {\n",
              "        text-align: right;\n",
              "    }\n",
              "</style>\n",
              "<table border=\"1\" class=\"dataframe\">\n",
              "  <thead>\n",
              "    <tr style=\"text-align: right;\">\n",
              "      <th></th>\n",
              "      <th>Employee ID</th>\n",
              "      <th>Data Effective Date</th>\n",
              "      <th>Employee\\nStatus\\n</th>\n",
              "      <th>Career Level \\n(1=lowest, 6=highest)\\n</th>\n",
              "      <th>Hired Date</th>\n",
              "      <th>Hired in FY\\n(Yes/No)</th>\n",
              "      <th>Termination Date</th>\n",
              "      <th>Terminated\\nin FY\\n(Yes/No)</th>\n",
              "      <th>Termination Type\\n(Voluntary or Involuntary Exit)</th>\n",
              "      <th>Job Start Date</th>\n",
              "      <th>Promoted\\nin FY\\n(Yes/No)</th>\n",
              "      <th>Birth Date</th>\n",
              "      <th>Age\\n(Years)</th>\n",
              "      <th>Tenure\\n(Years)</th>\n",
              "      <th>Time in\\nJob (Years)</th>\n",
              "      <th>Rating</th>\n",
              "      <th>Education\\n(Highest\\nDegree)</th>\n",
              "      <th>age_cat</th>\n",
              "    </tr>\n",
              "  </thead>\n",
              "  <tbody>\n",
              "    <tr>\n",
              "      <th>6323</th>\n",
              "      <td>A6324</td>\n",
              "      <td>2016-12-31</td>\n",
              "      <td>Terminated</td>\n",
              "      <td>6</td>\n",
              "      <td>1981-01-18</td>\n",
              "      <td>No</td>\n",
              "      <td>2016-01-19</td>\n",
              "      <td>Yes</td>\n",
              "      <td>Voluntary Exit</td>\n",
              "      <td>2004-01-19</td>\n",
              "      <td>No</td>\n",
              "      <td>1960-12-18</td>\n",
              "      <td>56</td>\n",
              "      <td>35</td>\n",
              "      <td>12</td>\n",
              "      <td>Above Target</td>\n",
              "      <td>JD</td>\n",
              "      <td>55-65&lt;</td>\n",
              "    </tr>\n",
              "    <tr>\n",
              "      <th>6324</th>\n",
              "      <td>A6325</td>\n",
              "      <td>2016-12-31</td>\n",
              "      <td>Terminated</td>\n",
              "      <td>6</td>\n",
              "      <td>1980-07-07</td>\n",
              "      <td>No</td>\n",
              "      <td>2016-04-25</td>\n",
              "      <td>Yes</td>\n",
              "      <td>Voluntary Exit</td>\n",
              "      <td>2005-08-13</td>\n",
              "      <td>No</td>\n",
              "      <td>1955-08-04</td>\n",
              "      <td>61</td>\n",
              "      <td>35</td>\n",
              "      <td>10</td>\n",
              "      <td>Above Target</td>\n",
              "      <td>BA/BS</td>\n",
              "      <td>55-65&lt;</td>\n",
              "    </tr>\n",
              "    <tr>\n",
              "      <th>6325</th>\n",
              "      <td>A6326</td>\n",
              "      <td>2016-12-31</td>\n",
              "      <td>Terminated</td>\n",
              "      <td>6</td>\n",
              "      <td>1991-04-21</td>\n",
              "      <td>No</td>\n",
              "      <td>2016-09-13</td>\n",
              "      <td>Yes</td>\n",
              "      <td>Voluntary Exit</td>\n",
              "      <td>2005-06-02</td>\n",
              "      <td>No</td>\n",
              "      <td>1965-02-25</td>\n",
              "      <td>51</td>\n",
              "      <td>25</td>\n",
              "      <td>11</td>\n",
              "      <td>Significantly Above Target</td>\n",
              "      <td>MA/MS</td>\n",
              "      <td>45-55</td>\n",
              "    </tr>\n",
              "    <tr>\n",
              "      <th>6326</th>\n",
              "      <td>A6327</td>\n",
              "      <td>2016-12-31</td>\n",
              "      <td>Terminated</td>\n",
              "      <td>6</td>\n",
              "      <td>1980-10-30</td>\n",
              "      <td>No</td>\n",
              "      <td>2016-12-07</td>\n",
              "      <td>Yes</td>\n",
              "      <td>Voluntary Exit</td>\n",
              "      <td>2004-11-01</td>\n",
              "      <td>No</td>\n",
              "      <td>1958-01-26</td>\n",
              "      <td>58</td>\n",
              "      <td>36</td>\n",
              "      <td>12</td>\n",
              "      <td>Above Target</td>\n",
              "      <td>MBA</td>\n",
              "      <td>55-65&lt;</td>\n",
              "    </tr>\n",
              "    <tr>\n",
              "      <th>6327</th>\n",
              "      <td>A6328</td>\n",
              "      <td>2016-12-31</td>\n",
              "      <td>Terminated</td>\n",
              "      <td>6</td>\n",
              "      <td>1985-12-11</td>\n",
              "      <td>No</td>\n",
              "      <td>2016-01-25</td>\n",
              "      <td>Yes</td>\n",
              "      <td>Voluntary Exit</td>\n",
              "      <td>2004-08-31</td>\n",
              "      <td>No</td>\n",
              "      <td>1956-05-07</td>\n",
              "      <td>60</td>\n",
              "      <td>30</td>\n",
              "      <td>11</td>\n",
              "      <td>Significantly Above Target</td>\n",
              "      <td>BA/BS</td>\n",
              "      <td>55-65&lt;</td>\n",
              "    </tr>\n",
              "  </tbody>\n",
              "</table>\n",
              "</div>"
            ],
            "text/plain": [
              "     Employee ID Data Effective Date  ... Education\\n(Highest\\nDegree)  age_cat\n",
              "6323       A6324          2016-12-31  ...                           JD   55-65<\n",
              "6324       A6325          2016-12-31  ...                        BA/BS   55-65<\n",
              "6325       A6326          2016-12-31  ...                        MA/MS    45-55\n",
              "6326       A6327          2016-12-31  ...                          MBA   55-65<\n",
              "6327       A6328          2016-12-31  ...                        BA/BS   55-65<\n",
              "\n",
              "[5 rows x 18 columns]"
            ]
          },
          "metadata": {
            "tags": []
          },
          "execution_count": 81
        }
      ]
    },
    {
      "cell_type": "markdown",
      "metadata": {
        "id": "MG3rMGFRXStI"
      },
      "source": [
        "#reports on terminated employees"
      ]
    },
    {
      "cell_type": "code",
      "metadata": {
        "id": "qOswa3FUfeT5"
      },
      "source": [
        "# df[df[\"Age\\n(Years)\"]==116]\n",
        "# an outlier"
      ],
      "execution_count": null,
      "outputs": []
    },
    {
      "cell_type": "code",
      "metadata": {
        "id": "Ai8Nx4tFf51h"
      },
      "source": [
        "# df[df[\"Age\\n(Years)\"]==6]\n",
        "#an outlier"
      ],
      "execution_count": null,
      "outputs": []
    },
    {
      "cell_type": "code",
      "metadata": {
        "id": "CFf2HEszhnhE",
        "outputId": "9d22e9a9-7bb3-4089-80b8-4a2000f8012a",
        "colab": {
          "base_uri": "https://localhost:8080/",
          "height": 389
        }
      },
      "source": [
        "df_term.tail()"
      ],
      "execution_count": null,
      "outputs": [
        {
          "output_type": "execute_result",
          "data": {
            "text/html": [
              "<div>\n",
              "<style scoped>\n",
              "    .dataframe tbody tr th:only-of-type {\n",
              "        vertical-align: middle;\n",
              "    }\n",
              "\n",
              "    .dataframe tbody tr th {\n",
              "        vertical-align: top;\n",
              "    }\n",
              "\n",
              "    .dataframe thead th {\n",
              "        text-align: right;\n",
              "    }\n",
              "</style>\n",
              "<table border=\"1\" class=\"dataframe\">\n",
              "  <thead>\n",
              "    <tr style=\"text-align: right;\">\n",
              "      <th></th>\n",
              "      <th>Employee ID</th>\n",
              "      <th>Data Effective Date</th>\n",
              "      <th>Employee\\nStatus\\n</th>\n",
              "      <th>Career Level \\n(1=lowest, 6=highest)\\n</th>\n",
              "      <th>Hired Date</th>\n",
              "      <th>Hired in FY\\n(Yes/No)</th>\n",
              "      <th>Termination Date</th>\n",
              "      <th>Terminated\\nin FY\\n(Yes/No)</th>\n",
              "      <th>Termination Type\\n(Voluntary or Involuntary Exit)</th>\n",
              "      <th>Job Start Date</th>\n",
              "      <th>Promoted\\nin FY\\n(Yes/No)</th>\n",
              "      <th>Birth Date</th>\n",
              "      <th>Age\\n(Years)</th>\n",
              "      <th>Tenure\\n(Years)</th>\n",
              "      <th>Time in\\nJob (Years)</th>\n",
              "      <th>Rating</th>\n",
              "      <th>Education\\n(Highest\\nDegree)</th>\n",
              "      <th>age_cat</th>\n",
              "    </tr>\n",
              "  </thead>\n",
              "  <tbody>\n",
              "    <tr>\n",
              "      <th>6323</th>\n",
              "      <td>A6324</td>\n",
              "      <td>2016-12-31</td>\n",
              "      <td>Terminated</td>\n",
              "      <td>6</td>\n",
              "      <td>1981-01-18</td>\n",
              "      <td>No</td>\n",
              "      <td>2016-01-19</td>\n",
              "      <td>Yes</td>\n",
              "      <td>Voluntary Exit</td>\n",
              "      <td>2004-01-19</td>\n",
              "      <td>No</td>\n",
              "      <td>1960-12-18</td>\n",
              "      <td>56</td>\n",
              "      <td>35</td>\n",
              "      <td>12</td>\n",
              "      <td>Above Target</td>\n",
              "      <td>JD</td>\n",
              "      <td>55-65&lt;</td>\n",
              "    </tr>\n",
              "    <tr>\n",
              "      <th>6324</th>\n",
              "      <td>A6325</td>\n",
              "      <td>2016-12-31</td>\n",
              "      <td>Terminated</td>\n",
              "      <td>6</td>\n",
              "      <td>1980-07-07</td>\n",
              "      <td>No</td>\n",
              "      <td>2016-04-25</td>\n",
              "      <td>Yes</td>\n",
              "      <td>Voluntary Exit</td>\n",
              "      <td>2005-08-13</td>\n",
              "      <td>No</td>\n",
              "      <td>1955-08-04</td>\n",
              "      <td>61</td>\n",
              "      <td>35</td>\n",
              "      <td>10</td>\n",
              "      <td>Above Target</td>\n",
              "      <td>BA/BS</td>\n",
              "      <td>55-65&lt;</td>\n",
              "    </tr>\n",
              "    <tr>\n",
              "      <th>6325</th>\n",
              "      <td>A6326</td>\n",
              "      <td>2016-12-31</td>\n",
              "      <td>Terminated</td>\n",
              "      <td>6</td>\n",
              "      <td>1991-04-21</td>\n",
              "      <td>No</td>\n",
              "      <td>2016-09-13</td>\n",
              "      <td>Yes</td>\n",
              "      <td>Voluntary Exit</td>\n",
              "      <td>2005-06-02</td>\n",
              "      <td>No</td>\n",
              "      <td>1965-02-25</td>\n",
              "      <td>51</td>\n",
              "      <td>25</td>\n",
              "      <td>11</td>\n",
              "      <td>Significantly Above Target</td>\n",
              "      <td>MA/MS</td>\n",
              "      <td>45-55</td>\n",
              "    </tr>\n",
              "    <tr>\n",
              "      <th>6326</th>\n",
              "      <td>A6327</td>\n",
              "      <td>2016-12-31</td>\n",
              "      <td>Terminated</td>\n",
              "      <td>6</td>\n",
              "      <td>1980-10-30</td>\n",
              "      <td>No</td>\n",
              "      <td>2016-12-07</td>\n",
              "      <td>Yes</td>\n",
              "      <td>Voluntary Exit</td>\n",
              "      <td>2004-11-01</td>\n",
              "      <td>No</td>\n",
              "      <td>1958-01-26</td>\n",
              "      <td>58</td>\n",
              "      <td>36</td>\n",
              "      <td>12</td>\n",
              "      <td>Above Target</td>\n",
              "      <td>MBA</td>\n",
              "      <td>55-65&lt;</td>\n",
              "    </tr>\n",
              "    <tr>\n",
              "      <th>6327</th>\n",
              "      <td>A6328</td>\n",
              "      <td>2016-12-31</td>\n",
              "      <td>Terminated</td>\n",
              "      <td>6</td>\n",
              "      <td>1985-12-11</td>\n",
              "      <td>No</td>\n",
              "      <td>2016-01-25</td>\n",
              "      <td>Yes</td>\n",
              "      <td>Voluntary Exit</td>\n",
              "      <td>2004-08-31</td>\n",
              "      <td>No</td>\n",
              "      <td>1956-05-07</td>\n",
              "      <td>60</td>\n",
              "      <td>30</td>\n",
              "      <td>11</td>\n",
              "      <td>Significantly Above Target</td>\n",
              "      <td>BA/BS</td>\n",
              "      <td>55-65&lt;</td>\n",
              "    </tr>\n",
              "  </tbody>\n",
              "</table>\n",
              "</div>"
            ],
            "text/plain": [
              "     Employee ID Data Effective Date  ... Education\\n(Highest\\nDegree)  age_cat\n",
              "6323       A6324          2016-12-31  ...                           JD   55-65<\n",
              "6324       A6325          2016-12-31  ...                        BA/BS   55-65<\n",
              "6325       A6326          2016-12-31  ...                        MA/MS    45-55\n",
              "6326       A6327          2016-12-31  ...                          MBA   55-65<\n",
              "6327       A6328          2016-12-31  ...                        BA/BS   55-65<\n",
              "\n",
              "[5 rows x 18 columns]"
            ]
          },
          "metadata": {
            "tags": []
          },
          "execution_count": 82
        }
      ]
    },
    {
      "cell_type": "code",
      "metadata": {
        "id": "Py90aUoHhxrV",
        "outputId": "2b6d90c7-95ce-4d87-f19c-437469dd9412",
        "colab": {
          "base_uri": "https://localhost:8080/"
        }
      },
      "source": [
        "df_term_series_age_cat=df_term.groupby(\"age_cat\")[\"age_cat\"].agg(\"count\")\n",
        "df_term_series_age_cat"
      ],
      "execution_count": null,
      "outputs": [
        {
          "output_type": "execute_result",
          "data": {
            "text/plain": [
              "age_cat\n",
              "<25       140\n",
              "25-35     232\n",
              "35-45      28\n",
              "45-55       3\n",
              "55-65<      5\n",
              "65<         0\n",
              "Name: age_cat, dtype: int64"
            ]
          },
          "metadata": {
            "tags": []
          },
          "execution_count": 43
        }
      ]
    },
    {
      "cell_type": "code",
      "metadata": {
        "id": "ElvH6eonj8gu",
        "outputId": "2cb7ec6c-134d-4fd2-e189-2907e9f8f3e3",
        "colab": {
          "base_uri": "https://localhost:8080/"
        }
      },
      "source": [
        "type(df_term_series_age_cat.index)"
      ],
      "execution_count": null,
      "outputs": [
        {
          "output_type": "execute_result",
          "data": {
            "text/plain": [
              "pandas.core.indexes.category.CategoricalIndex"
            ]
          },
          "metadata": {
            "tags": []
          },
          "execution_count": 44
        }
      ]
    },
    {
      "cell_type": "markdown",
      "metadata": {
        "id": "ObvHA3JjH4GP"
      },
      "source": [
        "###1- age_cat   \n",
        "###vs  \n",
        "###relative no. of employees left the company"
      ]
    },
    {
      "cell_type": "code",
      "metadata": {
        "id": "fl_39vrBYZgu",
        "outputId": "a195c8c2-d8d9-45ee-d813-b4c3b1b08d1d",
        "colab": {
          "base_uri": "https://localhost:8080/"
        }
      },
      "source": [
        "(df_term_series_age_cat/np.sum(df_term_series_age_cat.values))*100"
      ],
      "execution_count": null,
      "outputs": [
        {
          "output_type": "execute_result",
          "data": {
            "text/plain": [
              "age_cat\n",
              "<25       34.313725\n",
              "25-35     56.862745\n",
              "35-45      6.862745\n",
              "45-55      0.735294\n",
              "55-65<     1.225490\n",
              "65<        0.000000\n",
              "Name: age_cat, dtype: float64"
            ]
          },
          "metadata": {
            "tags": []
          },
          "execution_count": 45
        }
      ]
    },
    {
      "cell_type": "code",
      "metadata": {
        "id": "No58o1jUkqdL",
        "outputId": "2e8c806c-9df0-4baf-f06d-8ccc35e5579c",
        "colab": {
          "base_uri": "https://localhost:8080/",
          "height": 425
        }
      },
      "source": [
        "fig=plt.gcf()\n",
        "fig.set_size_inches(8,5)\n",
        "sns.barplot(df_term_series_age_cat.index,(df_term_series_age_cat/np.sum(df_term_series_age_cat.values))*100)\n",
        "plt.xticks(rotation=90)\n",
        "plt.ylabel(\"rel. no. of empl. left the company\")\n",
        "for i,value in enumerate(((df_term_series_age_cat/np.sum(df_term_series_age_cat.values))*100).index):\n",
        "    x=i\n",
        "    y=int(round(((df_term_series_age_cat/np.sum(df_term_series_age_cat.values))*100).loc[value]))\n",
        "    plt.text(x,y,str(y)+\"%\",ha=\"center\")"
      ],
      "execution_count": null,
      "outputs": [
        {
          "output_type": "stream",
          "text": [
            "/usr/local/lib/python3.6/dist-packages/seaborn/_decorators.py:43: FutureWarning: Pass the following variables as keyword args: x, y. From version 0.12, the only valid positional argument will be `data`, and passing other arguments without an explicit keyword will result in an error or misinterpretation.\n",
            "  FutureWarning\n"
          ],
          "name": "stderr"
        },
        {
          "output_type": "display_data",
          "data": {
            "image/png": "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\n",
            "text/plain": [
              "<Figure size 576x360 with 1 Axes>"
            ]
          },
          "metadata": {
            "tags": []
          }
        }
      ]
    },
    {
      "cell_type": "code",
      "metadata": {
        "id": "An4ihb5HIvB9",
        "outputId": "a24e7e87-ae82-41d6-8eb8-312e4304e68b",
        "colab": {
          "base_uri": "https://localhost:8080/",
          "height": 365
        }
      },
      "source": [
        "df_term.hist(figsize=(10,5))\n",
        "plt.tight_layout()"
      ],
      "execution_count": null,
      "outputs": [
        {
          "output_type": "display_data",
          "data": {
            "image/png": "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\n",
            "text/plain": [
              "<Figure size 720x360 with 4 Axes>"
            ]
          },
          "metadata": {
            "tags": []
          }
        }
      ]
    },
    {
      "cell_type": "code",
      "metadata": {
        "id": "WxrZnT9UedDY",
        "outputId": "89c19804-f3e5-4ee8-cdf0-d74b2472fc0f",
        "colab": {
          "base_uri": "https://localhost:8080/",
          "height": 355
        }
      },
      "source": [
        "df_term.head()"
      ],
      "execution_count": null,
      "outputs": [
        {
          "output_type": "execute_result",
          "data": {
            "text/html": [
              "<div>\n",
              "<style scoped>\n",
              "    .dataframe tbody tr th:only-of-type {\n",
              "        vertical-align: middle;\n",
              "    }\n",
              "\n",
              "    .dataframe tbody tr th {\n",
              "        vertical-align: top;\n",
              "    }\n",
              "\n",
              "    .dataframe thead th {\n",
              "        text-align: right;\n",
              "    }\n",
              "</style>\n",
              "<table border=\"1\" class=\"dataframe\">\n",
              "  <thead>\n",
              "    <tr style=\"text-align: right;\">\n",
              "      <th></th>\n",
              "      <th>Employee ID</th>\n",
              "      <th>Data Effective Date</th>\n",
              "      <th>Employee\\nStatus\\n</th>\n",
              "      <th>Career Level \\n(1=lowest, 6=highest)\\n</th>\n",
              "      <th>Hired Date</th>\n",
              "      <th>Hired in FY\\n(Yes/No)</th>\n",
              "      <th>Termination Date</th>\n",
              "      <th>Terminated\\nin FY\\n(Yes/No)</th>\n",
              "      <th>Termination Type\\n(Voluntary or Involuntary Exit)</th>\n",
              "      <th>Job Start Date</th>\n",
              "      <th>Promoted\\nin FY\\n(Yes/No)</th>\n",
              "      <th>Birth Date</th>\n",
              "      <th>Age\\n(Years)</th>\n",
              "      <th>Tenure\\n(Years)</th>\n",
              "      <th>Time in\\nJob (Years)</th>\n",
              "      <th>Rating</th>\n",
              "      <th>Education\\n(Highest\\nDegree)</th>\n",
              "      <th>age_cat</th>\n",
              "    </tr>\n",
              "  </thead>\n",
              "  <tbody>\n",
              "    <tr>\n",
              "      <th>5920</th>\n",
              "      <td>A5921</td>\n",
              "      <td>2016-12-31</td>\n",
              "      <td>Terminated</td>\n",
              "      <td>1</td>\n",
              "      <td>2015-02-11</td>\n",
              "      <td>Yes</td>\n",
              "      <td>2016-09-26</td>\n",
              "      <td>Yes</td>\n",
              "      <td>Voluntary Exit</td>\n",
              "      <td>2015-02-11</td>\n",
              "      <td>NaN</td>\n",
              "      <td>1992-07-06</td>\n",
              "      <td>24</td>\n",
              "      <td>1</td>\n",
              "      <td>1</td>\n",
              "      <td>At Target</td>\n",
              "      <td>BA/BS</td>\n",
              "      <td>&lt;25</td>\n",
              "    </tr>\n",
              "    <tr>\n",
              "      <th>5921</th>\n",
              "      <td>A5922</td>\n",
              "      <td>2016-12-31</td>\n",
              "      <td>Terminated</td>\n",
              "      <td>1</td>\n",
              "      <td>2016-04-08</td>\n",
              "      <td>Yes</td>\n",
              "      <td>2016-10-16</td>\n",
              "      <td>Yes</td>\n",
              "      <td>Voluntary Exit</td>\n",
              "      <td>2016-04-08</td>\n",
              "      <td>NaN</td>\n",
              "      <td>1994-05-31</td>\n",
              "      <td>22</td>\n",
              "      <td>0</td>\n",
              "      <td>0</td>\n",
              "      <td>At Target</td>\n",
              "      <td>MA/MS</td>\n",
              "      <td>&lt;25</td>\n",
              "    </tr>\n",
              "    <tr>\n",
              "      <th>5922</th>\n",
              "      <td>A5923</td>\n",
              "      <td>2016-12-31</td>\n",
              "      <td>Terminated</td>\n",
              "      <td>1</td>\n",
              "      <td>2016-06-14</td>\n",
              "      <td>Yes</td>\n",
              "      <td>2016-08-26</td>\n",
              "      <td>Yes</td>\n",
              "      <td>Voluntary Exit</td>\n",
              "      <td>2016-06-14</td>\n",
              "      <td>NaN</td>\n",
              "      <td>1990-05-10</td>\n",
              "      <td>26</td>\n",
              "      <td>0</td>\n",
              "      <td>0</td>\n",
              "      <td>At Target</td>\n",
              "      <td>BA/BS</td>\n",
              "      <td>25-35</td>\n",
              "    </tr>\n",
              "    <tr>\n",
              "      <th>5923</th>\n",
              "      <td>A5924</td>\n",
              "      <td>2016-12-31</td>\n",
              "      <td>Terminated</td>\n",
              "      <td>1</td>\n",
              "      <td>2016-07-08</td>\n",
              "      <td>Yes</td>\n",
              "      <td>2016-11-25</td>\n",
              "      <td>Yes</td>\n",
              "      <td>Voluntary Exit</td>\n",
              "      <td>2016-07-08</td>\n",
              "      <td>NaN</td>\n",
              "      <td>1993-02-14</td>\n",
              "      <td>23</td>\n",
              "      <td>0</td>\n",
              "      <td>0</td>\n",
              "      <td>At Target</td>\n",
              "      <td>BA/BS</td>\n",
              "      <td>&lt;25</td>\n",
              "    </tr>\n",
              "    <tr>\n",
              "      <th>5924</th>\n",
              "      <td>A5925</td>\n",
              "      <td>2016-12-31</td>\n",
              "      <td>Terminated</td>\n",
              "      <td>1</td>\n",
              "      <td>2015-06-23</td>\n",
              "      <td>Yes</td>\n",
              "      <td>2016-01-28</td>\n",
              "      <td>Yes</td>\n",
              "      <td>Voluntary Exit</td>\n",
              "      <td>2015-06-23</td>\n",
              "      <td>NaN</td>\n",
              "      <td>1993-09-04</td>\n",
              "      <td>23</td>\n",
              "      <td>0</td>\n",
              "      <td>0</td>\n",
              "      <td>At Target</td>\n",
              "      <td>BA/BS</td>\n",
              "      <td>&lt;25</td>\n",
              "    </tr>\n",
              "  </tbody>\n",
              "</table>\n",
              "</div>"
            ],
            "text/plain": [
              "     Employee ID Data Effective Date  ... Education\\n(Highest\\nDegree)  age_cat\n",
              "5920       A5921          2016-12-31  ...                        BA/BS      <25\n",
              "5921       A5922          2016-12-31  ...                        MA/MS      <25\n",
              "5922       A5923          2016-12-31  ...                        BA/BS    25-35\n",
              "5923       A5924          2016-12-31  ...                        BA/BS      <25\n",
              "5924       A5925          2016-12-31  ...                        BA/BS      <25\n",
              "\n",
              "[5 rows x 18 columns]"
            ]
          },
          "metadata": {
            "tags": []
          },
          "execution_count": 48
        }
      ]
    },
    {
      "cell_type": "code",
      "metadata": {
        "id": "eBL_GkowGQ6X",
        "outputId": "ef66aae7-44c7-4170-fd34-6b959d92f234",
        "colab": {
          "base_uri": "https://localhost:8080/"
        }
      },
      "source": [
        "(((df_term['''Termination Type\\n(Voluntary or Involuntary Exit)'''].value_counts())/df_term['''Termination Type\\n(Voluntary or Involuntary Exit)'''].value_counts().values.sum())*100)"
      ],
      "execution_count": null,
      "outputs": [
        {
          "output_type": "execute_result",
          "data": {
            "text/plain": [
              "Voluntary Exit      79.166667\n",
              "Involuntary Exit    20.833333\n",
              "Name: Termination Type\\n(Voluntary or Involuntary Exit), dtype: float64"
            ]
          },
          "metadata": {
            "tags": []
          },
          "execution_count": 49
        }
      ]
    },
    {
      "cell_type": "markdown",
      "metadata": {
        "id": "yG8EhkDJJArp"
      },
      "source": [
        "###2- relative voluntary/unvoluntrary retired  \n",
        "###vs  \n",
        "###counts"
      ]
    },
    {
      "cell_type": "code",
      "metadata": {
        "id": "sqLEZo8uI68c",
        "outputId": "f10f10d2-bfc9-4fd8-e1ba-a785207b48bc",
        "colab": {
          "base_uri": "https://localhost:8080/",
          "height": 340
        }
      },
      "source": [
        "sns.barplot(df_term['''Termination Type\\n(Voluntary or Involuntary Exit)'''].value_counts().index,(((df_term['''Termination Type\\n(Voluntary or Involuntary Exit)'''].value_counts())/df_term['''Termination Type\\n(Voluntary or Involuntary Exit)'''].value_counts().values.sum())*100))\n",
        "for i,value in enumerate((((df_term['''Termination Type\\n(Voluntary or Involuntary Exit)'''].value_counts())/df_term['''Termination Type\\n(Voluntary or Involuntary Exit)'''].value_counts().values.sum())*100).index):\n",
        "    x,y=i,int(round((((df_term['''Termination Type\\n(Voluntary or Involuntary Exit)'''].value_counts())/df_term['''Termination Type\\n(Voluntary or Involuntary Exit)'''].value_counts().values.sum())*100).loc[value]))\n",
        "    plt.text(x,y,str(y)+\"%\",ha=\"center\")\n",
        "    plt.xlabel(\"Retirement Type\")\n",
        "    plt.ylabel(\"Relative Percentage\")"
      ],
      "execution_count": null,
      "outputs": [
        {
          "output_type": "stream",
          "text": [
            "/usr/local/lib/python3.6/dist-packages/seaborn/_decorators.py:43: FutureWarning: Pass the following variables as keyword args: x, y. From version 0.12, the only valid positional argument will be `data`, and passing other arguments without an explicit keyword will result in an error or misinterpretation.\n",
            "  FutureWarning\n"
          ],
          "name": "stderr"
        },
        {
          "output_type": "display_data",
          "data": {
            "image/png": "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\n",
            "text/plain": [
              "<Figure size 432x288 with 1 Axes>"
            ]
          },
          "metadata": {
            "tags": []
          }
        }
      ]
    },
    {
      "cell_type": "markdown",
      "metadata": {
        "id": "pb_y7BSBoyIv"
      },
      "source": [
        "####report-1\n",
        "here unit1 employees are not happy with the company either it will be:-\n",
        "\n",
        "1- Salary issue\n",
        "\n",
        "2- Environment was not so good\n",
        "\n",
        "3- Workload was too high"
      ]
    },
    {
      "cell_type": "markdown",
      "metadata": {
        "id": "349knpX6IPQC"
      },
      "source": [
        "###3- relative rating   \n",
        "###vs  \n",
        "###counts\n",
        "for voluntary retired"
      ]
    },
    {
      "cell_type": "code",
      "metadata": {
        "id": "NQopFmWrEG_z",
        "outputId": "ebc27821-1fe1-436e-df2b-ea6cab1d135c",
        "colab": {
          "base_uri": "https://localhost:8080/",
          "height": 355
        }
      },
      "source": [
        "df_term_vol_exit=df_term[df_term['''Termination Type\\n(Voluntary or Involuntary Exit)''']==\"Voluntary Exit\"]\n",
        "df_term_vol_exit.head()"
      ],
      "execution_count": null,
      "outputs": [
        {
          "output_type": "execute_result",
          "data": {
            "text/html": [
              "<div>\n",
              "<style scoped>\n",
              "    .dataframe tbody tr th:only-of-type {\n",
              "        vertical-align: middle;\n",
              "    }\n",
              "\n",
              "    .dataframe tbody tr th {\n",
              "        vertical-align: top;\n",
              "    }\n",
              "\n",
              "    .dataframe thead th {\n",
              "        text-align: right;\n",
              "    }\n",
              "</style>\n",
              "<table border=\"1\" class=\"dataframe\">\n",
              "  <thead>\n",
              "    <tr style=\"text-align: right;\">\n",
              "      <th></th>\n",
              "      <th>Employee ID</th>\n",
              "      <th>Data Effective Date</th>\n",
              "      <th>Employee\\nStatus\\n</th>\n",
              "      <th>Career Level \\n(1=lowest, 6=highest)\\n</th>\n",
              "      <th>Hired Date</th>\n",
              "      <th>Hired in FY\\n(Yes/No)</th>\n",
              "      <th>Termination Date</th>\n",
              "      <th>Terminated\\nin FY\\n(Yes/No)</th>\n",
              "      <th>Termination Type\\n(Voluntary or Involuntary Exit)</th>\n",
              "      <th>Job Start Date</th>\n",
              "      <th>Promoted\\nin FY\\n(Yes/No)</th>\n",
              "      <th>Birth Date</th>\n",
              "      <th>Age\\n(Years)</th>\n",
              "      <th>Tenure\\n(Years)</th>\n",
              "      <th>Time in\\nJob (Years)</th>\n",
              "      <th>Rating</th>\n",
              "      <th>Education\\n(Highest\\nDegree)</th>\n",
              "      <th>age_cat</th>\n",
              "    </tr>\n",
              "  </thead>\n",
              "  <tbody>\n",
              "    <tr>\n",
              "      <th>5920</th>\n",
              "      <td>A5921</td>\n",
              "      <td>2016-12-31</td>\n",
              "      <td>Terminated</td>\n",
              "      <td>1</td>\n",
              "      <td>2015-02-11</td>\n",
              "      <td>Yes</td>\n",
              "      <td>2016-09-26</td>\n",
              "      <td>Yes</td>\n",
              "      <td>Voluntary Exit</td>\n",
              "      <td>2015-02-11</td>\n",
              "      <td>NaN</td>\n",
              "      <td>1992-07-06</td>\n",
              "      <td>24</td>\n",
              "      <td>1</td>\n",
              "      <td>1</td>\n",
              "      <td>At Target</td>\n",
              "      <td>BA/BS</td>\n",
              "      <td>&lt;25</td>\n",
              "    </tr>\n",
              "    <tr>\n",
              "      <th>5921</th>\n",
              "      <td>A5922</td>\n",
              "      <td>2016-12-31</td>\n",
              "      <td>Terminated</td>\n",
              "      <td>1</td>\n",
              "      <td>2016-04-08</td>\n",
              "      <td>Yes</td>\n",
              "      <td>2016-10-16</td>\n",
              "      <td>Yes</td>\n",
              "      <td>Voluntary Exit</td>\n",
              "      <td>2016-04-08</td>\n",
              "      <td>NaN</td>\n",
              "      <td>1994-05-31</td>\n",
              "      <td>22</td>\n",
              "      <td>0</td>\n",
              "      <td>0</td>\n",
              "      <td>At Target</td>\n",
              "      <td>MA/MS</td>\n",
              "      <td>&lt;25</td>\n",
              "    </tr>\n",
              "    <tr>\n",
              "      <th>5922</th>\n",
              "      <td>A5923</td>\n",
              "      <td>2016-12-31</td>\n",
              "      <td>Terminated</td>\n",
              "      <td>1</td>\n",
              "      <td>2016-06-14</td>\n",
              "      <td>Yes</td>\n",
              "      <td>2016-08-26</td>\n",
              "      <td>Yes</td>\n",
              "      <td>Voluntary Exit</td>\n",
              "      <td>2016-06-14</td>\n",
              "      <td>NaN</td>\n",
              "      <td>1990-05-10</td>\n",
              "      <td>26</td>\n",
              "      <td>0</td>\n",
              "      <td>0</td>\n",
              "      <td>At Target</td>\n",
              "      <td>BA/BS</td>\n",
              "      <td>25-35</td>\n",
              "    </tr>\n",
              "    <tr>\n",
              "      <th>5923</th>\n",
              "      <td>A5924</td>\n",
              "      <td>2016-12-31</td>\n",
              "      <td>Terminated</td>\n",
              "      <td>1</td>\n",
              "      <td>2016-07-08</td>\n",
              "      <td>Yes</td>\n",
              "      <td>2016-11-25</td>\n",
              "      <td>Yes</td>\n",
              "      <td>Voluntary Exit</td>\n",
              "      <td>2016-07-08</td>\n",
              "      <td>NaN</td>\n",
              "      <td>1993-02-14</td>\n",
              "      <td>23</td>\n",
              "      <td>0</td>\n",
              "      <td>0</td>\n",
              "      <td>At Target</td>\n",
              "      <td>BA/BS</td>\n",
              "      <td>&lt;25</td>\n",
              "    </tr>\n",
              "    <tr>\n",
              "      <th>5924</th>\n",
              "      <td>A5925</td>\n",
              "      <td>2016-12-31</td>\n",
              "      <td>Terminated</td>\n",
              "      <td>1</td>\n",
              "      <td>2015-06-23</td>\n",
              "      <td>Yes</td>\n",
              "      <td>2016-01-28</td>\n",
              "      <td>Yes</td>\n",
              "      <td>Voluntary Exit</td>\n",
              "      <td>2015-06-23</td>\n",
              "      <td>NaN</td>\n",
              "      <td>1993-09-04</td>\n",
              "      <td>23</td>\n",
              "      <td>0</td>\n",
              "      <td>0</td>\n",
              "      <td>At Target</td>\n",
              "      <td>BA/BS</td>\n",
              "      <td>&lt;25</td>\n",
              "    </tr>\n",
              "  </tbody>\n",
              "</table>\n",
              "</div>"
            ],
            "text/plain": [
              "     Employee ID Data Effective Date  ... Education\\n(Highest\\nDegree)  age_cat\n",
              "5920       A5921          2016-12-31  ...                        BA/BS      <25\n",
              "5921       A5922          2016-12-31  ...                        MA/MS      <25\n",
              "5922       A5923          2016-12-31  ...                        BA/BS    25-35\n",
              "5923       A5924          2016-12-31  ...                        BA/BS      <25\n",
              "5924       A5925          2016-12-31  ...                        BA/BS      <25\n",
              "\n",
              "[5 rows x 18 columns]"
            ]
          },
          "metadata": {
            "tags": []
          },
          "execution_count": 51
        }
      ]
    },
    {
      "cell_type": "code",
      "metadata": {
        "id": "9Qkpk0xgFRE9",
        "outputId": "60c15c3a-ef21-4ad7-9c54-f5ce97906957",
        "colab": {
          "base_uri": "https://localhost:8080/"
        }
      },
      "source": [
        "((df_term_vol_exit[\"Rating\"].value_counts()/df_term_vol_exit[\"Rating\"].value_counts().values.sum())*100)"
      ],
      "execution_count": null,
      "outputs": [
        {
          "output_type": "execute_result",
          "data": {
            "text/plain": [
              "Above Target                  50.154799\n",
              "At Target                     31.578947\n",
              "Significantly Above Target    15.479876\n",
              "Below Target                   2.786378\n",
              "Name: Rating, dtype: float64"
            ]
          },
          "metadata": {
            "tags": []
          },
          "execution_count": 83
        }
      ]
    },
    {
      "cell_type": "code",
      "metadata": {
        "id": "M3j2xkvrGNR-",
        "outputId": "7f0f7221-9a76-4415-b58d-d40bb68acb97",
        "colab": {
          "base_uri": "https://localhost:8080/",
          "height": 439
        }
      },
      "source": [
        "sns.barplot(((df_term_vol_exit[\"Rating\"].value_counts()/df_term_vol_exit[\"Rating\"].value_counts().values.sum())*100).index,((df_term_vol_exit[\"Rating\"].value_counts()/df_term_vol_exit[\"Rating\"].value_counts().values.sum())*100).values)\n",
        "plt.xticks(rotation=45)\n",
        "for i,value in enumerate(((df_term_vol_exit[\"Rating\"].value_counts()/df_term_vol_exit[\"Rating\"].value_counts().values.sum())*100).index):\n",
        "    x,y=i,int(round(((df_term_vol_exit[\"Rating\"].value_counts()/df_term_vol_exit[\"Rating\"].value_counts().values.sum())*100).loc[value]))\n",
        "    plt.text(x,y,str(y)+\"%\",ha=\"center\")\n",
        "    plt.xlabel(\"Rating\")\n",
        "    plt.ylabel(\"Counts\")"
      ],
      "execution_count": null,
      "outputs": [
        {
          "output_type": "stream",
          "text": [
            "/usr/local/lib/python3.6/dist-packages/seaborn/_decorators.py:43: FutureWarning: Pass the following variables as keyword args: x, y. From version 0.12, the only valid positional argument will be `data`, and passing other arguments without an explicit keyword will result in an error or misinterpretation.\n",
            "  FutureWarning\n"
          ],
          "name": "stderr"
        },
        {
          "output_type": "display_data",
          "data": {
            "image/png": "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\n",
            "text/plain": [
              "<Figure size 432x288 with 1 Axes>"
            ]
          },
          "metadata": {
            "tags": []
          }
        }
      ]
    },
    {
      "cell_type": "markdown",
      "metadata": {
        "id": "QSt3CmTurp9R"
      },
      "source": [
        "####report-2\n",
        "here in unit1, mostly high performance employees are getting voluntary retirement.\n",
        "may be high performance employees are not getting:-\n",
        "\n",
        "1- desired salary\n",
        "\n",
        "2- promotion\n",
        "\n",
        "3- respect"
      ]
    },
    {
      "cell_type": "markdown",
      "metadata": {
        "id": "c9m3VR6qLAdI"
      },
      "source": [
        "for involuntary retired"
      ]
    },
    {
      "cell_type": "code",
      "metadata": {
        "id": "0QI1G0JxGqbZ",
        "outputId": "99b08c62-99b1-4743-df27-a42df26ffb0f",
        "colab": {
          "base_uri": "https://localhost:8080/",
          "height": 355
        }
      },
      "source": [
        "df_term_invol_exit=df_term[df_term['''Termination Type\\n(Voluntary or Involuntary Exit)''']!=\"Voluntary Exit\"]\n",
        "df_term_invol_exit.head()"
      ],
      "execution_count": null,
      "outputs": [
        {
          "output_type": "execute_result",
          "data": {
            "text/html": [
              "<div>\n",
              "<style scoped>\n",
              "    .dataframe tbody tr th:only-of-type {\n",
              "        vertical-align: middle;\n",
              "    }\n",
              "\n",
              "    .dataframe tbody tr th {\n",
              "        vertical-align: top;\n",
              "    }\n",
              "\n",
              "    .dataframe thead th {\n",
              "        text-align: right;\n",
              "    }\n",
              "</style>\n",
              "<table border=\"1\" class=\"dataframe\">\n",
              "  <thead>\n",
              "    <tr style=\"text-align: right;\">\n",
              "      <th></th>\n",
              "      <th>Employee ID</th>\n",
              "      <th>Data Effective Date</th>\n",
              "      <th>Employee\\nStatus\\n</th>\n",
              "      <th>Career Level \\n(1=lowest, 6=highest)\\n</th>\n",
              "      <th>Hired Date</th>\n",
              "      <th>Hired in FY\\n(Yes/No)</th>\n",
              "      <th>Termination Date</th>\n",
              "      <th>Terminated\\nin FY\\n(Yes/No)</th>\n",
              "      <th>Termination Type\\n(Voluntary or Involuntary Exit)</th>\n",
              "      <th>Job Start Date</th>\n",
              "      <th>Promoted\\nin FY\\n(Yes/No)</th>\n",
              "      <th>Birth Date</th>\n",
              "      <th>Age\\n(Years)</th>\n",
              "      <th>Tenure\\n(Years)</th>\n",
              "      <th>Time in\\nJob (Years)</th>\n",
              "      <th>Rating</th>\n",
              "      <th>Education\\n(Highest\\nDegree)</th>\n",
              "      <th>age_cat</th>\n",
              "    </tr>\n",
              "  </thead>\n",
              "  <tbody>\n",
              "    <tr>\n",
              "      <th>5931</th>\n",
              "      <td>A5932</td>\n",
              "      <td>2016-12-31</td>\n",
              "      <td>Terminated</td>\n",
              "      <td>1</td>\n",
              "      <td>2016-07-02</td>\n",
              "      <td>Yes</td>\n",
              "      <td>2016-05-27</td>\n",
              "      <td>Yes</td>\n",
              "      <td>Involuntary Exit</td>\n",
              "      <td>2016-07-02</td>\n",
              "      <td>NaN</td>\n",
              "      <td>1993-09-19</td>\n",
              "      <td>23</td>\n",
              "      <td>0</td>\n",
              "      <td>0</td>\n",
              "      <td>At Target</td>\n",
              "      <td>BA/BS</td>\n",
              "      <td>&lt;25</td>\n",
              "    </tr>\n",
              "    <tr>\n",
              "      <th>5933</th>\n",
              "      <td>A5934</td>\n",
              "      <td>2016-12-31</td>\n",
              "      <td>Terminated</td>\n",
              "      <td>1</td>\n",
              "      <td>2015-05-08</td>\n",
              "      <td>Yes</td>\n",
              "      <td>2016-04-02</td>\n",
              "      <td>Yes</td>\n",
              "      <td>Involuntary Exit</td>\n",
              "      <td>2015-05-08</td>\n",
              "      <td>NaN</td>\n",
              "      <td>1992-07-23</td>\n",
              "      <td>24</td>\n",
              "      <td>0</td>\n",
              "      <td>0</td>\n",
              "      <td>At Target</td>\n",
              "      <td>BA/BS</td>\n",
              "      <td>&lt;25</td>\n",
              "    </tr>\n",
              "    <tr>\n",
              "      <th>5935</th>\n",
              "      <td>A5936</td>\n",
              "      <td>2016-12-31</td>\n",
              "      <td>Terminated</td>\n",
              "      <td>1</td>\n",
              "      <td>2016-02-16</td>\n",
              "      <td>Yes</td>\n",
              "      <td>2016-04-29</td>\n",
              "      <td>Yes</td>\n",
              "      <td>Involuntary Exit</td>\n",
              "      <td>2016-02-16</td>\n",
              "      <td>NaN</td>\n",
              "      <td>1992-07-04</td>\n",
              "      <td>24</td>\n",
              "      <td>0</td>\n",
              "      <td>0</td>\n",
              "      <td>At Target</td>\n",
              "      <td>BA/BS</td>\n",
              "      <td>&lt;25</td>\n",
              "    </tr>\n",
              "    <tr>\n",
              "      <th>5937</th>\n",
              "      <td>A5938</td>\n",
              "      <td>2016-12-31</td>\n",
              "      <td>Terminated</td>\n",
              "      <td>1</td>\n",
              "      <td>2015-07-22</td>\n",
              "      <td>Yes</td>\n",
              "      <td>2016-06-15</td>\n",
              "      <td>Yes</td>\n",
              "      <td>Involuntary Exit</td>\n",
              "      <td>2015-07-22</td>\n",
              "      <td>NaN</td>\n",
              "      <td>1993-06-06</td>\n",
              "      <td>23</td>\n",
              "      <td>0</td>\n",
              "      <td>0</td>\n",
              "      <td>At Target</td>\n",
              "      <td>BA/BS</td>\n",
              "      <td>&lt;25</td>\n",
              "    </tr>\n",
              "    <tr>\n",
              "      <th>5939</th>\n",
              "      <td>A5940</td>\n",
              "      <td>2016-12-31</td>\n",
              "      <td>Terminated</td>\n",
              "      <td>1</td>\n",
              "      <td>2016-05-20</td>\n",
              "      <td>Yes</td>\n",
              "      <td>2016-12-25</td>\n",
              "      <td>Yes</td>\n",
              "      <td>Involuntary Exit</td>\n",
              "      <td>2016-05-20</td>\n",
              "      <td>NaN</td>\n",
              "      <td>1994-10-05</td>\n",
              "      <td>22</td>\n",
              "      <td>0</td>\n",
              "      <td>0</td>\n",
              "      <td>At Target</td>\n",
              "      <td>BA/BS</td>\n",
              "      <td>&lt;25</td>\n",
              "    </tr>\n",
              "  </tbody>\n",
              "</table>\n",
              "</div>"
            ],
            "text/plain": [
              "     Employee ID Data Effective Date  ... Education\\n(Highest\\nDegree)  age_cat\n",
              "5931       A5932          2016-12-31  ...                        BA/BS      <25\n",
              "5933       A5934          2016-12-31  ...                        BA/BS      <25\n",
              "5935       A5936          2016-12-31  ...                        BA/BS      <25\n",
              "5937       A5938          2016-12-31  ...                        BA/BS      <25\n",
              "5939       A5940          2016-12-31  ...                        BA/BS      <25\n",
              "\n",
              "[5 rows x 18 columns]"
            ]
          },
          "metadata": {
            "tags": []
          },
          "execution_count": 54
        }
      ]
    },
    {
      "cell_type": "code",
      "metadata": {
        "id": "6filrXUfJ9f5",
        "outputId": "057c6fb8-b9e0-4be5-9f0a-8268c33c9afe",
        "colab": {
          "base_uri": "https://localhost:8080/"
        }
      },
      "source": [
        "((df_term_invol_exit[\"Rating\"].value_counts()/df_term_invol_exit[\"Rating\"].value_counts().values.sum())*100)"
      ],
      "execution_count": null,
      "outputs": [
        {
          "output_type": "execute_result",
          "data": {
            "text/plain": [
              "Below Target                  37.647059\n",
              "At Target                     35.294118\n",
              "Above Target                  17.647059\n",
              "Significantly Below Target     9.411765\n",
              "Name: Rating, dtype: float64"
            ]
          },
          "metadata": {
            "tags": []
          },
          "execution_count": 55
        }
      ]
    },
    {
      "cell_type": "code",
      "metadata": {
        "id": "YIz8szqlKBYo",
        "outputId": "57c93af6-d40b-40e7-ca7d-f2a12d9610e1",
        "colab": {
          "base_uri": "https://localhost:8080/",
          "height": 439
        }
      },
      "source": [
        "sns.barplot(((df_term_invol_exit[\"Rating\"].value_counts()/df_term_invol_exit[\"Rating\"].value_counts().values.sum())*100).index,((df_term_invol_exit[\"Rating\"].value_counts()/df_term_invol_exit[\"Rating\"].value_counts().values.sum())*100).values)\n",
        "plt.xticks(rotation=45)\n",
        "for i,value in enumerate(((df_term_invol_exit[\"Rating\"].value_counts()/df_term_invol_exit[\"Rating\"].value_counts().values.sum())*100).index):\n",
        "    x,y=i,int(round(((df_term_invol_exit[\"Rating\"].value_counts()/df_term_invol_exit[\"Rating\"].value_counts().values.sum())*100).loc[value]))\n",
        "    plt.text(x,y,str(y)+\"%\",ha=\"center\")\n",
        "    plt.xlabel(\"Rating\")\n",
        "    plt.ylabel(\"Counts\")"
      ],
      "execution_count": null,
      "outputs": [
        {
          "output_type": "stream",
          "text": [
            "/usr/local/lib/python3.6/dist-packages/seaborn/_decorators.py:43: FutureWarning: Pass the following variables as keyword args: x, y. From version 0.12, the only valid positional argument will be `data`, and passing other arguments without an explicit keyword will result in an error or misinterpretation.\n",
            "  FutureWarning\n"
          ],
          "name": "stderr"
        },
        {
          "output_type": "display_data",
          "data": {
            "image/png": "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\n",
            "text/plain": [
              "<Figure size 432x288 with 1 Axes>"
            ]
          },
          "metadata": {
            "tags": []
          }
        }
      ]
    },
    {
      "cell_type": "markdown",
      "metadata": {
        "id": "qFruD2K2rC63"
      },
      "source": [
        "####report-3\n",
        "here in unit1, mostly low performance employees and even some high performance employees are getting Involuntary retirement.\n",
        "\n",
        "That means they are not terminating on the basis of performance and that is not a good thing."
      ]
    },
    {
      "cell_type": "markdown",
      "metadata": {
        "id": "T1cSiKBPuMfs"
      },
      "source": [
        "###4- career level termination"
      ]
    },
    {
      "cell_type": "code",
      "metadata": {
        "id": "N8YNgcJpt1uO",
        "outputId": "3f243738-ec5e-4cfc-fcd5-8b46dde980ee",
        "colab": {
          "base_uri": "https://localhost:8080/"
        }
      },
      "source": [
        "df_term[\"Career Level \\n(1=lowest, 6=highest)\\n\"].value_counts()"
      ],
      "execution_count": null,
      "outputs": [
        {
          "output_type": "execute_result",
          "data": {
            "text/plain": [
              "1    135\n",
              "2    110\n",
              "3     93\n",
              "4     44\n",
              "5     18\n",
              "6      8\n",
              "Name: Career Level \\n(1=lowest, 6=highest)\\n, dtype: int64"
            ]
          },
          "metadata": {
            "tags": []
          },
          "execution_count": 57
        }
      ]
    },
    {
      "cell_type": "code",
      "metadata": {
        "id": "sI1ApVpnu0qo",
        "outputId": "7231c42d-6df2-4b29-8d9a-fa8bbca6e0db",
        "colab": {
          "base_uri": "https://localhost:8080/"
        }
      },
      "source": [
        "(df_term[\"Career Level \\n(1=lowest, 6=highest)\\n\"].value_counts()/df_term[\"Career Level \\n(1=lowest, 6=highest)\\n\"].value_counts().values.sum())*100"
      ],
      "execution_count": null,
      "outputs": [
        {
          "output_type": "execute_result",
          "data": {
            "text/plain": [
              "1    33.088235\n",
              "2    26.960784\n",
              "3    22.794118\n",
              "4    10.784314\n",
              "5     4.411765\n",
              "6     1.960784\n",
              "Name: Career Level \\n(1=lowest, 6=highest)\\n, dtype: float64"
            ]
          },
          "metadata": {
            "tags": []
          },
          "execution_count": 58
        }
      ]
    },
    {
      "cell_type": "code",
      "metadata": {
        "id": "K6YcO86dur_s",
        "outputId": "aa6cb955-2ee6-44df-d1fb-0c25acea8a73",
        "colab": {
          "base_uri": "https://localhost:8080/",
          "height": 340
        }
      },
      "source": [
        "sns.barplot(((df_term[\"Career Level \\n(1=lowest, 6=highest)\\n\"].value_counts()/df_term[\"Career Level \\n(1=lowest, 6=highest)\\n\"].value_counts().values.sum())*100).index,((df_term[\"Career Level \\n(1=lowest, 6=highest)\\n\"].value_counts()/df_term[\"Career Level \\n(1=lowest, 6=highest)\\n\"].value_counts().values.sum())*100).values)\n",
        "for i,value in enumerate(((df_term[\"Career Level \\n(1=lowest, 6=highest)\\n\"].value_counts()/df_term[\"Career Level \\n(1=lowest, 6=highest)\\n\"].value_counts().values.sum())*100).index):\n",
        "    x,y=i,int(round(((df_term[\"Career Level \\n(1=lowest, 6=highest)\\n\"].value_counts()/df_term[\"Career Level \\n(1=lowest, 6=highest)\\n\"].value_counts().values.sum())*100).loc[value]))\n",
        "    plt.text(x,y,str(y)+\"%\",ha=\"center\")\n",
        "    plt.xlabel(\"Career Level\")\n",
        "    plt.ylabel(\"Counts\")"
      ],
      "execution_count": null,
      "outputs": [
        {
          "output_type": "stream",
          "text": [
            "/usr/local/lib/python3.6/dist-packages/seaborn/_decorators.py:43: FutureWarning: Pass the following variables as keyword args: x, y. From version 0.12, the only valid positional argument will be `data`, and passing other arguments without an explicit keyword will result in an error or misinterpretation.\n",
            "  FutureWarning\n"
          ],
          "name": "stderr"
        },
        {
          "output_type": "display_data",
          "data": {
            "image/png": "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\n",
            "text/plain": [
              "<Figure size 432x288 with 1 Axes>"
            ]
          },
          "metadata": {
            "tags": []
          }
        }
      ]
    },
    {
      "cell_type": "markdown",
      "metadata": {
        "id": "-gYKrDxE0IZv"
      },
      "source": [
        "####report-4\n",
        "here in unit1 company is terminating mostly the low career level employees......as they are biased to the senior levels....even senior level employees coming in the (4<career level<6) having low performance are not getting the termination."
      ]
    },
    {
      "cell_type": "code",
      "metadata": {
        "id": "HqsooWHgPBN7",
        "outputId": "07ed8d10-8709-4ce7-b91b-45a3c62aa3aa",
        "colab": {
          "base_uri": "https://localhost:8080/"
        }
      },
      "source": [
        "df_term_car_lev_vs_vol_invol=df_term.groupby(['''Career Level \\n(1=lowest, 6=highest)\\n''','''Termination Type\\n(Voluntary or Involuntary Exit)'''])['''Termination Type\\n(Voluntary or Involuntary Exit)'''].agg(\"count\")\n",
        "df_term_car_lev_vs_vol_invol"
      ],
      "execution_count": null,
      "outputs": [
        {
          "output_type": "execute_result",
          "data": {
            "text/plain": [
              "Career Level \\n(1=lowest, 6=highest)\\n  Termination Type\\n(Voluntary or Involuntary Exit)\n",
              "1                                       Involuntary Exit                                     54\n",
              "                                        Voluntary Exit                                       81\n",
              "2                                       Involuntary Exit                                     22\n",
              "                                        Voluntary Exit                                       88\n",
              "3                                       Involuntary Exit                                      9\n",
              "                                        Voluntary Exit                                       84\n",
              "4                                       Voluntary Exit                                       44\n",
              "5                                       Voluntary Exit                                       18\n",
              "6                                       Voluntary Exit                                        8\n",
              "Name: Termination Type\\n(Voluntary or Involuntary Exit), dtype: int64"
            ]
          },
          "metadata": {
            "tags": []
          },
          "execution_count": 60
        }
      ]
    },
    {
      "cell_type": "markdown",
      "metadata": {
        "id": "bTACviQGT7fy"
      },
      "source": [
        "#reports on active employees"
      ]
    },
    {
      "cell_type": "code",
      "metadata": {
        "id": "9CCgS7dqTpyn",
        "outputId": "c5a8399b-cb04-4dca-8cd0-68bb9b4ad820",
        "colab": {
          "base_uri": "https://localhost:8080/",
          "height": 355
        }
      },
      "source": [
        "df_active=df[(df[\"Termination Date\"].isnull())]\n",
        "df_active.head()"
      ],
      "execution_count": null,
      "outputs": [
        {
          "output_type": "execute_result",
          "data": {
            "text/html": [
              "<div>\n",
              "<style scoped>\n",
              "    .dataframe tbody tr th:only-of-type {\n",
              "        vertical-align: middle;\n",
              "    }\n",
              "\n",
              "    .dataframe tbody tr th {\n",
              "        vertical-align: top;\n",
              "    }\n",
              "\n",
              "    .dataframe thead th {\n",
              "        text-align: right;\n",
              "    }\n",
              "</style>\n",
              "<table border=\"1\" class=\"dataframe\">\n",
              "  <thead>\n",
              "    <tr style=\"text-align: right;\">\n",
              "      <th></th>\n",
              "      <th>Employee ID</th>\n",
              "      <th>Data Effective Date</th>\n",
              "      <th>Employee\\nStatus\\n</th>\n",
              "      <th>Career Level \\n(1=lowest, 6=highest)\\n</th>\n",
              "      <th>Hired Date</th>\n",
              "      <th>Hired in FY\\n(Yes/No)</th>\n",
              "      <th>Termination Date</th>\n",
              "      <th>Terminated\\nin FY\\n(Yes/No)</th>\n",
              "      <th>Termination Type\\n(Voluntary or Involuntary Exit)</th>\n",
              "      <th>Job Start Date</th>\n",
              "      <th>Promoted\\nin FY\\n(Yes/No)</th>\n",
              "      <th>Birth Date</th>\n",
              "      <th>Age\\n(Years)</th>\n",
              "      <th>Tenure\\n(Years)</th>\n",
              "      <th>Time in\\nJob (Years)</th>\n",
              "      <th>Rating</th>\n",
              "      <th>Education\\n(Highest\\nDegree)</th>\n",
              "      <th>age_cat</th>\n",
              "    </tr>\n",
              "  </thead>\n",
              "  <tbody>\n",
              "    <tr>\n",
              "      <th>0</th>\n",
              "      <td>A0001</td>\n",
              "      <td>2016-12-31</td>\n",
              "      <td>Active</td>\n",
              "      <td>1</td>\n",
              "      <td>2016-12-09</td>\n",
              "      <td>Yes</td>\n",
              "      <td>NaT</td>\n",
              "      <td>No</td>\n",
              "      <td>NaN</td>\n",
              "      <td>2016-12-09</td>\n",
              "      <td>NaN</td>\n",
              "      <td>1992-09-21</td>\n",
              "      <td>24</td>\n",
              "      <td>NaN</td>\n",
              "      <td>NaN</td>\n",
              "      <td>At Target</td>\n",
              "      <td>BA/BS</td>\n",
              "      <td>&lt;25</td>\n",
              "    </tr>\n",
              "    <tr>\n",
              "      <th>1</th>\n",
              "      <td>A0002</td>\n",
              "      <td>2016-12-31</td>\n",
              "      <td>Active</td>\n",
              "      <td>1</td>\n",
              "      <td>2016-04-19</td>\n",
              "      <td>Yes</td>\n",
              "      <td>NaT</td>\n",
              "      <td>No</td>\n",
              "      <td>NaN</td>\n",
              "      <td>2016-04-19</td>\n",
              "      <td>NaN</td>\n",
              "      <td>1993-11-16</td>\n",
              "      <td>23</td>\n",
              "      <td>NaN</td>\n",
              "      <td>NaN</td>\n",
              "      <td>At Target</td>\n",
              "      <td>BA/BS</td>\n",
              "      <td>&lt;25</td>\n",
              "    </tr>\n",
              "    <tr>\n",
              "      <th>2</th>\n",
              "      <td>A0003</td>\n",
              "      <td>2016-12-31</td>\n",
              "      <td>Active</td>\n",
              "      <td>1</td>\n",
              "      <td>2016-03-14</td>\n",
              "      <td>Yes</td>\n",
              "      <td>NaT</td>\n",
              "      <td>No</td>\n",
              "      <td>NaN</td>\n",
              "      <td>2016-03-14</td>\n",
              "      <td>NaN</td>\n",
              "      <td>1993-11-26</td>\n",
              "      <td>23</td>\n",
              "      <td>NaN</td>\n",
              "      <td>NaN</td>\n",
              "      <td>At Target</td>\n",
              "      <td>MA/MS</td>\n",
              "      <td>&lt;25</td>\n",
              "    </tr>\n",
              "    <tr>\n",
              "      <th>3</th>\n",
              "      <td>A0004</td>\n",
              "      <td>2016-12-31</td>\n",
              "      <td>Active</td>\n",
              "      <td>1</td>\n",
              "      <td>2016-12-09</td>\n",
              "      <td>Yes</td>\n",
              "      <td>NaT</td>\n",
              "      <td>No</td>\n",
              "      <td>NaN</td>\n",
              "      <td>2016-12-09</td>\n",
              "      <td>NaN</td>\n",
              "      <td>1993-03-28</td>\n",
              "      <td>23</td>\n",
              "      <td>NaN</td>\n",
              "      <td>NaN</td>\n",
              "      <td>At Target</td>\n",
              "      <td>BA/BS</td>\n",
              "      <td>&lt;25</td>\n",
              "    </tr>\n",
              "    <tr>\n",
              "      <th>4</th>\n",
              "      <td>A0005</td>\n",
              "      <td>2016-12-31</td>\n",
              "      <td>Active</td>\n",
              "      <td>1</td>\n",
              "      <td>2016-04-19</td>\n",
              "      <td>Yes</td>\n",
              "      <td>NaT</td>\n",
              "      <td>No</td>\n",
              "      <td>NaN</td>\n",
              "      <td>2016-04-19</td>\n",
              "      <td>NaN</td>\n",
              "      <td>1992-01-09</td>\n",
              "      <td>24</td>\n",
              "      <td>NaN</td>\n",
              "      <td>NaN</td>\n",
              "      <td>At Target</td>\n",
              "      <td>BA/BS</td>\n",
              "      <td>&lt;25</td>\n",
              "    </tr>\n",
              "  </tbody>\n",
              "</table>\n",
              "</div>"
            ],
            "text/plain": [
              "  Employee ID Data Effective Date  ... Education\\n(Highest\\nDegree)  age_cat\n",
              "0       A0001          2016-12-31  ...                        BA/BS      <25\n",
              "1       A0002          2016-12-31  ...                        BA/BS      <25\n",
              "2       A0003          2016-12-31  ...                        MA/MS      <25\n",
              "3       A0004          2016-12-31  ...                        BA/BS      <25\n",
              "4       A0005          2016-12-31  ...                        BA/BS      <25\n",
              "\n",
              "[5 rows x 18 columns]"
            ]
          },
          "metadata": {
            "tags": []
          },
          "execution_count": 61
        }
      ]
    },
    {
      "cell_type": "code",
      "metadata": {
        "id": "hh6epoW0U7qK",
        "outputId": "bc48f91c-51bc-47b8-a711-6f03206d17b3",
        "colab": {
          "base_uri": "https://localhost:8080/"
        }
      },
      "source": [
        "df_active[\"Rating\"].value_counts()"
      ],
      "execution_count": null,
      "outputs": [
        {
          "output_type": "execute_result",
          "data": {
            "text/plain": [
              "Above Target                  2828\n",
              "At Target                     2447\n",
              "Below Target                   332\n",
              "Significantly Above Target     308\n",
              "Significantly Below Target       5\n",
              "Name: Rating, dtype: int64"
            ]
          },
          "metadata": {
            "tags": []
          },
          "execution_count": 62
        }
      ]
    },
    {
      "cell_type": "code",
      "metadata": {
        "id": "kfH0XLpKXHMq",
        "outputId": "f341fcf0-60b4-4b8e-9e75-5df0a9700090",
        "colab": {
          "base_uri": "https://localhost:8080/"
        }
      },
      "source": [
        "((df_active[\"Rating\"].value_counts())/np.sum(df_active[\"Rating\"].value_counts().values)*100)"
      ],
      "execution_count": null,
      "outputs": [
        {
          "output_type": "execute_result",
          "data": {
            "text/plain": [
              "Above Target                  47.770270\n",
              "At Target                     41.334459\n",
              "Below Target                   5.608108\n",
              "Significantly Above Target     5.202703\n",
              "Significantly Below Target     0.084459\n",
              "Name: Rating, dtype: float64"
            ]
          },
          "metadata": {
            "tags": []
          },
          "execution_count": 63
        }
      ]
    },
    {
      "cell_type": "code",
      "metadata": {
        "id": "p2LFzvbAeE5m",
        "outputId": "1a1943c7-e408-4c5b-89c1-59cdde9e7320",
        "colab": {
          "base_uri": "https://localhost:8080/",
          "height": 442
        }
      },
      "source": [
        "sns.barplot(((df_active[\"Rating\"].value_counts())/np.sum(df_active[\"Rating\"].value_counts().values)*100).index,((df_active[\"Rating\"].value_counts())/np.sum(df_active[\"Rating\"].value_counts().values)*100).values)\n",
        "plt.xticks(rotation=45)\n",
        "for i,value in enumerate(((df_active[\"Rating\"].value_counts())/np.sum(df_active[\"Rating\"].value_counts().values)*100).index):\n",
        "    x,y=i,int(round(((df_active[\"Rating\"].value_counts())/np.sum(df_active[\"Rating\"].value_counts().values)*100).loc[value]))\n",
        "    plt.text(x,y,str(y)+\"%\",ha=\"center\")\n",
        "    plt.xlabel(\"Rating\")\n",
        "    plt.ylabel(\"Counts\")"
      ],
      "execution_count": null,
      "outputs": [
        {
          "output_type": "stream",
          "text": [
            "/usr/local/lib/python3.6/dist-packages/seaborn/_decorators.py:43: FutureWarning: Pass the following variables as keyword args: x, y. From version 0.12, the only valid positional argument will be `data`, and passing other arguments without an explicit keyword will result in an error or misinterpretation.\n",
            "  FutureWarning\n"
          ],
          "name": "stderr"
        },
        {
          "output_type": "display_data",
          "data": {
            "image/png": "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\n",
            "text/plain": [
              "<Figure size 432x288 with 1 Axes>"
            ]
          },
          "metadata": {
            "tags": []
          }
        }
      ]
    },
    {
      "cell_type": "markdown",
      "metadata": {
        "id": "vZPgCSINTRml"
      },
      "source": [
        "####report-5\n",
        "here in unit1 only half of the employees are having good performance and the rest are bad performers."
      ]
    },
    {
      "cell_type": "code",
      "metadata": {
        "id": "KX_XS1rEWAbY",
        "outputId": "f2e8967d-53ae-4d83-d278-4218b817e78e",
        "colab": {
          "base_uri": "https://localhost:8080/",
          "height": 355
        }
      },
      "source": [
        "df_active.head()"
      ],
      "execution_count": null,
      "outputs": [
        {
          "output_type": "execute_result",
          "data": {
            "text/html": [
              "<div>\n",
              "<style scoped>\n",
              "    .dataframe tbody tr th:only-of-type {\n",
              "        vertical-align: middle;\n",
              "    }\n",
              "\n",
              "    .dataframe tbody tr th {\n",
              "        vertical-align: top;\n",
              "    }\n",
              "\n",
              "    .dataframe thead th {\n",
              "        text-align: right;\n",
              "    }\n",
              "</style>\n",
              "<table border=\"1\" class=\"dataframe\">\n",
              "  <thead>\n",
              "    <tr style=\"text-align: right;\">\n",
              "      <th></th>\n",
              "      <th>Employee ID</th>\n",
              "      <th>Data Effective Date</th>\n",
              "      <th>Employee\\nStatus\\n</th>\n",
              "      <th>Career Level \\n(1=lowest, 6=highest)\\n</th>\n",
              "      <th>Hired Date</th>\n",
              "      <th>Hired in FY\\n(Yes/No)</th>\n",
              "      <th>Termination Date</th>\n",
              "      <th>Terminated\\nin FY\\n(Yes/No)</th>\n",
              "      <th>Termination Type\\n(Voluntary or Involuntary Exit)</th>\n",
              "      <th>Job Start Date</th>\n",
              "      <th>Promoted\\nin FY\\n(Yes/No)</th>\n",
              "      <th>Birth Date</th>\n",
              "      <th>Age\\n(Years)</th>\n",
              "      <th>Tenure\\n(Years)</th>\n",
              "      <th>Time in\\nJob (Years)</th>\n",
              "      <th>Rating</th>\n",
              "      <th>Education\\n(Highest\\nDegree)</th>\n",
              "      <th>age_cat</th>\n",
              "    </tr>\n",
              "  </thead>\n",
              "  <tbody>\n",
              "    <tr>\n",
              "      <th>0</th>\n",
              "      <td>A0001</td>\n",
              "      <td>2016-12-31</td>\n",
              "      <td>Active</td>\n",
              "      <td>1</td>\n",
              "      <td>2016-12-09</td>\n",
              "      <td>Yes</td>\n",
              "      <td>NaT</td>\n",
              "      <td>No</td>\n",
              "      <td>NaN</td>\n",
              "      <td>2016-12-09</td>\n",
              "      <td>NaN</td>\n",
              "      <td>1992-09-21</td>\n",
              "      <td>24</td>\n",
              "      <td>NaN</td>\n",
              "      <td>NaN</td>\n",
              "      <td>At Target</td>\n",
              "      <td>BA/BS</td>\n",
              "      <td>&lt;25</td>\n",
              "    </tr>\n",
              "    <tr>\n",
              "      <th>1</th>\n",
              "      <td>A0002</td>\n",
              "      <td>2016-12-31</td>\n",
              "      <td>Active</td>\n",
              "      <td>1</td>\n",
              "      <td>2016-04-19</td>\n",
              "      <td>Yes</td>\n",
              "      <td>NaT</td>\n",
              "      <td>No</td>\n",
              "      <td>NaN</td>\n",
              "      <td>2016-04-19</td>\n",
              "      <td>NaN</td>\n",
              "      <td>1993-11-16</td>\n",
              "      <td>23</td>\n",
              "      <td>NaN</td>\n",
              "      <td>NaN</td>\n",
              "      <td>At Target</td>\n",
              "      <td>BA/BS</td>\n",
              "      <td>&lt;25</td>\n",
              "    </tr>\n",
              "    <tr>\n",
              "      <th>2</th>\n",
              "      <td>A0003</td>\n",
              "      <td>2016-12-31</td>\n",
              "      <td>Active</td>\n",
              "      <td>1</td>\n",
              "      <td>2016-03-14</td>\n",
              "      <td>Yes</td>\n",
              "      <td>NaT</td>\n",
              "      <td>No</td>\n",
              "      <td>NaN</td>\n",
              "      <td>2016-03-14</td>\n",
              "      <td>NaN</td>\n",
              "      <td>1993-11-26</td>\n",
              "      <td>23</td>\n",
              "      <td>NaN</td>\n",
              "      <td>NaN</td>\n",
              "      <td>At Target</td>\n",
              "      <td>MA/MS</td>\n",
              "      <td>&lt;25</td>\n",
              "    </tr>\n",
              "    <tr>\n",
              "      <th>3</th>\n",
              "      <td>A0004</td>\n",
              "      <td>2016-12-31</td>\n",
              "      <td>Active</td>\n",
              "      <td>1</td>\n",
              "      <td>2016-12-09</td>\n",
              "      <td>Yes</td>\n",
              "      <td>NaT</td>\n",
              "      <td>No</td>\n",
              "      <td>NaN</td>\n",
              "      <td>2016-12-09</td>\n",
              "      <td>NaN</td>\n",
              "      <td>1993-03-28</td>\n",
              "      <td>23</td>\n",
              "      <td>NaN</td>\n",
              "      <td>NaN</td>\n",
              "      <td>At Target</td>\n",
              "      <td>BA/BS</td>\n",
              "      <td>&lt;25</td>\n",
              "    </tr>\n",
              "    <tr>\n",
              "      <th>4</th>\n",
              "      <td>A0005</td>\n",
              "      <td>2016-12-31</td>\n",
              "      <td>Active</td>\n",
              "      <td>1</td>\n",
              "      <td>2016-04-19</td>\n",
              "      <td>Yes</td>\n",
              "      <td>NaT</td>\n",
              "      <td>No</td>\n",
              "      <td>NaN</td>\n",
              "      <td>2016-04-19</td>\n",
              "      <td>NaN</td>\n",
              "      <td>1992-01-09</td>\n",
              "      <td>24</td>\n",
              "      <td>NaN</td>\n",
              "      <td>NaN</td>\n",
              "      <td>At Target</td>\n",
              "      <td>BA/BS</td>\n",
              "      <td>&lt;25</td>\n",
              "    </tr>\n",
              "  </tbody>\n",
              "</table>\n",
              "</div>"
            ],
            "text/plain": [
              "  Employee ID Data Effective Date  ... Education\\n(Highest\\nDegree)  age_cat\n",
              "0       A0001          2016-12-31  ...                        BA/BS      <25\n",
              "1       A0002          2016-12-31  ...                        BA/BS      <25\n",
              "2       A0003          2016-12-31  ...                        MA/MS      <25\n",
              "3       A0004          2016-12-31  ...                        BA/BS      <25\n",
              "4       A0005          2016-12-31  ...                        BA/BS      <25\n",
              "\n",
              "[5 rows x 18 columns]"
            ]
          },
          "metadata": {
            "tags": []
          },
          "execution_count": 65
        }
      ]
    },
    {
      "cell_type": "code",
      "metadata": {
        "id": "ygiDNIWS7urF",
        "outputId": "4746571e-aa08-4474-840f-ccda07488c82",
        "colab": {
          "base_uri": "https://localhost:8080/"
        }
      },
      "source": [
        "df_active[\"Education\\n(Highest\\nDegree)\"].unique()"
      ],
      "execution_count": null,
      "outputs": [
        {
          "output_type": "execute_result",
          "data": {
            "text/plain": [
              "array(['BA/BS', 'MA/MS', 'MBA', 'PhD', 'JD'], dtype=object)"
            ]
          },
          "metadata": {
            "tags": []
          },
          "execution_count": 66
        }
      ]
    },
    {
      "cell_type": "code",
      "metadata": {
        "id": "Y-Yr_Qm176ih",
        "outputId": "e2ec8f8e-69ea-4a81-e39d-8e9eec4b0915",
        "colab": {
          "base_uri": "https://localhost:8080/"
        }
      },
      "source": [
        "df_active[\"Education\\n(Highest\\nDegree)\"].value_counts()"
      ],
      "execution_count": null,
      "outputs": [
        {
          "output_type": "execute_result",
          "data": {
            "text/plain": [
              "BA/BS    3399\n",
              "MA/MS    1209\n",
              "MBA      1152\n",
              "PhD        91\n",
              "JD         69\n",
              "Name: Education\\n(Highest\\nDegree), dtype: int64"
            ]
          },
          "metadata": {
            "tags": []
          },
          "execution_count": 67
        }
      ]
    },
    {
      "cell_type": "code",
      "metadata": {
        "id": "AfAhC2-D-ZUo",
        "outputId": "87d1464e-daa4-4782-ade1-bb1a0b813e00",
        "colab": {
          "base_uri": "https://localhost:8080/"
        }
      },
      "source": [
        "df_active_edu_career=df_active.groupby([\"Education\\n(Highest\\nDegree)\",\"Career Level \\n(1=lowest, 6=highest)\\n\"])[\"Career Level \\n(1=lowest, 6=highest)\\n\"].agg(\"count\")\n",
        "df_active_edu_career"
      ],
      "execution_count": null,
      "outputs": [
        {
          "output_type": "execute_result",
          "data": {
            "text/plain": [
              "Education\\n(Highest\\nDegree)  Career Level \\n(1=lowest, 6=highest)\\n\n",
              "BA/BS                         1                                          796\n",
              "                              2                                         1009\n",
              "                              3                                          537\n",
              "                              4                                          527\n",
              "                              5                                          297\n",
              "                              6                                          233\n",
              "JD                            5                                           43\n",
              "                              6                                           26\n",
              "MA/MS                         1                                           52\n",
              "                              2                                           45\n",
              "                              3                                          314\n",
              "                              4                                          291\n",
              "                              5                                          271\n",
              "                              6                                          236\n",
              "MBA                           1                                           52\n",
              "                              2                                           46\n",
              "                              3                                          309\n",
              "                              4                                          292\n",
              "                              5                                          234\n",
              "                              6                                          219\n",
              "PhD                           5                                           55\n",
              "                              6                                           36\n",
              "Name: Career Level \\n(1=lowest, 6=highest)\\n, dtype: int64"
            ]
          },
          "metadata": {
            "tags": []
          },
          "execution_count": 68
        }
      ]
    },
    {
      "cell_type": "code",
      "metadata": {
        "id": "IY6S_jCi9mOk",
        "outputId": "69a1e520-0644-40a6-b304-2beb0afa21d8",
        "colab": {
          "base_uri": "https://localhost:8080/"
        }
      },
      "source": [
        "df_active_edu_career.index"
      ],
      "execution_count": null,
      "outputs": [
        {
          "output_type": "execute_result",
          "data": {
            "text/plain": [
              "MultiIndex([('BA/BS', 1),\n",
              "            ('BA/BS', 2),\n",
              "            ('BA/BS', 3),\n",
              "            ('BA/BS', 4),\n",
              "            ('BA/BS', 5),\n",
              "            ('BA/BS', 6),\n",
              "            (   'JD', 5),\n",
              "            (   'JD', 6),\n",
              "            ('MA/MS', 1),\n",
              "            ('MA/MS', 2),\n",
              "            ('MA/MS', 3),\n",
              "            ('MA/MS', 4),\n",
              "            ('MA/MS', 5),\n",
              "            ('MA/MS', 6),\n",
              "            (  'MBA', 1),\n",
              "            (  'MBA', 2),\n",
              "            (  'MBA', 3),\n",
              "            (  'MBA', 4),\n",
              "            (  'MBA', 5),\n",
              "            (  'MBA', 6),\n",
              "            (  'PhD', 5),\n",
              "            (  'PhD', 6)],\n",
              "           names=['Education\\n(Highest\\nDegree)', 'Career Level \\n(1=lowest, 6=highest)\\n'])"
            ]
          },
          "metadata": {
            "tags": []
          },
          "execution_count": 69
        }
      ]
    },
    {
      "cell_type": "code",
      "metadata": {
        "id": "rRHzPxxpCvmj",
        "outputId": "98b5c3a3-923c-42ab-c41b-ff61d7fc5aa2",
        "colab": {
          "base_uri": "https://localhost:8080/"
        }
      },
      "source": [
        "df_active_edu_career.loc[('BA/BS', 4)]"
      ],
      "execution_count": null,
      "outputs": [
        {
          "output_type": "execute_result",
          "data": {
            "text/plain": [
              "527"
            ]
          },
          "metadata": {
            "tags": []
          },
          "execution_count": 70
        }
      ]
    },
    {
      "cell_type": "code",
      "metadata": {
        "id": "ou-Unlbn-hhR",
        "outputId": "8411fb04-0ae2-446d-e9ab-1962a7ec3201",
        "colab": {
          "base_uri": "https://localhost:8080/"
        }
      },
      "source": [
        "df_active_edu_career.index[0][1]"
      ],
      "execution_count": null,
      "outputs": [
        {
          "output_type": "execute_result",
          "data": {
            "text/plain": [
              "1"
            ]
          },
          "metadata": {
            "tags": []
          },
          "execution_count": 71
        }
      ]
    },
    {
      "cell_type": "code",
      "metadata": {
        "id": "yBLygDIx-p3h",
        "outputId": "4284d6d8-f75f-4a0f-9e3f-253ecb5ec606",
        "colab": {
          "base_uri": "https://localhost:8080/"
        }
      },
      "source": [
        "s1,s2,s3,s4,s5=0,0,0,0,0\n",
        "for i in df_active_edu_career.index:\n",
        "    if (i[0]=='BA/BS' and i[1]>=4):\n",
        "        s1+=df_active_edu_career.loc[i]\n",
        "\n",
        "    elif (i[0]=='JD' and i[1]>=4):\n",
        "        s2+=df_active_edu_career.loc[i]\n",
        "\n",
        "    elif (i[0]=='MA/MS' and i[1]>=4):\n",
        "        s3+=df_active_edu_career.loc[i]\n",
        "\n",
        "    elif (i[0]=='MBA' and i[1]>=4):\n",
        "        s4+=df_active_edu_career.loc[i]\n",
        "\n",
        "    elif (i[0]=='PhD' and i[1]>=4):\n",
        "        s5+=df_active_edu_career.loc[i]\n",
        "\n",
        "print(f\"BA/BS : {int(round((s1/(s1+s2+s3+s4))*100))}\\nJD : {int(round((s2/(s1+s2+s3+s4))*100))}\\nMA/MS : {int(round((s3/(s1+s2+s3+s4))*100))}\\nMBA : {int(round((s4/(s1+s2+s3+s4))*100))}\\nPhD : {int(round((s5/(s1+s2+s3+s4))*100))}\")"
      ],
      "execution_count": null,
      "outputs": [
        {
          "output_type": "stream",
          "text": [
            "BA/BS : 40\n",
            "JD : 3\n",
            "MA/MS : 30\n",
            "MBA : 28\n",
            "PhD : 3\n"
          ],
          "name": "stdout"
        }
      ]
    },
    {
      "cell_type": "code",
      "metadata": {
        "id": "L9_UgBehlufo",
        "outputId": "b42d5faa-6a25-4a7b-e995-909373a34404",
        "colab": {
          "base_uri": "https://localhost:8080/",
          "height": 199
        }
      },
      "source": [
        "df_active_edu_career_dataframe=pd.DataFrame({\"counts\":[int(round((s1/(s1+s2+s3+s4))*100)),int(round((s2/(s1+s2+s3+s4))*100)),int(round((s3/(s1+s2+s3+s4))*100)),int(round((s4/(s1+s2+s3+s4))*100)),int(round((s5/(s1+s2+s3+s4))*100))]},index=[\"BA/BS\",\"JD\",\"MA/MS\",\"MBA\",\"PhD\"])\n",
        "df_active_edu_career_dataframe"
      ],
      "execution_count": null,
      "outputs": [
        {
          "output_type": "execute_result",
          "data": {
            "text/html": [
              "<div>\n",
              "<style scoped>\n",
              "    .dataframe tbody tr th:only-of-type {\n",
              "        vertical-align: middle;\n",
              "    }\n",
              "\n",
              "    .dataframe tbody tr th {\n",
              "        vertical-align: top;\n",
              "    }\n",
              "\n",
              "    .dataframe thead th {\n",
              "        text-align: right;\n",
              "    }\n",
              "</style>\n",
              "<table border=\"1\" class=\"dataframe\">\n",
              "  <thead>\n",
              "    <tr style=\"text-align: right;\">\n",
              "      <th></th>\n",
              "      <th>counts</th>\n",
              "    </tr>\n",
              "  </thead>\n",
              "  <tbody>\n",
              "    <tr>\n",
              "      <th>BA/BS</th>\n",
              "      <td>40</td>\n",
              "    </tr>\n",
              "    <tr>\n",
              "      <th>JD</th>\n",
              "      <td>3</td>\n",
              "    </tr>\n",
              "    <tr>\n",
              "      <th>MA/MS</th>\n",
              "      <td>30</td>\n",
              "    </tr>\n",
              "    <tr>\n",
              "      <th>MBA</th>\n",
              "      <td>28</td>\n",
              "    </tr>\n",
              "    <tr>\n",
              "      <th>PhD</th>\n",
              "      <td>3</td>\n",
              "    </tr>\n",
              "  </tbody>\n",
              "</table>\n",
              "</div>"
            ],
            "text/plain": [
              "       counts\n",
              "BA/BS      40\n",
              "JD          3\n",
              "MA/MS      30\n",
              "MBA        28\n",
              "PhD         3"
            ]
          },
          "metadata": {
            "tags": []
          },
          "execution_count": 73
        }
      ]
    },
    {
      "cell_type": "code",
      "metadata": {
        "id": "1Ii0YYH0ltxX",
        "outputId": "d8e5c3b5-b14f-4a33-ad86-b9bde64dc5d5",
        "colab": {
          "base_uri": "https://localhost:8080/",
          "height": 411
        }
      },
      "source": [
        "fig=plt.gcf()\n",
        "fig.set_size_inches(8,5)\n",
        "sns.barplot(df_active_edu_career_dataframe.index,df_active_edu_career_dataframe[\"counts\"])\n",
        "for i,value in enumerate(df_active_edu_career_dataframe.index):\n",
        "    x=i\n",
        "    y=int(round(df_active_edu_career_dataframe.loc[value]))\n",
        "    plt.text(x,y,str(y)+\"%\",ha=\"center\")\n",
        "plt.xlabel(\"Education_Degree\")\n",
        "plt.ylabel(\"Counts\")"
      ],
      "execution_count": null,
      "outputs": [
        {
          "output_type": "stream",
          "text": [
            "/usr/local/lib/python3.6/dist-packages/seaborn/_decorators.py:43: FutureWarning: Pass the following variables as keyword args: x, y. From version 0.12, the only valid positional argument will be `data`, and passing other arguments without an explicit keyword will result in an error or misinterpretation.\n",
            "  FutureWarning\n"
          ],
          "name": "stderr"
        },
        {
          "output_type": "execute_result",
          "data": {
            "text/plain": [
              "Text(0, 0.5, 'Counts')"
            ]
          },
          "metadata": {
            "tags": []
          },
          "execution_count": 74
        },
        {
          "output_type": "display_data",
          "data": {
            "image/png": "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\n",
            "text/plain": [
              "<Figure size 576x360 with 1 Axes>"
            ]
          },
          "metadata": {
            "tags": []
          }
        }
      ]
    },
    {
      "cell_type": "markdown",
      "metadata": {
        "id": "avglv_9QrhpZ"
      },
      "source": [
        "####report-6\n",
        "here in unit-1, the employees at senior levels are somehow highly educated as compared to unit2."
      ]
    },
    {
      "cell_type": "code",
      "metadata": {
        "id": "kwKuOskAJU0M",
        "outputId": "57568e5f-1989-4af3-eeaf-5f9ce69ab708",
        "colab": {
          "base_uri": "https://localhost:8080/"
        }
      },
      "source": [
        "(df_active[\"Data Effective Date\"]-df_active[\"Hired Date\"])/np.timedelta64(1,\"Y\")"
      ],
      "execution_count": null,
      "outputs": [
        {
          "output_type": "execute_result",
          "data": {
            "text/plain": [
              "0        0.060234\n",
              "1        0.700904\n",
              "2        0.799469\n",
              "3        0.060234\n",
              "4        0.700904\n",
              "          ...    \n",
              "5915    30.801454\n",
              "5916    28.060809\n",
              "5917    23.099721\n",
              "5918    25.897862\n",
              "5919    32.581093\n",
              "Length: 5920, dtype: float64"
            ]
          },
          "metadata": {
            "tags": []
          },
          "execution_count": 75
        }
      ]
    },
    {
      "cell_type": "code",
      "metadata": {
        "id": "SFs2aDduF8Pe",
        "outputId": "fd87d915-69e0-456b-f620-781820ac528f",
        "colab": {
          "base_uri": "https://localhost:8080/",
          "height": 460
        }
      },
      "source": [
        "df_active[\"Tenure\\n(Years)\"]=(pd.Series((df_active[\"Data Effective Date\"]-df_active[\"Hired Date\"])/np.timedelta64(1,\"Y\"))).astype(int)\n",
        "df_active.tail()"
      ],
      "execution_count": null,
      "outputs": [
        {
          "output_type": "stream",
          "text": [
            "/usr/local/lib/python3.6/dist-packages/ipykernel_launcher.py:1: SettingWithCopyWarning: \n",
            "A value is trying to be set on a copy of a slice from a DataFrame.\n",
            "Try using .loc[row_indexer,col_indexer] = value instead\n",
            "\n",
            "See the caveats in the documentation: https://pandas.pydata.org/pandas-docs/stable/user_guide/indexing.html#returning-a-view-versus-a-copy\n",
            "  \"\"\"Entry point for launching an IPython kernel.\n"
          ],
          "name": "stderr"
        },
        {
          "output_type": "execute_result",
          "data": {
            "text/html": [
              "<div>\n",
              "<style scoped>\n",
              "    .dataframe tbody tr th:only-of-type {\n",
              "        vertical-align: middle;\n",
              "    }\n",
              "\n",
              "    .dataframe tbody tr th {\n",
              "        vertical-align: top;\n",
              "    }\n",
              "\n",
              "    .dataframe thead th {\n",
              "        text-align: right;\n",
              "    }\n",
              "</style>\n",
              "<table border=\"1\" class=\"dataframe\">\n",
              "  <thead>\n",
              "    <tr style=\"text-align: right;\">\n",
              "      <th></th>\n",
              "      <th>Employee ID</th>\n",
              "      <th>Data Effective Date</th>\n",
              "      <th>Employee\\nStatus\\n</th>\n",
              "      <th>Career Level \\n(1=lowest, 6=highest)\\n</th>\n",
              "      <th>Hired Date</th>\n",
              "      <th>Hired in FY\\n(Yes/No)</th>\n",
              "      <th>Termination Date</th>\n",
              "      <th>Terminated\\nin FY\\n(Yes/No)</th>\n",
              "      <th>Termination Type\\n(Voluntary or Involuntary Exit)</th>\n",
              "      <th>Job Start Date</th>\n",
              "      <th>Promoted\\nin FY\\n(Yes/No)</th>\n",
              "      <th>Birth Date</th>\n",
              "      <th>Age\\n(Years)</th>\n",
              "      <th>Tenure\\n(Years)</th>\n",
              "      <th>Time in\\nJob (Years)</th>\n",
              "      <th>Rating</th>\n",
              "      <th>Education\\n(Highest\\nDegree)</th>\n",
              "      <th>age_cat</th>\n",
              "    </tr>\n",
              "  </thead>\n",
              "  <tbody>\n",
              "    <tr>\n",
              "      <th>5915</th>\n",
              "      <td>A5916</td>\n",
              "      <td>2016-12-31</td>\n",
              "      <td>Active</td>\n",
              "      <td>6</td>\n",
              "      <td>1986-03-14</td>\n",
              "      <td>No</td>\n",
              "      <td>NaT</td>\n",
              "      <td>No</td>\n",
              "      <td>NaN</td>\n",
              "      <td>2005-11-25</td>\n",
              "      <td>No</td>\n",
              "      <td>1964-06-13</td>\n",
              "      <td>52</td>\n",
              "      <td>30</td>\n",
              "      <td>NaN</td>\n",
              "      <td>Above Target</td>\n",
              "      <td>PhD</td>\n",
              "      <td>45-55</td>\n",
              "    </tr>\n",
              "    <tr>\n",
              "      <th>5916</th>\n",
              "      <td>A5917</td>\n",
              "      <td>2016-12-31</td>\n",
              "      <td>Active</td>\n",
              "      <td>6</td>\n",
              "      <td>1988-12-09</td>\n",
              "      <td>No</td>\n",
              "      <td>NaT</td>\n",
              "      <td>No</td>\n",
              "      <td>NaN</td>\n",
              "      <td>2005-05-26</td>\n",
              "      <td>No</td>\n",
              "      <td>1964-08-14</td>\n",
              "      <td>52</td>\n",
              "      <td>28</td>\n",
              "      <td>NaN</td>\n",
              "      <td>At Target</td>\n",
              "      <td>MBA</td>\n",
              "      <td>45-55</td>\n",
              "    </tr>\n",
              "    <tr>\n",
              "      <th>5917</th>\n",
              "      <td>A5918</td>\n",
              "      <td>2016-12-31</td>\n",
              "      <td>Active</td>\n",
              "      <td>6</td>\n",
              "      <td>1993-11-25</td>\n",
              "      <td>No</td>\n",
              "      <td>NaT</td>\n",
              "      <td>No</td>\n",
              "      <td>NaN</td>\n",
              "      <td>2006-09-13</td>\n",
              "      <td>No</td>\n",
              "      <td>1963-02-23</td>\n",
              "      <td>53</td>\n",
              "      <td>23</td>\n",
              "      <td>NaN</td>\n",
              "      <td>Above Target</td>\n",
              "      <td>PhD</td>\n",
              "      <td>45-55</td>\n",
              "    </tr>\n",
              "    <tr>\n",
              "      <th>5918</th>\n",
              "      <td>A5919</td>\n",
              "      <td>2016-12-31</td>\n",
              "      <td>Active</td>\n",
              "      <td>6</td>\n",
              "      <td>1991-02-07</td>\n",
              "      <td>No</td>\n",
              "      <td>NaT</td>\n",
              "      <td>No</td>\n",
              "      <td>NaN</td>\n",
              "      <td>2007-06-02</td>\n",
              "      <td>No</td>\n",
              "      <td>1966-09-07</td>\n",
              "      <td>50</td>\n",
              "      <td>25</td>\n",
              "      <td>NaN</td>\n",
              "      <td>Above Target</td>\n",
              "      <td>PhD</td>\n",
              "      <td>45-55</td>\n",
              "    </tr>\n",
              "    <tr>\n",
              "      <th>5919</th>\n",
              "      <td>A5920</td>\n",
              "      <td>2016-12-31</td>\n",
              "      <td>Active</td>\n",
              "      <td>6</td>\n",
              "      <td>1984-06-02</td>\n",
              "      <td>No</td>\n",
              "      <td>NaT</td>\n",
              "      <td>No</td>\n",
              "      <td>NaN</td>\n",
              "      <td>2007-01-01</td>\n",
              "      <td>No</td>\n",
              "      <td>1963-01-25</td>\n",
              "      <td>53</td>\n",
              "      <td>32</td>\n",
              "      <td>NaN</td>\n",
              "      <td>Above Target</td>\n",
              "      <td>BA/BS</td>\n",
              "      <td>45-55</td>\n",
              "    </tr>\n",
              "  </tbody>\n",
              "</table>\n",
              "</div>"
            ],
            "text/plain": [
              "     Employee ID Data Effective Date  ... Education\\n(Highest\\nDegree)  age_cat\n",
              "5915       A5916          2016-12-31  ...                          PhD    45-55\n",
              "5916       A5917          2016-12-31  ...                          MBA    45-55\n",
              "5917       A5918          2016-12-31  ...                          PhD    45-55\n",
              "5918       A5919          2016-12-31  ...                          PhD    45-55\n",
              "5919       A5920          2016-12-31  ...                        BA/BS    45-55\n",
              "\n",
              "[5 rows x 18 columns]"
            ]
          },
          "metadata": {
            "tags": []
          },
          "execution_count": 76
        }
      ]
    },
    {
      "cell_type": "code",
      "metadata": {
        "id": "O31KTvjcIIaM",
        "outputId": "913110b5-2cc2-4385-95a3-09753c124dda",
        "colab": {
          "base_uri": "https://localhost:8080/",
          "height": 460
        }
      },
      "source": [
        "df_active[\"Time in\\nJob (Years)\"]=(pd.Series((df_active[\"Data Effective Date\"]-df_active[\"Job Start Date\"])/np.timedelta64(1,\"Y\"))).astype(int)\n",
        "df_active.tail()"
      ],
      "execution_count": null,
      "outputs": [
        {
          "output_type": "stream",
          "text": [
            "/usr/local/lib/python3.6/dist-packages/ipykernel_launcher.py:1: SettingWithCopyWarning: \n",
            "A value is trying to be set on a copy of a slice from a DataFrame.\n",
            "Try using .loc[row_indexer,col_indexer] = value instead\n",
            "\n",
            "See the caveats in the documentation: https://pandas.pydata.org/pandas-docs/stable/user_guide/indexing.html#returning-a-view-versus-a-copy\n",
            "  \"\"\"Entry point for launching an IPython kernel.\n"
          ],
          "name": "stderr"
        },
        {
          "output_type": "execute_result",
          "data": {
            "text/html": [
              "<div>\n",
              "<style scoped>\n",
              "    .dataframe tbody tr th:only-of-type {\n",
              "        vertical-align: middle;\n",
              "    }\n",
              "\n",
              "    .dataframe tbody tr th {\n",
              "        vertical-align: top;\n",
              "    }\n",
              "\n",
              "    .dataframe thead th {\n",
              "        text-align: right;\n",
              "    }\n",
              "</style>\n",
              "<table border=\"1\" class=\"dataframe\">\n",
              "  <thead>\n",
              "    <tr style=\"text-align: right;\">\n",
              "      <th></th>\n",
              "      <th>Employee ID</th>\n",
              "      <th>Data Effective Date</th>\n",
              "      <th>Employee\\nStatus\\n</th>\n",
              "      <th>Career Level \\n(1=lowest, 6=highest)\\n</th>\n",
              "      <th>Hired Date</th>\n",
              "      <th>Hired in FY\\n(Yes/No)</th>\n",
              "      <th>Termination Date</th>\n",
              "      <th>Terminated\\nin FY\\n(Yes/No)</th>\n",
              "      <th>Termination Type\\n(Voluntary or Involuntary Exit)</th>\n",
              "      <th>Job Start Date</th>\n",
              "      <th>Promoted\\nin FY\\n(Yes/No)</th>\n",
              "      <th>Birth Date</th>\n",
              "      <th>Age\\n(Years)</th>\n",
              "      <th>Tenure\\n(Years)</th>\n",
              "      <th>Time in\\nJob (Years)</th>\n",
              "      <th>Rating</th>\n",
              "      <th>Education\\n(Highest\\nDegree)</th>\n",
              "      <th>age_cat</th>\n",
              "    </tr>\n",
              "  </thead>\n",
              "  <tbody>\n",
              "    <tr>\n",
              "      <th>5915</th>\n",
              "      <td>A5916</td>\n",
              "      <td>2016-12-31</td>\n",
              "      <td>Active</td>\n",
              "      <td>6</td>\n",
              "      <td>1986-03-14</td>\n",
              "      <td>No</td>\n",
              "      <td>NaT</td>\n",
              "      <td>No</td>\n",
              "      <td>NaN</td>\n",
              "      <td>2005-11-25</td>\n",
              "      <td>No</td>\n",
              "      <td>1964-06-13</td>\n",
              "      <td>52</td>\n",
              "      <td>30</td>\n",
              "      <td>11</td>\n",
              "      <td>Above Target</td>\n",
              "      <td>PhD</td>\n",
              "      <td>45-55</td>\n",
              "    </tr>\n",
              "    <tr>\n",
              "      <th>5916</th>\n",
              "      <td>A5917</td>\n",
              "      <td>2016-12-31</td>\n",
              "      <td>Active</td>\n",
              "      <td>6</td>\n",
              "      <td>1988-12-09</td>\n",
              "      <td>No</td>\n",
              "      <td>NaT</td>\n",
              "      <td>No</td>\n",
              "      <td>NaN</td>\n",
              "      <td>2005-05-26</td>\n",
              "      <td>No</td>\n",
              "      <td>1964-08-14</td>\n",
              "      <td>52</td>\n",
              "      <td>28</td>\n",
              "      <td>11</td>\n",
              "      <td>At Target</td>\n",
              "      <td>MBA</td>\n",
              "      <td>45-55</td>\n",
              "    </tr>\n",
              "    <tr>\n",
              "      <th>5917</th>\n",
              "      <td>A5918</td>\n",
              "      <td>2016-12-31</td>\n",
              "      <td>Active</td>\n",
              "      <td>6</td>\n",
              "      <td>1993-11-25</td>\n",
              "      <td>No</td>\n",
              "      <td>NaT</td>\n",
              "      <td>No</td>\n",
              "      <td>NaN</td>\n",
              "      <td>2006-09-13</td>\n",
              "      <td>No</td>\n",
              "      <td>1963-02-23</td>\n",
              "      <td>53</td>\n",
              "      <td>23</td>\n",
              "      <td>10</td>\n",
              "      <td>Above Target</td>\n",
              "      <td>PhD</td>\n",
              "      <td>45-55</td>\n",
              "    </tr>\n",
              "    <tr>\n",
              "      <th>5918</th>\n",
              "      <td>A5919</td>\n",
              "      <td>2016-12-31</td>\n",
              "      <td>Active</td>\n",
              "      <td>6</td>\n",
              "      <td>1991-02-07</td>\n",
              "      <td>No</td>\n",
              "      <td>NaT</td>\n",
              "      <td>No</td>\n",
              "      <td>NaN</td>\n",
              "      <td>2007-06-02</td>\n",
              "      <td>No</td>\n",
              "      <td>1966-09-07</td>\n",
              "      <td>50</td>\n",
              "      <td>25</td>\n",
              "      <td>9</td>\n",
              "      <td>Above Target</td>\n",
              "      <td>PhD</td>\n",
              "      <td>45-55</td>\n",
              "    </tr>\n",
              "    <tr>\n",
              "      <th>5919</th>\n",
              "      <td>A5920</td>\n",
              "      <td>2016-12-31</td>\n",
              "      <td>Active</td>\n",
              "      <td>6</td>\n",
              "      <td>1984-06-02</td>\n",
              "      <td>No</td>\n",
              "      <td>NaT</td>\n",
              "      <td>No</td>\n",
              "      <td>NaN</td>\n",
              "      <td>2007-01-01</td>\n",
              "      <td>No</td>\n",
              "      <td>1963-01-25</td>\n",
              "      <td>53</td>\n",
              "      <td>32</td>\n",
              "      <td>9</td>\n",
              "      <td>Above Target</td>\n",
              "      <td>BA/BS</td>\n",
              "      <td>45-55</td>\n",
              "    </tr>\n",
              "  </tbody>\n",
              "</table>\n",
              "</div>"
            ],
            "text/plain": [
              "     Employee ID Data Effective Date  ... Education\\n(Highest\\nDegree)  age_cat\n",
              "5915       A5916          2016-12-31  ...                          PhD    45-55\n",
              "5916       A5917          2016-12-31  ...                          MBA    45-55\n",
              "5917       A5918          2016-12-31  ...                          PhD    45-55\n",
              "5918       A5919          2016-12-31  ...                          PhD    45-55\n",
              "5919       A5920          2016-12-31  ...                        BA/BS    45-55\n",
              "\n",
              "[5 rows x 18 columns]"
            ]
          },
          "metadata": {
            "tags": []
          },
          "execution_count": 77
        }
      ]
    },
    {
      "cell_type": "code",
      "metadata": {
        "id": "MbPr9Tx8KqlX",
        "outputId": "8794a572-9532-43d2-bc44-56a33d6682a0",
        "colab": {
          "base_uri": "https://localhost:8080/"
        }
      },
      "source": [
        "df_notice_period=pd.DataFrame({\"Notice_period_gap\":((df[\"Job Start Date\"]-df[\"Hired Date\"])/np.timedelta64(1,\"M\"))})\n",
        "df_notice_period[\"Notice_period_gap\"]=df_notice_period[\"Notice_period_gap\"].astype(int)\n",
        "df_notice_period_new=pd.DataFrame({\"Notice_period_gap\":(pd.cut(df_notice_period[\"Notice_period_gap\"],bins=list(range(0,13,3))+[np.inf],labels=[\"1st 3 months\",\"1st 6 months\",\"1st 9 months\",\"1st 12 months\",\"> 1year\"],include_lowest=True))})\n",
        "df_notice_period_new=df_notice_period_new[\"Notice_period_gap\"].value_counts()\n",
        "df_notice_period_new"
      ],
      "execution_count": null,
      "outputs": [
        {
          "output_type": "execute_result",
          "data": {
            "text/plain": [
              "> 1year          4967\n",
              "1st 3 months     1332\n",
              "1st 12 months      17\n",
              "1st 9 months       10\n",
              "1st 6 months        2\n",
              "Name: Notice_period_gap, dtype: int64"
            ]
          },
          "metadata": {
            "tags": []
          },
          "execution_count": 78
        }
      ]
    },
    {
      "cell_type": "code",
      "metadata": {
        "id": "J3tezVbS_1Sh",
        "outputId": "7fe7b340-5d42-4219-c61a-6c676f630cd4",
        "colab": {
          "base_uri": "https://localhost:8080/",
          "height": 199
        }
      },
      "source": [
        "df_notice_period_new=pd.DataFrame({\"counts\":df_notice_period_new})\n",
        "df_notice_period_new=df_notice_period_new.reindex([\"1st 3 months\",\"1st 6 months\",\"1st 9 months\",\"1st 12 months\",\"> 1year\"])\n",
        "(df_notice_period_new/df_notice_period_new.counts.sum())*100"
      ],
      "execution_count": null,
      "outputs": [
        {
          "output_type": "execute_result",
          "data": {
            "text/html": [
              "<div>\n",
              "<style scoped>\n",
              "    .dataframe tbody tr th:only-of-type {\n",
              "        vertical-align: middle;\n",
              "    }\n",
              "\n",
              "    .dataframe tbody tr th {\n",
              "        vertical-align: top;\n",
              "    }\n",
              "\n",
              "    .dataframe thead th {\n",
              "        text-align: right;\n",
              "    }\n",
              "</style>\n",
              "<table border=\"1\" class=\"dataframe\">\n",
              "  <thead>\n",
              "    <tr style=\"text-align: right;\">\n",
              "      <th></th>\n",
              "      <th>counts</th>\n",
              "    </tr>\n",
              "  </thead>\n",
              "  <tbody>\n",
              "    <tr>\n",
              "      <th>1st 3 months</th>\n",
              "      <td>21.049305</td>\n",
              "    </tr>\n",
              "    <tr>\n",
              "      <th>1st 6 months</th>\n",
              "      <td>0.031606</td>\n",
              "    </tr>\n",
              "    <tr>\n",
              "      <th>1st 9 months</th>\n",
              "      <td>0.158028</td>\n",
              "    </tr>\n",
              "    <tr>\n",
              "      <th>1st 12 months</th>\n",
              "      <td>0.268647</td>\n",
              "    </tr>\n",
              "    <tr>\n",
              "      <th>&gt; 1year</th>\n",
              "      <td>78.492415</td>\n",
              "    </tr>\n",
              "  </tbody>\n",
              "</table>\n",
              "</div>"
            ],
            "text/plain": [
              "                  counts\n",
              "1st 3 months   21.049305\n",
              "1st 6 months    0.031606\n",
              "1st 9 months    0.158028\n",
              "1st 12 months   0.268647\n",
              "> 1year        78.492415"
            ]
          },
          "metadata": {
            "tags": []
          },
          "execution_count": 79
        }
      ]
    },
    {
      "cell_type": "code",
      "metadata": {
        "id": "azTBpH-5AVnF",
        "outputId": "9bdca15f-100e-4df2-d087-37201cf44cd7",
        "colab": {
          "base_uri": "https://localhost:8080/",
          "height": 411
        }
      },
      "source": [
        "fig=plt.gcf()\n",
        "fig.set_size_inches(8,5)\n",
        "sns.barplot(((df_notice_period_new/df_notice_period_new.counts.sum())*100).index,((df_notice_period_new/df_notice_period_new.counts.sum())*100)[\"counts\"])\n",
        "for i,value in enumerate(((df_notice_period_new/df_notice_period_new.counts.sum())*100).index):\n",
        "    x=i\n",
        "    y=int(round(((df_notice_period_new/df_notice_period_new.counts.sum())*100).loc[value]))\n",
        "    plt.text(x,y,str(y)+\"%\",ha=\"center\")\n",
        "plt.xlabel(\"Notice_period_gap\")\n",
        "plt.ylabel(\"Counts\")"
      ],
      "execution_count": null,
      "outputs": [
        {
          "output_type": "stream",
          "text": [
            "/usr/local/lib/python3.6/dist-packages/seaborn/_decorators.py:43: FutureWarning: Pass the following variables as keyword args: x, y. From version 0.12, the only valid positional argument will be `data`, and passing other arguments without an explicit keyword will result in an error or misinterpretation.\n",
            "  FutureWarning\n"
          ],
          "name": "stderr"
        },
        {
          "output_type": "execute_result",
          "data": {
            "text/plain": [
              "Text(0, 0.5, 'Counts')"
            ]
          },
          "metadata": {
            "tags": []
          },
          "execution_count": 84
        },
        {
          "output_type": "display_data",
          "data": {
            "image/png": "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\n",
            "text/plain": [
              "<Figure size 576x360 with 1 Axes>"
            ]
          },
          "metadata": {
            "tags": []
          }
        }
      ]
    },
    {
      "cell_type": "markdown",
      "metadata": {
        "id": "k5ROrRGBBz6n"
      },
      "source": [
        "####report-7\n",
        "here in unit1, almost 78% of the employees join the company after 1 year of notice and only 21% of employees join in the 1st 3 months, which is less than the unit2.\n",
        "\n",
        "This is not a good thing for a good company as it's process taking too much of time for the recruitment. "
      ]
    }
  ]
}
