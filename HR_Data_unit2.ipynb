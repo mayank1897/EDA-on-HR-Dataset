{
  "nbformat": 4,
  "nbformat_minor": 0,
  "metadata": {
    "colab": {
      "name": "HR Data unit2",
      "provenance": []
    },
    "kernelspec": {
      "name": "python3",
      "display_name": "Python 3"
    }
  },
  "cells": [
    {
      "cell_type": "code",
      "metadata": {
        "id": "GNvamwWwGeEJ"
      },
      "source": [
        "import numpy as np\n",
        "import pandas as pd\n",
        "import matplotlib.pyplot as plt\n",
        "import seaborn as sns\n",
        "sns.set(color_codes=True)"
      ],
      "execution_count": null,
      "outputs": []
    },
    {
      "cell_type": "code",
      "metadata": {
        "id": "2FaoFb8UGoT4"
      },
      "source": [
        "df=pd.read_csv(\"unit2.csv\")"
      ],
      "execution_count": null,
      "outputs": []
    },
    {
      "cell_type": "markdown",
      "metadata": {
        "id": "IMQmbKRzPPgP"
      },
      "source": [
        "#mainly focuses on the performance of the employees "
      ]
    },
    {
      "cell_type": "code",
      "metadata": {
        "id": "cZ_xviPgG0eb",
        "outputId": "b32291ad-8c34-46c4-f210-fb55e1f118a7",
        "colab": {
          "base_uri": "https://localhost:8080/",
          "height": 440
        }
      },
      "source": [
        "df.head()"
      ],
      "execution_count": null,
      "outputs": [
        {
          "output_type": "execute_result",
          "data": {
            "text/html": [
              "<div>\n",
              "<style scoped>\n",
              "    .dataframe tbody tr th:only-of-type {\n",
              "        vertical-align: middle;\n",
              "    }\n",
              "\n",
              "    .dataframe tbody tr th {\n",
              "        vertical-align: top;\n",
              "    }\n",
              "\n",
              "    .dataframe thead th {\n",
              "        text-align: right;\n",
              "    }\n",
              "</style>\n",
              "<table border=\"1\" class=\"dataframe\">\n",
              "  <thead>\n",
              "    <tr style=\"text-align: right;\">\n",
              "      <th></th>\n",
              "      <th>Employee ID</th>\n",
              "      <th>Data Effective Date</th>\n",
              "      <th>Employee\\nStatus\\n</th>\n",
              "      <th>Career Level \\n(1=lowest, 6=highest)\\n</th>\n",
              "      <th>Hired Date</th>\n",
              "      <th>Hired in FY\\n(Yes/No)</th>\n",
              "      <th>Termination Date</th>\n",
              "      <th>Terminated\\nin FY\\n(Yes/No)</th>\n",
              "      <th>Termination Type\\n(Voluntary or Involuntary Exit)</th>\n",
              "      <th>Job Start Date</th>\n",
              "      <th>Promoted\\nin FY\\n(Yes/No)</th>\n",
              "      <th>Birth Date</th>\n",
              "      <th>Age\\n(Years)</th>\n",
              "      <th>Tenure\\n(Years)</th>\n",
              "      <th>Time in\\nJob (Years)</th>\n",
              "      <th>Rating\\n(1=lowest, 5=highest)</th>\n",
              "      <th>Education\\n(Highest\\nDegree)</th>\n",
              "    </tr>\n",
              "  </thead>\n",
              "  <tbody>\n",
              "    <tr>\n",
              "      <th>0</th>\n",
              "      <td>N0001</td>\n",
              "      <td>31-12-2016</td>\n",
              "      <td>Active</td>\n",
              "      <td>1</td>\n",
              "      <td>19-04-2016</td>\n",
              "      <td>Yes</td>\n",
              "      <td>NaN</td>\n",
              "      <td>No</td>\n",
              "      <td>NaN</td>\n",
              "      <td>19-04-2016</td>\n",
              "      <td>NaN</td>\n",
              "      <td>01-09-1995</td>\n",
              "      <td>NaN</td>\n",
              "      <td>NaN</td>\n",
              "      <td>NaN</td>\n",
              "      <td>3</td>\n",
              "      <td>MA/MS</td>\n",
              "    </tr>\n",
              "    <tr>\n",
              "      <th>1</th>\n",
              "      <td>N0002</td>\n",
              "      <td>31-12-2016</td>\n",
              "      <td>Active</td>\n",
              "      <td>1</td>\n",
              "      <td>19-10-2016</td>\n",
              "      <td>Yes</td>\n",
              "      <td>NaN</td>\n",
              "      <td>No</td>\n",
              "      <td>NaN</td>\n",
              "      <td>19-10-2016</td>\n",
              "      <td>NaN</td>\n",
              "      <td>13-09-1994</td>\n",
              "      <td>NaN</td>\n",
              "      <td>NaN</td>\n",
              "      <td>NaN</td>\n",
              "      <td>4</td>\n",
              "      <td>MA/MS</td>\n",
              "    </tr>\n",
              "    <tr>\n",
              "      <th>2</th>\n",
              "      <td>N0003</td>\n",
              "      <td>31-12-2016</td>\n",
              "      <td>Active</td>\n",
              "      <td>1</td>\n",
              "      <td>26-05-2016</td>\n",
              "      <td>Yes</td>\n",
              "      <td>NaN</td>\n",
              "      <td>No</td>\n",
              "      <td>NaN</td>\n",
              "      <td>26-05-2016</td>\n",
              "      <td>NaN</td>\n",
              "      <td>19-04-1996</td>\n",
              "      <td>NaN</td>\n",
              "      <td>NaN</td>\n",
              "      <td>NaN</td>\n",
              "      <td>3</td>\n",
              "      <td>BA/BS</td>\n",
              "    </tr>\n",
              "    <tr>\n",
              "      <th>3</th>\n",
              "      <td>N0004</td>\n",
              "      <td>31-12-2016</td>\n",
              "      <td>Active</td>\n",
              "      <td>1</td>\n",
              "      <td>19-10-2016</td>\n",
              "      <td>Yes</td>\n",
              "      <td>NaN</td>\n",
              "      <td>No</td>\n",
              "      <td>NaN</td>\n",
              "      <td>19-10-2016</td>\n",
              "      <td>NaN</td>\n",
              "      <td>21-01-1994</td>\n",
              "      <td>NaN</td>\n",
              "      <td>NaN</td>\n",
              "      <td>NaN</td>\n",
              "      <td>3</td>\n",
              "      <td>BA/BS</td>\n",
              "    </tr>\n",
              "    <tr>\n",
              "      <th>4</th>\n",
              "      <td>N0005</td>\n",
              "      <td>31-12-2016</td>\n",
              "      <td>Active</td>\n",
              "      <td>1</td>\n",
              "      <td>06-02-2016</td>\n",
              "      <td>Yes</td>\n",
              "      <td>NaN</td>\n",
              "      <td>No</td>\n",
              "      <td>NaN</td>\n",
              "      <td>06-02-2016</td>\n",
              "      <td>NaN</td>\n",
              "      <td>18-05-1993</td>\n",
              "      <td>NaN</td>\n",
              "      <td>NaN</td>\n",
              "      <td>NaN</td>\n",
              "      <td>3</td>\n",
              "      <td>BA/BS</td>\n",
              "    </tr>\n",
              "  </tbody>\n",
              "</table>\n",
              "</div>"
            ],
            "text/plain": [
              "  Employee ID  ... Education\\n(Highest\\nDegree)\n",
              "0       N0001  ...                        MA/MS\n",
              "1       N0002  ...                        MA/MS\n",
              "2       N0003  ...                        BA/BS\n",
              "3       N0004  ...                        BA/BS\n",
              "4       N0005  ...                        BA/BS\n",
              "\n",
              "[5 rows x 17 columns]"
            ]
          },
          "metadata": {
            "tags": []
          },
          "execution_count": 5
        }
      ]
    },
    {
      "cell_type": "code",
      "metadata": {
        "id": "M3m238VUAicW",
        "outputId": "179f3062-06d6-48d9-a026-b6ff5c5cde4c",
        "colab": {
          "base_uri": "https://localhost:8080/"
        }
      },
      "source": [
        "df.dtypes"
      ],
      "execution_count": null,
      "outputs": [
        {
          "output_type": "execute_result",
          "data": {
            "text/plain": [
              "Employee ID                                           object\n",
              "Data Effective Date                                   object\n",
              "Employee\\nStatus\\n                                    object\n",
              "Career Level \\n(1=lowest, 6=highest)\\n                 int64\n",
              "Hired Date                                            object\n",
              "Hired in FY\\n(Yes/No)                                 object\n",
              "Termination Date                                      object\n",
              "Terminated\\nin FY\\n(Yes/No)                           object\n",
              "Termination Type\\n(Voluntary or Involuntary Exit)     object\n",
              "Job Start Date                                        object\n",
              "Promoted\\nin FY\\n(Yes/No)                             object\n",
              "Birth Date                                            object\n",
              "Age\\n(Years)                                         float64\n",
              "Tenure\\n(Years)                                      float64\n",
              "Time in\\nJob (Years)                                 float64\n",
              "Rating\\n(1=lowest, 5=highest)                          int64\n",
              "Education\\n(Highest\\nDegree)                          object\n",
              "dtype: object"
            ]
          },
          "metadata": {
            "tags": []
          },
          "execution_count": 6
        }
      ]
    },
    {
      "cell_type": "code",
      "metadata": {
        "id": "562SHXeBAnyY"
      },
      "source": [
        "df[[\"Data Effective Date\",\"Hired Date\",\"Termination Date\",\"Job Start Date\",\"Birth Date\"]]=df[[\"Data Effective Date\",\"Hired Date\",\"Termination Date\",\"Job Start Date\",\"Birth Date\"]].apply(pd.to_datetime)"
      ],
      "execution_count": null,
      "outputs": []
    },
    {
      "cell_type": "code",
      "metadata": {
        "id": "_gKDVUSSG1YJ",
        "outputId": "c1418737-d3f6-46d3-e66a-7e136e0eb6cf",
        "colab": {
          "base_uri": "https://localhost:8080/"
        }
      },
      "source": [
        "df.info()"
      ],
      "execution_count": null,
      "outputs": [
        {
          "output_type": "stream",
          "text": [
            "<class 'pandas.core.frame.DataFrame'>\n",
            "RangeIndex: 2793 entries, 0 to 2792\n",
            "Data columns (total 17 columns):\n",
            " #   Column                                            Non-Null Count  Dtype         \n",
            "---  ------                                            --------------  -----         \n",
            " 0   Employee ID                                       2793 non-null   object        \n",
            " 1   Data Effective Date                               2793 non-null   datetime64[ns]\n",
            " 2   Employee\n",
            "Status\n",
            "                                  2793 non-null   object        \n",
            " 3   Career Level \n",
            "(1=lowest, 6=highest)\n",
            "              2793 non-null   int64         \n",
            " 4   Hired Date                                        2793 non-null   datetime64[ns]\n",
            " 5   Hired in FY\n",
            "(Yes/No)                              2793 non-null   object        \n",
            " 6   Termination Date                                  613 non-null    datetime64[ns]\n",
            " 7   Terminated\n",
            "in FY\n",
            "(Yes/No)                         2793 non-null   object        \n",
            " 8   Termination Type\n",
            "(Voluntary or Involuntary Exit)  613 non-null    object        \n",
            " 9   Job Start Date                                    2793 non-null   datetime64[ns]\n",
            " 10  Promoted\n",
            "in FY\n",
            "(Yes/No)                           2448 non-null   object        \n",
            " 11  Birth Date                                        2793 non-null   datetime64[ns]\n",
            " 12  Age\n",
            "(Years)                                       0 non-null      float64       \n",
            " 13  Tenure\n",
            "(Years)                                    0 non-null      float64       \n",
            " 14  Time in\n",
            "Job (Years)                               0 non-null      float64       \n",
            " 15  Rating\n",
            "(1=lowest, 5=highest)                      2793 non-null   int64         \n",
            " 16  Education\n",
            "(Highest\n",
            "Degree)                        2793 non-null   object        \n",
            "dtypes: datetime64[ns](5), float64(3), int64(2), object(7)\n",
            "memory usage: 371.1+ KB\n"
          ],
          "name": "stdout"
        }
      ]
    },
    {
      "cell_type": "code",
      "metadata": {
        "id": "oEwVAtsk_X7o"
      },
      "source": [
        "df[\"Age\\n(Years)\"]=pd.Series(((df[\"Data Effective Date\"]-df[\"Birth Date\"])/np.timedelta64(1,\"Y\"))).astype(int)"
      ],
      "execution_count": null,
      "outputs": []
    },
    {
      "cell_type": "code",
      "metadata": {
        "id": "QBjwbpz6AZs8",
        "outputId": "ea48f5d1-b3e6-4cc4-e43f-23e7c9bc71e0",
        "colab": {
          "base_uri": "https://localhost:8080/",
          "height": 355
        }
      },
      "source": [
        "df.head()"
      ],
      "execution_count": null,
      "outputs": [
        {
          "output_type": "execute_result",
          "data": {
            "text/html": [
              "<div>\n",
              "<style scoped>\n",
              "    .dataframe tbody tr th:only-of-type {\n",
              "        vertical-align: middle;\n",
              "    }\n",
              "\n",
              "    .dataframe tbody tr th {\n",
              "        vertical-align: top;\n",
              "    }\n",
              "\n",
              "    .dataframe thead th {\n",
              "        text-align: right;\n",
              "    }\n",
              "</style>\n",
              "<table border=\"1\" class=\"dataframe\">\n",
              "  <thead>\n",
              "    <tr style=\"text-align: right;\">\n",
              "      <th></th>\n",
              "      <th>Employee ID</th>\n",
              "      <th>Data Effective Date</th>\n",
              "      <th>Employee\\nStatus\\n</th>\n",
              "      <th>Career Level \\n(1=lowest, 6=highest)\\n</th>\n",
              "      <th>Hired Date</th>\n",
              "      <th>Hired in FY\\n(Yes/No)</th>\n",
              "      <th>Termination Date</th>\n",
              "      <th>Terminated\\nin FY\\n(Yes/No)</th>\n",
              "      <th>Termination Type\\n(Voluntary or Involuntary Exit)</th>\n",
              "      <th>Job Start Date</th>\n",
              "      <th>Promoted\\nin FY\\n(Yes/No)</th>\n",
              "      <th>Birth Date</th>\n",
              "      <th>Age\\n(Years)</th>\n",
              "      <th>Tenure\\n(Years)</th>\n",
              "      <th>Time in\\nJob (Years)</th>\n",
              "      <th>Rating\\n(1=lowest, 5=highest)</th>\n",
              "      <th>Education\\n(Highest\\nDegree)</th>\n",
              "    </tr>\n",
              "  </thead>\n",
              "  <tbody>\n",
              "    <tr>\n",
              "      <th>0</th>\n",
              "      <td>N0001</td>\n",
              "      <td>2016-12-31</td>\n",
              "      <td>Active</td>\n",
              "      <td>1</td>\n",
              "      <td>2016-04-19</td>\n",
              "      <td>Yes</td>\n",
              "      <td>NaT</td>\n",
              "      <td>No</td>\n",
              "      <td>NaN</td>\n",
              "      <td>2016-04-19</td>\n",
              "      <td>NaN</td>\n",
              "      <td>1995-01-09</td>\n",
              "      <td>21</td>\n",
              "      <td>NaN</td>\n",
              "      <td>NaN</td>\n",
              "      <td>3</td>\n",
              "      <td>MA/MS</td>\n",
              "    </tr>\n",
              "    <tr>\n",
              "      <th>1</th>\n",
              "      <td>N0002</td>\n",
              "      <td>2016-12-31</td>\n",
              "      <td>Active</td>\n",
              "      <td>1</td>\n",
              "      <td>2016-10-19</td>\n",
              "      <td>Yes</td>\n",
              "      <td>NaT</td>\n",
              "      <td>No</td>\n",
              "      <td>NaN</td>\n",
              "      <td>2016-10-19</td>\n",
              "      <td>NaN</td>\n",
              "      <td>1994-09-13</td>\n",
              "      <td>22</td>\n",
              "      <td>NaN</td>\n",
              "      <td>NaN</td>\n",
              "      <td>4</td>\n",
              "      <td>MA/MS</td>\n",
              "    </tr>\n",
              "    <tr>\n",
              "      <th>2</th>\n",
              "      <td>N0003</td>\n",
              "      <td>2016-12-31</td>\n",
              "      <td>Active</td>\n",
              "      <td>1</td>\n",
              "      <td>2016-05-26</td>\n",
              "      <td>Yes</td>\n",
              "      <td>NaT</td>\n",
              "      <td>No</td>\n",
              "      <td>NaN</td>\n",
              "      <td>2016-05-26</td>\n",
              "      <td>NaN</td>\n",
              "      <td>1996-04-19</td>\n",
              "      <td>20</td>\n",
              "      <td>NaN</td>\n",
              "      <td>NaN</td>\n",
              "      <td>3</td>\n",
              "      <td>BA/BS</td>\n",
              "    </tr>\n",
              "    <tr>\n",
              "      <th>3</th>\n",
              "      <td>N0004</td>\n",
              "      <td>2016-12-31</td>\n",
              "      <td>Active</td>\n",
              "      <td>1</td>\n",
              "      <td>2016-10-19</td>\n",
              "      <td>Yes</td>\n",
              "      <td>NaT</td>\n",
              "      <td>No</td>\n",
              "      <td>NaN</td>\n",
              "      <td>2016-10-19</td>\n",
              "      <td>NaN</td>\n",
              "      <td>1994-01-21</td>\n",
              "      <td>22</td>\n",
              "      <td>NaN</td>\n",
              "      <td>NaN</td>\n",
              "      <td>3</td>\n",
              "      <td>BA/BS</td>\n",
              "    </tr>\n",
              "    <tr>\n",
              "      <th>4</th>\n",
              "      <td>N0005</td>\n",
              "      <td>2016-12-31</td>\n",
              "      <td>Active</td>\n",
              "      <td>1</td>\n",
              "      <td>2016-06-02</td>\n",
              "      <td>Yes</td>\n",
              "      <td>NaT</td>\n",
              "      <td>No</td>\n",
              "      <td>NaN</td>\n",
              "      <td>2016-06-02</td>\n",
              "      <td>NaN</td>\n",
              "      <td>1993-05-18</td>\n",
              "      <td>23</td>\n",
              "      <td>NaN</td>\n",
              "      <td>NaN</td>\n",
              "      <td>3</td>\n",
              "      <td>BA/BS</td>\n",
              "    </tr>\n",
              "  </tbody>\n",
              "</table>\n",
              "</div>"
            ],
            "text/plain": [
              "  Employee ID  ... Education\\n(Highest\\nDegree)\n",
              "0       N0001  ...                        MA/MS\n",
              "1       N0002  ...                        MA/MS\n",
              "2       N0003  ...                        BA/BS\n",
              "3       N0004  ...                        BA/BS\n",
              "4       N0005  ...                        BA/BS\n",
              "\n",
              "[5 rows x 17 columns]"
            ]
          },
          "metadata": {
            "tags": []
          },
          "execution_count": 10
        }
      ]
    },
    {
      "cell_type": "code",
      "metadata": {
        "id": "IN4mlB7uGyH-"
      },
      "source": [
        "df[\"age_cat\"]=pd.cut(df[\"Age\\n(Years)\"],bins=[0,25,35,45,55,65,np.inf],labels=[\"<25\",\"25-35\",\"35-45\",\"45-55\",\"55-65\",\"65<\"])"
      ],
      "execution_count": null,
      "outputs": []
    },
    {
      "cell_type": "code",
      "metadata": {
        "id": "-FOqaBfiHtqK",
        "outputId": "c62abd5e-502b-4108-c010-99a6a915c9e1",
        "colab": {
          "base_uri": "https://localhost:8080/",
          "height": 355
        }
      },
      "source": [
        "df.head()"
      ],
      "execution_count": null,
      "outputs": [
        {
          "output_type": "execute_result",
          "data": {
            "text/html": [
              "<div>\n",
              "<style scoped>\n",
              "    .dataframe tbody tr th:only-of-type {\n",
              "        vertical-align: middle;\n",
              "    }\n",
              "\n",
              "    .dataframe tbody tr th {\n",
              "        vertical-align: top;\n",
              "    }\n",
              "\n",
              "    .dataframe thead th {\n",
              "        text-align: right;\n",
              "    }\n",
              "</style>\n",
              "<table border=\"1\" class=\"dataframe\">\n",
              "  <thead>\n",
              "    <tr style=\"text-align: right;\">\n",
              "      <th></th>\n",
              "      <th>Employee ID</th>\n",
              "      <th>Data Effective Date</th>\n",
              "      <th>Employee\\nStatus\\n</th>\n",
              "      <th>Career Level \\n(1=lowest, 6=highest)\\n</th>\n",
              "      <th>Hired Date</th>\n",
              "      <th>Hired in FY\\n(Yes/No)</th>\n",
              "      <th>Termination Date</th>\n",
              "      <th>Terminated\\nin FY\\n(Yes/No)</th>\n",
              "      <th>Termination Type\\n(Voluntary or Involuntary Exit)</th>\n",
              "      <th>Job Start Date</th>\n",
              "      <th>Promoted\\nin FY\\n(Yes/No)</th>\n",
              "      <th>Birth Date</th>\n",
              "      <th>Age\\n(Years)</th>\n",
              "      <th>Tenure\\n(Years)</th>\n",
              "      <th>Time in\\nJob (Years)</th>\n",
              "      <th>Rating\\n(1=lowest, 5=highest)</th>\n",
              "      <th>Education\\n(Highest\\nDegree)</th>\n",
              "      <th>age_cat</th>\n",
              "    </tr>\n",
              "  </thead>\n",
              "  <tbody>\n",
              "    <tr>\n",
              "      <th>0</th>\n",
              "      <td>N0001</td>\n",
              "      <td>2016-12-31</td>\n",
              "      <td>Active</td>\n",
              "      <td>1</td>\n",
              "      <td>2016-04-19</td>\n",
              "      <td>Yes</td>\n",
              "      <td>NaT</td>\n",
              "      <td>No</td>\n",
              "      <td>NaN</td>\n",
              "      <td>2016-04-19</td>\n",
              "      <td>NaN</td>\n",
              "      <td>1995-01-09</td>\n",
              "      <td>21</td>\n",
              "      <td>NaN</td>\n",
              "      <td>NaN</td>\n",
              "      <td>3</td>\n",
              "      <td>MA/MS</td>\n",
              "      <td>&lt;25</td>\n",
              "    </tr>\n",
              "    <tr>\n",
              "      <th>1</th>\n",
              "      <td>N0002</td>\n",
              "      <td>2016-12-31</td>\n",
              "      <td>Active</td>\n",
              "      <td>1</td>\n",
              "      <td>2016-10-19</td>\n",
              "      <td>Yes</td>\n",
              "      <td>NaT</td>\n",
              "      <td>No</td>\n",
              "      <td>NaN</td>\n",
              "      <td>2016-10-19</td>\n",
              "      <td>NaN</td>\n",
              "      <td>1994-09-13</td>\n",
              "      <td>22</td>\n",
              "      <td>NaN</td>\n",
              "      <td>NaN</td>\n",
              "      <td>4</td>\n",
              "      <td>MA/MS</td>\n",
              "      <td>&lt;25</td>\n",
              "    </tr>\n",
              "    <tr>\n",
              "      <th>2</th>\n",
              "      <td>N0003</td>\n",
              "      <td>2016-12-31</td>\n",
              "      <td>Active</td>\n",
              "      <td>1</td>\n",
              "      <td>2016-05-26</td>\n",
              "      <td>Yes</td>\n",
              "      <td>NaT</td>\n",
              "      <td>No</td>\n",
              "      <td>NaN</td>\n",
              "      <td>2016-05-26</td>\n",
              "      <td>NaN</td>\n",
              "      <td>1996-04-19</td>\n",
              "      <td>20</td>\n",
              "      <td>NaN</td>\n",
              "      <td>NaN</td>\n",
              "      <td>3</td>\n",
              "      <td>BA/BS</td>\n",
              "      <td>&lt;25</td>\n",
              "    </tr>\n",
              "    <tr>\n",
              "      <th>3</th>\n",
              "      <td>N0004</td>\n",
              "      <td>2016-12-31</td>\n",
              "      <td>Active</td>\n",
              "      <td>1</td>\n",
              "      <td>2016-10-19</td>\n",
              "      <td>Yes</td>\n",
              "      <td>NaT</td>\n",
              "      <td>No</td>\n",
              "      <td>NaN</td>\n",
              "      <td>2016-10-19</td>\n",
              "      <td>NaN</td>\n",
              "      <td>1994-01-21</td>\n",
              "      <td>22</td>\n",
              "      <td>NaN</td>\n",
              "      <td>NaN</td>\n",
              "      <td>3</td>\n",
              "      <td>BA/BS</td>\n",
              "      <td>&lt;25</td>\n",
              "    </tr>\n",
              "    <tr>\n",
              "      <th>4</th>\n",
              "      <td>N0005</td>\n",
              "      <td>2016-12-31</td>\n",
              "      <td>Active</td>\n",
              "      <td>1</td>\n",
              "      <td>2016-06-02</td>\n",
              "      <td>Yes</td>\n",
              "      <td>NaT</td>\n",
              "      <td>No</td>\n",
              "      <td>NaN</td>\n",
              "      <td>2016-06-02</td>\n",
              "      <td>NaN</td>\n",
              "      <td>1993-05-18</td>\n",
              "      <td>23</td>\n",
              "      <td>NaN</td>\n",
              "      <td>NaN</td>\n",
              "      <td>3</td>\n",
              "      <td>BA/BS</td>\n",
              "      <td>&lt;25</td>\n",
              "    </tr>\n",
              "  </tbody>\n",
              "</table>\n",
              "</div>"
            ],
            "text/plain": [
              "  Employee ID Data Effective Date  ... Education\\n(Highest\\nDegree)  age_cat\n",
              "0       N0001          2016-12-31  ...                        MA/MS      <25\n",
              "1       N0002          2016-12-31  ...                        MA/MS      <25\n",
              "2       N0003          2016-12-31  ...                        BA/BS      <25\n",
              "3       N0004          2016-12-31  ...                        BA/BS      <25\n",
              "4       N0005          2016-12-31  ...                        BA/BS      <25\n",
              "\n",
              "[5 rows x 18 columns]"
            ]
          },
          "metadata": {
            "tags": []
          },
          "execution_count": 12
        }
      ]
    },
    {
      "cell_type": "code",
      "metadata": {
        "id": "7eCcEMzyOOM3",
        "outputId": "68583187-02fb-46e6-ba31-69c0b85024c3",
        "colab": {
          "base_uri": "https://localhost:8080/"
        }
      },
      "source": [
        "len(df)"
      ],
      "execution_count": null,
      "outputs": [
        {
          "output_type": "execute_result",
          "data": {
            "text/plain": [
              "2793"
            ]
          },
          "metadata": {
            "tags": []
          },
          "execution_count": 13
        }
      ]
    },
    {
      "cell_type": "code",
      "metadata": {
        "id": "j2oC6I0kOMSu",
        "outputId": "09bb7cf2-f784-4bce-d760-564d438b33e3",
        "colab": {
          "base_uri": "https://localhost:8080/"
        }
      },
      "source": [
        "df[\"Employee\\nStatus\\n\"].value_counts()"
      ],
      "execution_count": null,
      "outputs": [
        {
          "output_type": "execute_result",
          "data": {
            "text/plain": [
              "Active        2180\n",
              "Terminated     613\n",
              "Name: Employee\\nStatus\\n, dtype: int64"
            ]
          },
          "metadata": {
            "tags": []
          },
          "execution_count": 14
        }
      ]
    },
    {
      "cell_type": "code",
      "metadata": {
        "id": "a_PQ3o90Ilsx",
        "outputId": "99f4032f-74df-442e-ec5e-24b978a15d50",
        "colab": {
          "base_uri": "https://localhost:8080/"
        }
      },
      "source": [
        "(df[\"Employee\\nStatus\\n\"].value_counts()/df[\"Employee\\nStatus\\n\"].value_counts().values.sum())*100"
      ],
      "execution_count": null,
      "outputs": [
        {
          "output_type": "execute_result",
          "data": {
            "text/plain": [
              "Active        78.052274\n",
              "Terminated    21.947726\n",
              "Name: Employee\\nStatus\\n, dtype: float64"
            ]
          },
          "metadata": {
            "tags": []
          },
          "execution_count": 15
        }
      ]
    },
    {
      "cell_type": "code",
      "metadata": {
        "id": "sdGX90OcJTL0",
        "outputId": "f6d9b959-8357-4ef6-8191-e5a57130a067",
        "colab": {
          "base_uri": "https://localhost:8080/",
          "height": 377
        }
      },
      "source": [
        "fig=plt.gcf()\n",
        "fig.set_size_inches(8,5)\n",
        "sns.barplot((df[\"Employee\\nStatus\\n\"].value_counts()/df[\"Employee\\nStatus\\n\"].value_counts()).index,(df[\"Employee\\nStatus\\n\"].value_counts()/df[\"Employee\\nStatus\\n\"].value_counts().values.sum())*100)\n",
        "for i,value in enumerate((df[\"Employee\\nStatus\\n\"].value_counts()/df[\"Employee\\nStatus\\n\"].value_counts()).index):\n",
        "    x=i\n",
        "    y=int(round(((df[\"Employee\\nStatus\\n\"].value_counts()/df[\"Employee\\nStatus\\n\"].value_counts().values.sum())*100).loc[value]))\n",
        "    plt.text(x,y,str(y)+\"%\",ha=\"center\")"
      ],
      "execution_count": null,
      "outputs": [
        {
          "output_type": "stream",
          "text": [
            "/usr/local/lib/python3.6/dist-packages/seaborn/_decorators.py:43: FutureWarning: Pass the following variables as keyword args: x, y. From version 0.12, the only valid positional argument will be `data`, and passing other arguments without an explicit keyword will result in an error or misinterpretation.\n",
            "  FutureWarning\n"
          ],
          "name": "stderr"
        },
        {
          "output_type": "display_data",
          "data": {
            "image/png": "[encoded data removed]",
            "text/plain": [
              "<Figure size 576x360 with 1 Axes>"
            ]
          },
          "metadata": {
            "tags": []
          }
        }
      ]
    },
    {
      "cell_type": "markdown",
      "metadata": {
        "id": "ZIbhMxvTCR5L"
      },
      "source": [
        "#terminated emloyees"
      ]
    },
    {
      "cell_type": "code",
      "metadata": {
        "id": "a-VKMAwJ-s4H"
      },
      "source": [
        "df_term=df[df[\"Employee\\nStatus\\n\"]==\"Terminated\"]"
      ],
      "execution_count": null,
      "outputs": []
    },
    {
      "cell_type": "code",
      "metadata": {
        "id": "Z3JEanIB_VsF",
        "outputId": "06026dd8-fd0a-4e6c-be9f-12dd61b127d1",
        "colab": {
          "base_uri": "https://localhost:8080/",
          "height": 355
        }
      },
      "source": [
        "df_term.head()"
      ],
      "execution_count": null,
      "outputs": [
        {
          "output_type": "execute_result",
          "data": {
            "text/html": [
              "<div>\n",
              "<style scoped>\n",
              "    .dataframe tbody tr th:only-of-type {\n",
              "        vertical-align: middle;\n",
              "    }\n",
              "\n",
              "    .dataframe tbody tr th {\n",
              "        vertical-align: top;\n",
              "    }\n",
              "\n",
              "    .dataframe thead th {\n",
              "        text-align: right;\n",
              "    }\n",
              "</style>\n",
              "<table border=\"1\" class=\"dataframe\">\n",
              "  <thead>\n",
              "    <tr style=\"text-align: right;\">\n",
              "      <th></th>\n",
              "      <th>Employee ID</th>\n",
              "      <th>Data Effective Date</th>\n",
              "      <th>Employee\\nStatus\\n</th>\n",
              "      <th>Career Level \\n(1=lowest, 6=highest)\\n</th>\n",
              "      <th>Hired Date</th>\n",
              "      <th>Hired in FY\\n(Yes/No)</th>\n",
              "      <th>Termination Date</th>\n",
              "      <th>Terminated\\nin FY\\n(Yes/No)</th>\n",
              "      <th>Termination Type\\n(Voluntary or Involuntary Exit)</th>\n",
              "      <th>Job Start Date</th>\n",
              "      <th>Promoted\\nin FY\\n(Yes/No)</th>\n",
              "      <th>Birth Date</th>\n",
              "      <th>Age\\n(Years)</th>\n",
              "      <th>Tenure\\n(Years)</th>\n",
              "      <th>Time in\\nJob (Years)</th>\n",
              "      <th>Rating\\n(1=lowest, 5=highest)</th>\n",
              "      <th>Education\\n(Highest\\nDegree)</th>\n",
              "      <th>age_cat</th>\n",
              "    </tr>\n",
              "  </thead>\n",
              "  <tbody>\n",
              "    <tr>\n",
              "      <th>300</th>\n",
              "      <td>N2181</td>\n",
              "      <td>2016-12-31</td>\n",
              "      <td>Terminated</td>\n",
              "      <td>1</td>\n",
              "      <td>2016-12-07</td>\n",
              "      <td>Yes</td>\n",
              "      <td>2016-10-30</td>\n",
              "      <td>Yes</td>\n",
              "      <td>Voluntary Exit</td>\n",
              "      <td>2016-12-07</td>\n",
              "      <td>NaN</td>\n",
              "      <td>1993-04-09</td>\n",
              "      <td>23</td>\n",
              "      <td>NaN</td>\n",
              "      <td>NaN</td>\n",
              "      <td>2</td>\n",
              "      <td>BA/BS</td>\n",
              "      <td>&lt;25</td>\n",
              "    </tr>\n",
              "    <tr>\n",
              "      <th>301</th>\n",
              "      <td>N2182</td>\n",
              "      <td>2016-12-31</td>\n",
              "      <td>Terminated</td>\n",
              "      <td>1</td>\n",
              "      <td>2016-04-21</td>\n",
              "      <td>Yes</td>\n",
              "      <td>2016-11-26</td>\n",
              "      <td>Yes</td>\n",
              "      <td>Voluntary Exit</td>\n",
              "      <td>2016-04-21</td>\n",
              "      <td>NaN</td>\n",
              "      <td>1996-05-15</td>\n",
              "      <td>20</td>\n",
              "      <td>NaN</td>\n",
              "      <td>NaN</td>\n",
              "      <td>2</td>\n",
              "      <td>BA/BS</td>\n",
              "      <td>&lt;25</td>\n",
              "    </tr>\n",
              "    <tr>\n",
              "      <th>302</th>\n",
              "      <td>N2183</td>\n",
              "      <td>2016-12-31</td>\n",
              "      <td>Terminated</td>\n",
              "      <td>1</td>\n",
              "      <td>2015-06-10</td>\n",
              "      <td>Yes</td>\n",
              "      <td>2016-12-05</td>\n",
              "      <td>Yes</td>\n",
              "      <td>Voluntary Exit</td>\n",
              "      <td>2015-06-10</td>\n",
              "      <td>NaN</td>\n",
              "      <td>1992-09-22</td>\n",
              "      <td>24</td>\n",
              "      <td>NaN</td>\n",
              "      <td>NaN</td>\n",
              "      <td>2</td>\n",
              "      <td>MBA</td>\n",
              "      <td>&lt;25</td>\n",
              "    </tr>\n",
              "    <tr>\n",
              "      <th>303</th>\n",
              "      <td>N2184</td>\n",
              "      <td>2016-12-31</td>\n",
              "      <td>Terminated</td>\n",
              "      <td>1</td>\n",
              "      <td>2015-04-25</td>\n",
              "      <td>Yes</td>\n",
              "      <td>2016-11-02</td>\n",
              "      <td>Yes</td>\n",
              "      <td>Voluntary Exit</td>\n",
              "      <td>2015-04-25</td>\n",
              "      <td>NaN</td>\n",
              "      <td>1993-02-09</td>\n",
              "      <td>23</td>\n",
              "      <td>NaN</td>\n",
              "      <td>NaN</td>\n",
              "      <td>2</td>\n",
              "      <td>BA/BS</td>\n",
              "      <td>&lt;25</td>\n",
              "    </tr>\n",
              "    <tr>\n",
              "      <th>304</th>\n",
              "      <td>N2185</td>\n",
              "      <td>2016-12-31</td>\n",
              "      <td>Terminated</td>\n",
              "      <td>1</td>\n",
              "      <td>2015-08-05</td>\n",
              "      <td>Yes</td>\n",
              "      <td>2016-01-19</td>\n",
              "      <td>Yes</td>\n",
              "      <td>Voluntary Exit</td>\n",
              "      <td>2015-08-05</td>\n",
              "      <td>NaN</td>\n",
              "      <td>1993-04-03</td>\n",
              "      <td>23</td>\n",
              "      <td>NaN</td>\n",
              "      <td>NaN</td>\n",
              "      <td>2</td>\n",
              "      <td>BA/BS</td>\n",
              "      <td>&lt;25</td>\n",
              "    </tr>\n",
              "  </tbody>\n",
              "</table>\n",
              "</div>"
            ],
            "text/plain": [
              "    Employee ID Data Effective Date  ... Education\\n(Highest\\nDegree)  age_cat\n",
              "300       N2181          2016-12-31  ...                        BA/BS      <25\n",
              "301       N2182          2016-12-31  ...                        BA/BS      <25\n",
              "302       N2183          2016-12-31  ...                          MBA      <25\n",
              "303       N2184          2016-12-31  ...                        BA/BS      <25\n",
              "304       N2185          2016-12-31  ...                        BA/BS      <25\n",
              "\n",
              "[5 rows x 18 columns]"
            ]
          },
          "metadata": {
            "tags": []
          },
          "execution_count": 18
        }
      ]
    },
    {
      "cell_type": "code",
      "metadata": {
        "id": "Jy41dAxDCIm6",
        "outputId": "c0c1d81b-9328-4be2-c2c8-66f0ea9a1232",
        "colab": {
          "base_uri": "https://localhost:8080/"
        }
      },
      "source": [
        "df_term[\"Tenure\\n(Years)\"]=pd.Series(((df_term[\"Termination Date\"]-df_term[\"Hired Date\"])/np.timedelta64(1,\"Y\"))).astype(int)"
      ],
      "execution_count": null,
      "outputs": [
        {
          "output_type": "stream",
          "text": [
            "/usr/local/lib/python3.6/dist-packages/ipykernel_launcher.py:1: SettingWithCopyWarning: \n",
            "A value is trying to be set on a copy of a slice from a DataFrame.\n",
            "Try using .loc[row_indexer,col_indexer] = value instead\n",
            "\n",
            "See the caveats in the documentation: https://pandas.pydata.org/pandas-docs/stable/user_guide/indexing.html#returning-a-view-versus-a-copy\n",
            "  \"\"\"Entry point for launching an IPython kernel.\n"
          ],
          "name": "stderr"
        }
      ]
    },
    {
      "cell_type": "code",
      "metadata": {
        "id": "8_wlDNmiD-YU",
        "outputId": "6e9334af-c5fa-4b3b-db17-4a1f1e3cbbb0",
        "colab": {
          "base_uri": "https://localhost:8080/",
          "height": 355
        }
      },
      "source": [
        "df_term.tail()"
      ],
      "execution_count": null,
      "outputs": [
        {
          "output_type": "execute_result",
          "data": {
            "text/html": [
              "<div>\n",
              "<style scoped>\n",
              "    .dataframe tbody tr th:only-of-type {\n",
              "        vertical-align: middle;\n",
              "    }\n",
              "\n",
              "    .dataframe tbody tr th {\n",
              "        vertical-align: top;\n",
              "    }\n",
              "\n",
              "    .dataframe thead th {\n",
              "        text-align: right;\n",
              "    }\n",
              "</style>\n",
              "<table border=\"1\" class=\"dataframe\">\n",
              "  <thead>\n",
              "    <tr style=\"text-align: right;\">\n",
              "      <th></th>\n",
              "      <th>Employee ID</th>\n",
              "      <th>Data Effective Date</th>\n",
              "      <th>Employee\\nStatus\\n</th>\n",
              "      <th>Career Level \\n(1=lowest, 6=highest)\\n</th>\n",
              "      <th>Hired Date</th>\n",
              "      <th>Hired in FY\\n(Yes/No)</th>\n",
              "      <th>Termination Date</th>\n",
              "      <th>Terminated\\nin FY\\n(Yes/No)</th>\n",
              "      <th>Termination Type\\n(Voluntary or Involuntary Exit)</th>\n",
              "      <th>Job Start Date</th>\n",
              "      <th>Promoted\\nin FY\\n(Yes/No)</th>\n",
              "      <th>Birth Date</th>\n",
              "      <th>Age\\n(Years)</th>\n",
              "      <th>Tenure\\n(Years)</th>\n",
              "      <th>Time in\\nJob (Years)</th>\n",
              "      <th>Rating\\n(1=lowest, 5=highest)</th>\n",
              "      <th>Education\\n(Highest\\nDegree)</th>\n",
              "      <th>age_cat</th>\n",
              "    </tr>\n",
              "  </thead>\n",
              "  <tbody>\n",
              "    <tr>\n",
              "      <th>2788</th>\n",
              "      <td>N2589</td>\n",
              "      <td>2016-12-31</td>\n",
              "      <td>Terminated</td>\n",
              "      <td>4</td>\n",
              "      <td>2004-08-09</td>\n",
              "      <td>No</td>\n",
              "      <td>2016-09-03</td>\n",
              "      <td>Yes</td>\n",
              "      <td>Voluntary Exit</td>\n",
              "      <td>2011-12-27</td>\n",
              "      <td>No</td>\n",
              "      <td>1986-04-02</td>\n",
              "      <td>30</td>\n",
              "      <td>12</td>\n",
              "      <td>NaN</td>\n",
              "      <td>2</td>\n",
              "      <td>MA/MS</td>\n",
              "      <td>25-35</td>\n",
              "    </tr>\n",
              "    <tr>\n",
              "      <th>2789</th>\n",
              "      <td>N2590</td>\n",
              "      <td>2016-12-31</td>\n",
              "      <td>Terminated</td>\n",
              "      <td>4</td>\n",
              "      <td>2005-09-28</td>\n",
              "      <td>No</td>\n",
              "      <td>2016-09-28</td>\n",
              "      <td>Yes</td>\n",
              "      <td>Involuntary Exit</td>\n",
              "      <td>2012-10-06</td>\n",
              "      <td>No</td>\n",
              "      <td>1984-08-29</td>\n",
              "      <td>32</td>\n",
              "      <td>11</td>\n",
              "      <td>NaN</td>\n",
              "      <td>2</td>\n",
              "      <td>BA/BS</td>\n",
              "      <td>25-35</td>\n",
              "    </tr>\n",
              "    <tr>\n",
              "      <th>2790</th>\n",
              "      <td>N2591</td>\n",
              "      <td>2016-12-31</td>\n",
              "      <td>Terminated</td>\n",
              "      <td>4</td>\n",
              "      <td>2006-10-06</td>\n",
              "      <td>No</td>\n",
              "      <td>2016-01-15</td>\n",
              "      <td>Yes</td>\n",
              "      <td>Involuntary Exit</td>\n",
              "      <td>2011-03-11</td>\n",
              "      <td>No</td>\n",
              "      <td>1987-08-22</td>\n",
              "      <td>29</td>\n",
              "      <td>9</td>\n",
              "      <td>NaN</td>\n",
              "      <td>2</td>\n",
              "      <td>MBA</td>\n",
              "      <td>25-35</td>\n",
              "    </tr>\n",
              "    <tr>\n",
              "      <th>2791</th>\n",
              "      <td>N2592</td>\n",
              "      <td>2016-12-31</td>\n",
              "      <td>Terminated</td>\n",
              "      <td>4</td>\n",
              "      <td>2006-04-20</td>\n",
              "      <td>No</td>\n",
              "      <td>2016-02-07</td>\n",
              "      <td>Yes</td>\n",
              "      <td>Involuntary Exit</td>\n",
              "      <td>2012-09-13</td>\n",
              "      <td>No</td>\n",
              "      <td>1988-07-11</td>\n",
              "      <td>28</td>\n",
              "      <td>9</td>\n",
              "      <td>NaN</td>\n",
              "      <td>2</td>\n",
              "      <td>BA/BS</td>\n",
              "      <td>25-35</td>\n",
              "    </tr>\n",
              "    <tr>\n",
              "      <th>2792</th>\n",
              "      <td>N2593</td>\n",
              "      <td>2016-12-31</td>\n",
              "      <td>Terminated</td>\n",
              "      <td>4</td>\n",
              "      <td>2007-07-20</td>\n",
              "      <td>No</td>\n",
              "      <td>2016-12-12</td>\n",
              "      <td>Yes</td>\n",
              "      <td>Involuntary Exit</td>\n",
              "      <td>2012-07-19</td>\n",
              "      <td>No</td>\n",
              "      <td>1983-03-07</td>\n",
              "      <td>33</td>\n",
              "      <td>9</td>\n",
              "      <td>NaN</td>\n",
              "      <td>2</td>\n",
              "      <td>BA/BS</td>\n",
              "      <td>25-35</td>\n",
              "    </tr>\n",
              "  </tbody>\n",
              "</table>\n",
              "</div>"
            ],
            "text/plain": [
              "     Employee ID Data Effective Date  ... Education\\n(Highest\\nDegree)  age_cat\n",
              "2788       N2589          2016-12-31  ...                        MA/MS    25-35\n",
              "2789       N2590          2016-12-31  ...                        BA/BS    25-35\n",
              "2790       N2591          2016-12-31  ...                          MBA    25-35\n",
              "2791       N2592          2016-12-31  ...                        BA/BS    25-35\n",
              "2792       N2593          2016-12-31  ...                        BA/BS    25-35\n",
              "\n",
              "[5 rows x 18 columns]"
            ]
          },
          "metadata": {
            "tags": []
          },
          "execution_count": 20
        }
      ]
    },
    {
      "cell_type": "code",
      "metadata": {
        "id": "bUpS5yhCEhJo",
        "outputId": "a3549e84-1197-4f9c-f41d-6f7d454e44bd",
        "colab": {
          "base_uri": "https://localhost:8080/"
        }
      },
      "source": [
        "df_term[\"Time in\\nJob (Years)\"]=pd.Series(((df_term[\"Termination Date\"]-df_term[\"Job Start Date\"])/np.timedelta64(1,\"Y\"))).astype(int)"
      ],
      "execution_count": null,
      "outputs": [
        {
          "output_type": "stream",
          "text": [
            "/usr/local/lib/python3.6/dist-packages/ipykernel_launcher.py:1: SettingWithCopyWarning: \n",
            "A value is trying to be set on a copy of a slice from a DataFrame.\n",
            "Try using .loc[row_indexer,col_indexer] = value instead\n",
            "\n",
            "See the caveats in the documentation: https://pandas.pydata.org/pandas-docs/stable/user_guide/indexing.html#returning-a-view-versus-a-copy\n",
            "  \"\"\"Entry point for launching an IPython kernel.\n"
          ],
          "name": "stderr"
        }
      ]
    },
    {
      "cell_type": "code",
      "metadata": {
        "id": "0Gd8O4m4E137",
        "outputId": "35397c4b-026f-4bf4-ef5a-28fdbc89d55b",
        "colab": {
          "base_uri": "https://localhost:8080/",
          "height": 355
        }
      },
      "source": [
        "df_term.tail()"
      ],
      "execution_count": null,
      "outputs": [
        {
          "output_type": "execute_result",
          "data": {
            "text/html": [
              "<div>\n",
              "<style scoped>\n",
              "    .dataframe tbody tr th:only-of-type {\n",
              "        vertical-align: middle;\n",
              "    }\n",
              "\n",
              "    .dataframe tbody tr th {\n",
              "        vertical-align: top;\n",
              "    }\n",
              "\n",
              "    .dataframe thead th {\n",
              "        text-align: right;\n",
              "    }\n",
              "</style>\n",
              "<table border=\"1\" class=\"dataframe\">\n",
              "  <thead>\n",
              "    <tr style=\"text-align: right;\">\n",
              "      <th></th>\n",
              "      <th>Employee ID</th>\n",
              "      <th>Data Effective Date</th>\n",
              "      <th>Employee\\nStatus\\n</th>\n",
              "      <th>Career Level \\n(1=lowest, 6=highest)\\n</th>\n",
              "      <th>Hired Date</th>\n",
              "      <th>Hired in FY\\n(Yes/No)</th>\n",
              "      <th>Termination Date</th>\n",
              "      <th>Terminated\\nin FY\\n(Yes/No)</th>\n",
              "      <th>Termination Type\\n(Voluntary or Involuntary Exit)</th>\n",
              "      <th>Job Start Date</th>\n",
              "      <th>Promoted\\nin FY\\n(Yes/No)</th>\n",
              "      <th>Birth Date</th>\n",
              "      <th>Age\\n(Years)</th>\n",
              "      <th>Tenure\\n(Years)</th>\n",
              "      <th>Time in\\nJob (Years)</th>\n",
              "      <th>Rating\\n(1=lowest, 5=highest)</th>\n",
              "      <th>Education\\n(Highest\\nDegree)</th>\n",
              "      <th>age_cat</th>\n",
              "    </tr>\n",
              "  </thead>\n",
              "  <tbody>\n",
              "    <tr>\n",
              "      <th>2788</th>\n",
              "      <td>N2589</td>\n",
              "      <td>2016-12-31</td>\n",
              "      <td>Terminated</td>\n",
              "      <td>4</td>\n",
              "      <td>2004-08-09</td>\n",
              "      <td>No</td>\n",
              "      <td>2016-09-03</td>\n",
              "      <td>Yes</td>\n",
              "      <td>Voluntary Exit</td>\n",
              "      <td>2011-12-27</td>\n",
              "      <td>No</td>\n",
              "      <td>1986-04-02</td>\n",
              "      <td>30</td>\n",
              "      <td>12</td>\n",
              "      <td>4</td>\n",
              "      <td>2</td>\n",
              "      <td>MA/MS</td>\n",
              "      <td>25-35</td>\n",
              "    </tr>\n",
              "    <tr>\n",
              "      <th>2789</th>\n",
              "      <td>N2590</td>\n",
              "      <td>2016-12-31</td>\n",
              "      <td>Terminated</td>\n",
              "      <td>4</td>\n",
              "      <td>2005-09-28</td>\n",
              "      <td>No</td>\n",
              "      <td>2016-09-28</td>\n",
              "      <td>Yes</td>\n",
              "      <td>Involuntary Exit</td>\n",
              "      <td>2012-10-06</td>\n",
              "      <td>No</td>\n",
              "      <td>1984-08-29</td>\n",
              "      <td>32</td>\n",
              "      <td>11</td>\n",
              "      <td>3</td>\n",
              "      <td>2</td>\n",
              "      <td>BA/BS</td>\n",
              "      <td>25-35</td>\n",
              "    </tr>\n",
              "    <tr>\n",
              "      <th>2790</th>\n",
              "      <td>N2591</td>\n",
              "      <td>2016-12-31</td>\n",
              "      <td>Terminated</td>\n",
              "      <td>4</td>\n",
              "      <td>2006-10-06</td>\n",
              "      <td>No</td>\n",
              "      <td>2016-01-15</td>\n",
              "      <td>Yes</td>\n",
              "      <td>Involuntary Exit</td>\n",
              "      <td>2011-03-11</td>\n",
              "      <td>No</td>\n",
              "      <td>1987-08-22</td>\n",
              "      <td>29</td>\n",
              "      <td>9</td>\n",
              "      <td>4</td>\n",
              "      <td>2</td>\n",
              "      <td>MBA</td>\n",
              "      <td>25-35</td>\n",
              "    </tr>\n",
              "    <tr>\n",
              "      <th>2791</th>\n",
              "      <td>N2592</td>\n",
              "      <td>2016-12-31</td>\n",
              "      <td>Terminated</td>\n",
              "      <td>4</td>\n",
              "      <td>2006-04-20</td>\n",
              "      <td>No</td>\n",
              "      <td>2016-02-07</td>\n",
              "      <td>Yes</td>\n",
              "      <td>Involuntary Exit</td>\n",
              "      <td>2012-09-13</td>\n",
              "      <td>No</td>\n",
              "      <td>1988-07-11</td>\n",
              "      <td>28</td>\n",
              "      <td>9</td>\n",
              "      <td>3</td>\n",
              "      <td>2</td>\n",
              "      <td>BA/BS</td>\n",
              "      <td>25-35</td>\n",
              "    </tr>\n",
              "    <tr>\n",
              "      <th>2792</th>\n",
              "      <td>N2593</td>\n",
              "      <td>2016-12-31</td>\n",
              "      <td>Terminated</td>\n",
              "      <td>4</td>\n",
              "      <td>2007-07-20</td>\n",
              "      <td>No</td>\n",
              "      <td>2016-12-12</td>\n",
              "      <td>Yes</td>\n",
              "      <td>Involuntary Exit</td>\n",
              "      <td>2012-07-19</td>\n",
              "      <td>No</td>\n",
              "      <td>1983-03-07</td>\n",
              "      <td>33</td>\n",
              "      <td>9</td>\n",
              "      <td>4</td>\n",
              "      <td>2</td>\n",
              "      <td>BA/BS</td>\n",
              "      <td>25-35</td>\n",
              "    </tr>\n",
              "  </tbody>\n",
              "</table>\n",
              "</div>"
            ],
            "text/plain": [
              "     Employee ID Data Effective Date  ... Education\\n(Highest\\nDegree)  age_cat\n",
              "2788       N2589          2016-12-31  ...                        MA/MS    25-35\n",
              "2789       N2590          2016-12-31  ...                        BA/BS    25-35\n",
              "2790       N2591          2016-12-31  ...                          MBA    25-35\n",
              "2791       N2592          2016-12-31  ...                        BA/BS    25-35\n",
              "2792       N2593          2016-12-31  ...                        BA/BS    25-35\n",
              "\n",
              "[5 rows x 18 columns]"
            ]
          },
          "metadata": {
            "tags": []
          },
          "execution_count": 22
        }
      ]
    },
    {
      "cell_type": "code",
      "metadata": {
        "id": "L72gJu3XfJnO",
        "outputId": "96aad419-7bcb-4731-fd64-5ba3adbe004c",
        "colab": {
          "base_uri": "https://localhost:8080/",
          "height": 365
        }
      },
      "source": [
        "df_term.hist(figsize=(8,5))\n",
        "plt.tight_layout()"
      ],
      "execution_count": null,
      "outputs": [
        {
          "output_type": "display_data",
          "data": {
            "image/png": "[encoded data removed]",
            "text/plain": [
              "<Figure size 576x360 with 6 Axes>"
            ]
          },
          "metadata": {
            "tags": []
          }
        }
      ]
    },
    {
      "cell_type": "markdown",
      "metadata": {
        "id": "6KZhXfu6PuFK"
      },
      "source": [
        "##1- age_cat   \n",
        "##vs  \n",
        "##relative no. of employees left the company"
      ]
    },
    {
      "cell_type": "code",
      "metadata": {
        "id": "mueBYSQ4PStC",
        "outputId": "28d0600e-640e-431f-f978-0de8a0571687",
        "colab": {
          "base_uri": "https://localhost:8080/"
        }
      },
      "source": [
        "df_term_series_age_cat=df[\"age_cat\"].value_counts()\n",
        "df_term_series_age_cat"
      ],
      "execution_count": null,
      "outputs": [
        {
          "output_type": "execute_result",
          "data": {
            "text/plain": [
              "25-35    1623\n",
              "<25       839\n",
              "35-45     246\n",
              "45-55      83\n",
              "55-65       2\n",
              "65<         0\n",
              "Name: age_cat, dtype: int64"
            ]
          },
          "metadata": {
            "tags": []
          },
          "execution_count": 24
        }
      ]
    },
    {
      "cell_type": "code",
      "metadata": {
        "id": "lqsN0a8uXRe3",
        "outputId": "4ac322fe-14fd-4814-cf95-8988043dc23c",
        "colab": {
          "base_uri": "https://localhost:8080/"
        }
      },
      "source": [
        "(df_term_series_age_cat/np.sum(df_term_series_age_cat.values))*100"
      ],
      "execution_count": null,
      "outputs": [
        {
          "output_type": "execute_result",
          "data": {
            "text/plain": [
              "25-35    58.109560\n",
              "<25      30.039384\n",
              "35-45     8.807734\n",
              "45-55     2.971715\n",
              "55-65     0.071608\n",
              "65<       0.000000\n",
              "Name: age_cat, dtype: float64"
            ]
          },
          "metadata": {
            "tags": []
          },
          "execution_count": 25
        }
      ]
    },
    {
      "cell_type": "code",
      "metadata": {
        "id": "KgkLQAGfluiG"
      },
      "source": [
        "df_term_series_age_cat_relative=pd.DataFrame({\"pct\":df_term_series_age_cat/np.sum(df_term_series_age_cat.values)*100})"
      ],
      "execution_count": null,
      "outputs": []
    },
    {
      "cell_type": "code",
      "metadata": {
        "id": "lRgus3JwmOZ8",
        "outputId": "2ce1f1cc-ac24-4549-c5b1-d23927383875",
        "colab": {
          "base_uri": "https://localhost:8080/",
          "height": 230
        }
      },
      "source": [
        "df_term_series_age_cat_relative"
      ],
      "execution_count": null,
      "outputs": [
        {
          "output_type": "execute_result",
          "data": {
            "text/html": [
              "<div>\n",
              "<style scoped>\n",
              "    .dataframe tbody tr th:only-of-type {\n",
              "        vertical-align: middle;\n",
              "    }\n",
              "\n",
              "    .dataframe tbody tr th {\n",
              "        vertical-align: top;\n",
              "    }\n",
              "\n",
              "    .dataframe thead th {\n",
              "        text-align: right;\n",
              "    }\n",
              "</style>\n",
              "<table border=\"1\" class=\"dataframe\">\n",
              "  <thead>\n",
              "    <tr style=\"text-align: right;\">\n",
              "      <th></th>\n",
              "      <th>pct</th>\n",
              "    </tr>\n",
              "  </thead>\n",
              "  <tbody>\n",
              "    <tr>\n",
              "      <th>25-35</th>\n",
              "      <td>58.109560</td>\n",
              "    </tr>\n",
              "    <tr>\n",
              "      <th>&lt;25</th>\n",
              "      <td>30.039384</td>\n",
              "    </tr>\n",
              "    <tr>\n",
              "      <th>35-45</th>\n",
              "      <td>8.807734</td>\n",
              "    </tr>\n",
              "    <tr>\n",
              "      <th>45-55</th>\n",
              "      <td>2.971715</td>\n",
              "    </tr>\n",
              "    <tr>\n",
              "      <th>55-65</th>\n",
              "      <td>0.071608</td>\n",
              "    </tr>\n",
              "    <tr>\n",
              "      <th>65&lt;</th>\n",
              "      <td>0.000000</td>\n",
              "    </tr>\n",
              "  </tbody>\n",
              "</table>\n",
              "</div>"
            ],
            "text/plain": [
              "             pct\n",
              "25-35  58.109560\n",
              "<25    30.039384\n",
              "35-45   8.807734\n",
              "45-55   2.971715\n",
              "55-65   0.071608\n",
              "65<     0.000000"
            ]
          },
          "metadata": {
            "tags": []
          },
          "execution_count": 27
        }
      ]
    },
    {
      "cell_type": "code",
      "metadata": {
        "id": "W8EB7Qn1mSP0",
        "outputId": "5644043c-43eb-4abc-aa74-c10b181e431d",
        "colab": {
          "base_uri": "https://localhost:8080/",
          "height": 230
        }
      },
      "source": [
        "df_term_series_age_cat_relative=df_term_series_age_cat_relative.reindex([\"<25\",\"25-35\",\"35-45\",\"45-55\",\"55-65\",\"65<\"])\n",
        "df_term_series_age_cat_relative"
      ],
      "execution_count": null,
      "outputs": [
        {
          "output_type": "execute_result",
          "data": {
            "text/html": [
              "<div>\n",
              "<style scoped>\n",
              "    .dataframe tbody tr th:only-of-type {\n",
              "        vertical-align: middle;\n",
              "    }\n",
              "\n",
              "    .dataframe tbody tr th {\n",
              "        vertical-align: top;\n",
              "    }\n",
              "\n",
              "    .dataframe thead th {\n",
              "        text-align: right;\n",
              "    }\n",
              "</style>\n",
              "<table border=\"1\" class=\"dataframe\">\n",
              "  <thead>\n",
              "    <tr style=\"text-align: right;\">\n",
              "      <th></th>\n",
              "      <th>pct</th>\n",
              "    </tr>\n",
              "  </thead>\n",
              "  <tbody>\n",
              "    <tr>\n",
              "      <th>&lt;25</th>\n",
              "      <td>30.039384</td>\n",
              "    </tr>\n",
              "    <tr>\n",
              "      <th>25-35</th>\n",
              "      <td>58.109560</td>\n",
              "    </tr>\n",
              "    <tr>\n",
              "      <th>35-45</th>\n",
              "      <td>8.807734</td>\n",
              "    </tr>\n",
              "    <tr>\n",
              "      <th>45-55</th>\n",
              "      <td>2.971715</td>\n",
              "    </tr>\n",
              "    <tr>\n",
              "      <th>55-65</th>\n",
              "      <td>0.071608</td>\n",
              "    </tr>\n",
              "    <tr>\n",
              "      <th>65&lt;</th>\n",
              "      <td>0.000000</td>\n",
              "    </tr>\n",
              "  </tbody>\n",
              "</table>\n",
              "</div>"
            ],
            "text/plain": [
              "             pct\n",
              "<25    30.039384\n",
              "25-35  58.109560\n",
              "35-45   8.807734\n",
              "45-55   2.971715\n",
              "55-65   0.071608\n",
              "65<     0.000000"
            ]
          },
          "metadata": {
            "tags": []
          },
          "execution_count": 28
        }
      ]
    },
    {
      "cell_type": "code",
      "metadata": {
        "id": "hDsD9gKCPGhh",
        "outputId": "c4dbafe7-bbfb-427d-acf6-3479b232e858",
        "colab": {
          "base_uri": "https://localhost:8080/",
          "height": 399
        }
      },
      "source": [
        "fig=plt.gcf()\n",
        "fig.set_size_inches(8,5)\n",
        "sns.barplot(df_term_series_age_cat_relative.index,df_term_series_age_cat_relative[\"pct\"])\n",
        "plt.xticks(rotation=90)\n",
        "plt.ylabel(\"rel. no. of empl. left the company\")\n",
        "for i,value in enumerate(df_term_series_age_cat_relative.index):\n",
        "    x=i\n",
        "    y=int(round(df_term_series_age_cat_relative.loc[value]))\n",
        "    plt.text(x,y,str(y)+\"%\",ha=\"center\")"
      ],
      "execution_count": null,
      "outputs": [
        {
          "output_type": "stream",
          "text": [
            "/usr/local/lib/python3.6/dist-packages/seaborn/_decorators.py:43: FutureWarning: Pass the following variables as keyword args: x, y. From version 0.12, the only valid positional argument will be `data`, and passing other arguments without an explicit keyword will result in an error or misinterpretation.\n",
            "  FutureWarning\n"
          ],
          "name": "stderr"
        },
        {
          "output_type": "display_data",
          "data": {
            "image/png": "[encoded data removed]",
            "text/plain": [
              "<Figure size 576x360 with 1 Axes>"
            ]
          },
          "metadata": {
            "tags": []
          }
        }
      ]
    },
    {
      "cell_type": "markdown",
      "metadata": {
        "id": "U8UEeZv-FFyP"
      },
      "source": [
        "##2- relative voluntary/unvoluntrary retired  \n",
        "##vs  \n",
        "##counts"
      ]
    },
    {
      "cell_type": "code",
      "metadata": {
        "id": "yorRGCviOfnd",
        "outputId": "0ca95733-16cc-41ae-9df1-eb1f6337a1c8",
        "colab": {
          "base_uri": "https://localhost:8080/"
        }
      },
      "source": [
        "len(df_term)"
      ],
      "execution_count": null,
      "outputs": [
        {
          "output_type": "execute_result",
          "data": {
            "text/plain": [
              "613"
            ]
          },
          "metadata": {
            "tags": []
          },
          "execution_count": 30
        }
      ]
    },
    {
      "cell_type": "code",
      "metadata": {
        "id": "5L_G5HFvOfCx",
        "outputId": "d36379a8-15d2-4274-b9b7-4a52f013403d",
        "colab": {
          "base_uri": "https://localhost:8080/"
        }
      },
      "source": [
        "df_term[\"Termination Type\\n(Voluntary or Involuntary Exit)\"].value_counts()"
      ],
      "execution_count": null,
      "outputs": [
        {
          "output_type": "execute_result",
          "data": {
            "text/plain": [
              "Involuntary Exit    385\n",
              "Voluntary Exit      228\n",
              "Name: Termination Type\\n(Voluntary or Involuntary Exit), dtype: int64"
            ]
          },
          "metadata": {
            "tags": []
          },
          "execution_count": 31
        }
      ]
    },
    {
      "cell_type": "code",
      "metadata": {
        "id": "ZQiWxAPyE4ew",
        "outputId": "630c2875-889c-48d5-9caa-9b0e1896f3f8",
        "colab": {
          "base_uri": "https://localhost:8080/"
        }
      },
      "source": [
        "((df_term[\"Termination Type\\n(Voluntary or Involuntary Exit)\"].value_counts()/df_term[\"Termination Type\\n(Voluntary or Involuntary Exit)\"].value_counts().values.sum())*100)"
      ],
      "execution_count": null,
      "outputs": [
        {
          "output_type": "execute_result",
          "data": {
            "text/plain": [
              "Involuntary Exit    62.805873\n",
              "Voluntary Exit      37.194127\n",
              "Name: Termination Type\\n(Voluntary or Involuntary Exit), dtype: float64"
            ]
          },
          "metadata": {
            "tags": []
          },
          "execution_count": 32
        }
      ]
    },
    {
      "cell_type": "code",
      "metadata": {
        "id": "-KaderKZFUDp",
        "outputId": "51043790-b41d-4280-997e-c5293f22d8bc",
        "colab": {
          "base_uri": "https://localhost:8080/",
          "height": 340
        }
      },
      "source": [
        "sns.barplot(df_term['''Termination Type\\n(Voluntary or Involuntary Exit)'''].value_counts().index,(((df_term['''Termination Type\\n(Voluntary or Involuntary Exit)'''].value_counts())/df_term['''Termination Type\\n(Voluntary or Involuntary Exit)'''].value_counts().values.sum())*100))\n",
        "for i,value in enumerate((((df_term['''Termination Type\\n(Voluntary or Involuntary Exit)'''].value_counts())/df_term['''Termination Type\\n(Voluntary or Involuntary Exit)'''].value_counts().values.sum())*100).index):\n",
        "    x,y=i,int(round((((df_term['''Termination Type\\n(Voluntary or Involuntary Exit)'''].value_counts())/df_term['''Termination Type\\n(Voluntary or Involuntary Exit)'''].value_counts().values.sum())*100).loc[value]))\n",
        "    plt.text(x,y,str(y)+\"%\",ha=\"center\")\n",
        "    plt.xlabel(\"Retirement Type\")\n",
        "    plt.ylabel(\"Relative Percentage\")"
      ],
      "execution_count": null,
      "outputs": [
        {
          "output_type": "stream",
          "text": [
            "/usr/local/lib/python3.6/dist-packages/seaborn/_decorators.py:43: FutureWarning: Pass the following variables as keyword args: x, y. From version 0.12, the only valid positional argument will be `data`, and passing other arguments without an explicit keyword will result in an error or misinterpretation.\n",
            "  FutureWarning\n"
          ],
          "name": "stderr"
        },
        {
          "output_type": "display_data",
          "data": {
            "image/png": "[encoded data removed]",
            "text/plain": [
              "<Figure size 432x288 with 1 Axes>"
            ]
          },
          "metadata": {
            "tags": []
          }
        }
      ]
    },
    {
      "cell_type": "markdown",
      "metadata": {
        "id": "NJiRSJyLpiok"
      },
      "source": [
        "###report-1\n",
        "here unit2 employees are happy with the company either it will be:-\n",
        "\n",
        "1- Salary\n",
        "\n",
        "2- Environment was so good\n",
        "\n",
        "3- Workload wasn't too high"
      ]
    },
    {
      "cell_type": "markdown",
      "metadata": {
        "id": "LSpUTVP4TGQm"
      },
      "source": [
        "##3- relative rating   \n",
        "##vs  \n",
        "##counts\n"
      ]
    },
    {
      "cell_type": "markdown",
      "metadata": {
        "id": "6Cs4AFf2CfnB"
      },
      "source": [
        "###for voluntary retired"
      ]
    },
    {
      "cell_type": "code",
      "metadata": {
        "id": "2pICwHzhNkoT",
        "outputId": "f95bc37e-5c3a-4fa4-c819-7358e3c2b428",
        "colab": {
          "base_uri": "https://localhost:8080/",
          "height": 355
        }
      },
      "source": [
        "df_term_vol_exit=df_term[df_term['''Termination Type\\n(Voluntary or Involuntary Exit)''']==\"Voluntary Exit\"]\n",
        "df_term_vol_exit.head()"
      ],
      "execution_count": null,
      "outputs": [
        {
          "output_type": "execute_result",
          "data": {
            "text/html": [
              "<div>\n",
              "<style scoped>\n",
              "    .dataframe tbody tr th:only-of-type {\n",
              "        vertical-align: middle;\n",
              "    }\n",
              "\n",
              "    .dataframe tbody tr th {\n",
              "        vertical-align: top;\n",
              "    }\n",
              "\n",
              "    .dataframe thead th {\n",
              "        text-align: right;\n",
              "    }\n",
              "</style>\n",
              "<table border=\"1\" class=\"dataframe\">\n",
              "  <thead>\n",
              "    <tr style=\"text-align: right;\">\n",
              "      <th></th>\n",
              "      <th>Employee ID</th>\n",
              "      <th>Data Effective Date</th>\n",
              "      <th>Employee\\nStatus\\n</th>\n",
              "      <th>Career Level \\n(1=lowest, 6=highest)\\n</th>\n",
              "      <th>Hired Date</th>\n",
              "      <th>Hired in FY\\n(Yes/No)</th>\n",
              "      <th>Termination Date</th>\n",
              "      <th>Terminated\\nin FY\\n(Yes/No)</th>\n",
              "      <th>Termination Type\\n(Voluntary or Involuntary Exit)</th>\n",
              "      <th>Job Start Date</th>\n",
              "      <th>Promoted\\nin FY\\n(Yes/No)</th>\n",
              "      <th>Birth Date</th>\n",
              "      <th>Age\\n(Years)</th>\n",
              "      <th>Tenure\\n(Years)</th>\n",
              "      <th>Time in\\nJob (Years)</th>\n",
              "      <th>Rating\\n(1=lowest, 5=highest)</th>\n",
              "      <th>Education\\n(Highest\\nDegree)</th>\n",
              "      <th>age_cat</th>\n",
              "    </tr>\n",
              "  </thead>\n",
              "  <tbody>\n",
              "    <tr>\n",
              "      <th>300</th>\n",
              "      <td>N2181</td>\n",
              "      <td>2016-12-31</td>\n",
              "      <td>Terminated</td>\n",
              "      <td>1</td>\n",
              "      <td>2016-12-07</td>\n",
              "      <td>Yes</td>\n",
              "      <td>2016-10-30</td>\n",
              "      <td>Yes</td>\n",
              "      <td>Voluntary Exit</td>\n",
              "      <td>2016-12-07</td>\n",
              "      <td>NaN</td>\n",
              "      <td>1993-04-09</td>\n",
              "      <td>23</td>\n",
              "      <td>0</td>\n",
              "      <td>0</td>\n",
              "      <td>2</td>\n",
              "      <td>BA/BS</td>\n",
              "      <td>&lt;25</td>\n",
              "    </tr>\n",
              "    <tr>\n",
              "      <th>301</th>\n",
              "      <td>N2182</td>\n",
              "      <td>2016-12-31</td>\n",
              "      <td>Terminated</td>\n",
              "      <td>1</td>\n",
              "      <td>2016-04-21</td>\n",
              "      <td>Yes</td>\n",
              "      <td>2016-11-26</td>\n",
              "      <td>Yes</td>\n",
              "      <td>Voluntary Exit</td>\n",
              "      <td>2016-04-21</td>\n",
              "      <td>NaN</td>\n",
              "      <td>1996-05-15</td>\n",
              "      <td>20</td>\n",
              "      <td>0</td>\n",
              "      <td>0</td>\n",
              "      <td>2</td>\n",
              "      <td>BA/BS</td>\n",
              "      <td>&lt;25</td>\n",
              "    </tr>\n",
              "    <tr>\n",
              "      <th>302</th>\n",
              "      <td>N2183</td>\n",
              "      <td>2016-12-31</td>\n",
              "      <td>Terminated</td>\n",
              "      <td>1</td>\n",
              "      <td>2015-06-10</td>\n",
              "      <td>Yes</td>\n",
              "      <td>2016-12-05</td>\n",
              "      <td>Yes</td>\n",
              "      <td>Voluntary Exit</td>\n",
              "      <td>2015-06-10</td>\n",
              "      <td>NaN</td>\n",
              "      <td>1992-09-22</td>\n",
              "      <td>24</td>\n",
              "      <td>1</td>\n",
              "      <td>1</td>\n",
              "      <td>2</td>\n",
              "      <td>MBA</td>\n",
              "      <td>&lt;25</td>\n",
              "    </tr>\n",
              "    <tr>\n",
              "      <th>303</th>\n",
              "      <td>N2184</td>\n",
              "      <td>2016-12-31</td>\n",
              "      <td>Terminated</td>\n",
              "      <td>1</td>\n",
              "      <td>2015-04-25</td>\n",
              "      <td>Yes</td>\n",
              "      <td>2016-11-02</td>\n",
              "      <td>Yes</td>\n",
              "      <td>Voluntary Exit</td>\n",
              "      <td>2015-04-25</td>\n",
              "      <td>NaN</td>\n",
              "      <td>1993-02-09</td>\n",
              "      <td>23</td>\n",
              "      <td>1</td>\n",
              "      <td>1</td>\n",
              "      <td>2</td>\n",
              "      <td>BA/BS</td>\n",
              "      <td>&lt;25</td>\n",
              "    </tr>\n",
              "    <tr>\n",
              "      <th>304</th>\n",
              "      <td>N2185</td>\n",
              "      <td>2016-12-31</td>\n",
              "      <td>Terminated</td>\n",
              "      <td>1</td>\n",
              "      <td>2015-08-05</td>\n",
              "      <td>Yes</td>\n",
              "      <td>2016-01-19</td>\n",
              "      <td>Yes</td>\n",
              "      <td>Voluntary Exit</td>\n",
              "      <td>2015-08-05</td>\n",
              "      <td>NaN</td>\n",
              "      <td>1993-04-03</td>\n",
              "      <td>23</td>\n",
              "      <td>0</td>\n",
              "      <td>0</td>\n",
              "      <td>2</td>\n",
              "      <td>BA/BS</td>\n",
              "      <td>&lt;25</td>\n",
              "    </tr>\n",
              "  </tbody>\n",
              "</table>\n",
              "</div>"
            ],
            "text/plain": [
              "    Employee ID Data Effective Date  ... Education\\n(Highest\\nDegree)  age_cat\n",
              "300       N2181          2016-12-31  ...                        BA/BS      <25\n",
              "301       N2182          2016-12-31  ...                        BA/BS      <25\n",
              "302       N2183          2016-12-31  ...                          MBA      <25\n",
              "303       N2184          2016-12-31  ...                        BA/BS      <25\n",
              "304       N2185          2016-12-31  ...                        BA/BS      <25\n",
              "\n",
              "[5 rows x 18 columns]"
            ]
          },
          "metadata": {
            "tags": []
          },
          "execution_count": 34
        }
      ]
    },
    {
      "cell_type": "code",
      "metadata": {
        "id": "7zrsflGvRptr",
        "outputId": "a05d5343-c8db-4ebf-d73f-e68934d36ca3",
        "colab": {
          "base_uri": "https://localhost:8080/"
        }
      },
      "source": [
        "((df_term_vol_exit[\"Rating\\n(1=lowest, 5=highest)\"].value_counts()/df_term_vol_exit[\"Rating\\n(1=lowest, 5=highest)\"].value_counts().values.sum())*100)"
      ],
      "execution_count": null,
      "outputs": [
        {
          "output_type": "execute_result",
          "data": {
            "text/plain": [
              "2    56.140351\n",
              "3    43.859649\n",
              "Name: Rating\\n(1=lowest, 5=highest), dtype: float64"
            ]
          },
          "metadata": {
            "tags": []
          },
          "execution_count": 35
        }
      ]
    },
    {
      "cell_type": "code",
      "metadata": {
        "id": "NYv47UkYR2lA",
        "outputId": "4ce5936d-11df-49e1-a9ae-07efc6ab85e6",
        "colab": {
          "base_uri": "https://localhost:8080/",
          "height": 340
        }
      },
      "source": [
        "sns.barplot(((df_term_vol_exit[\"Rating\\n(1=lowest, 5=highest)\"].value_counts()/df_term_vol_exit[\"Rating\\n(1=lowest, 5=highest)\"].value_counts().values.sum())*100).index,((df_term_vol_exit[\"Rating\\n(1=lowest, 5=highest)\"].value_counts()/df_term_vol_exit[\"Rating\\n(1=lowest, 5=highest)\"].value_counts().values.sum())*100).values)\n",
        "for i,value in enumerate(((df_term_vol_exit[\"Rating\\n(1=lowest, 5=highest)\"].value_counts()/df_term_vol_exit[\"Rating\\n(1=lowest, 5=highest)\"].value_counts().values.sum())*100).index):\n",
        "    x,y=i,int(round(((df_term_vol_exit[\"Rating\\n(1=lowest, 5=highest)\"].value_counts()/df_term_vol_exit[\"Rating\\n(1=lowest, 5=highest)\"].value_counts().values.sum())*100).loc[value]))\n",
        "    plt.text(x,y,str(y)+\"%\",ha=\"center\")\n",
        "    plt.xlabel(\"Rating\")\n",
        "    plt.ylabel(\"Counts\")"
      ],
      "execution_count": null,
      "outputs": [
        {
          "output_type": "stream",
          "text": [
            "/usr/local/lib/python3.6/dist-packages/seaborn/_decorators.py:43: FutureWarning: Pass the following variables as keyword args: x, y. From version 0.12, the only valid positional argument will be `data`, and passing other arguments without an explicit keyword will result in an error or misinterpretation.\n",
            "  FutureWarning\n"
          ],
          "name": "stderr"
        },
        {
          "output_type": "display_data",
          "data": {
            "image/png": "[encoded data removed]",
            "text/plain": [
              "<Figure size 432x288 with 1 Axes>"
            ]
          },
          "metadata": {
            "tags": []
          }
        }
      ]
    },
    {
      "cell_type": "markdown",
      "metadata": {
        "id": "z6rsm2U_r_Sw"
      },
      "source": [
        "###report-2\n",
        "here in unit1, mostly low performance employees are getting voluntary retirement."
      ]
    },
    {
      "cell_type": "markdown",
      "metadata": {
        "id": "43lsEoxlUBjz"
      },
      "source": [
        "###for involuntary retired"
      ]
    },
    {
      "cell_type": "code",
      "metadata": {
        "id": "2RFnbKi7T6zb",
        "outputId": "7ec9bef7-796e-40b0-e707-2a0c86bb499c",
        "colab": {
          "base_uri": "https://localhost:8080/",
          "height": 355
        }
      },
      "source": [
        "df_term_invol_exit=df_term[df_term['''Termination Type\\n(Voluntary or Involuntary Exit)''']!=\"Voluntary Exit\"]\n",
        "df_term_invol_exit.head()"
      ],
      "execution_count": null,
      "outputs": [
        {
          "output_type": "execute_result",
          "data": {
            "text/html": [
              "<div>\n",
              "<style scoped>\n",
              "    .dataframe tbody tr th:only-of-type {\n",
              "        vertical-align: middle;\n",
              "    }\n",
              "\n",
              "    .dataframe tbody tr th {\n",
              "        vertical-align: top;\n",
              "    }\n",
              "\n",
              "    .dataframe thead th {\n",
              "        text-align: right;\n",
              "    }\n",
              "</style>\n",
              "<table border=\"1\" class=\"dataframe\">\n",
              "  <thead>\n",
              "    <tr style=\"text-align: right;\">\n",
              "      <th></th>\n",
              "      <th>Employee ID</th>\n",
              "      <th>Data Effective Date</th>\n",
              "      <th>Employee\\nStatus\\n</th>\n",
              "      <th>Career Level \\n(1=lowest, 6=highest)\\n</th>\n",
              "      <th>Hired Date</th>\n",
              "      <th>Hired in FY\\n(Yes/No)</th>\n",
              "      <th>Termination Date</th>\n",
              "      <th>Terminated\\nin FY\\n(Yes/No)</th>\n",
              "      <th>Termination Type\\n(Voluntary or Involuntary Exit)</th>\n",
              "      <th>Job Start Date</th>\n",
              "      <th>Promoted\\nin FY\\n(Yes/No)</th>\n",
              "      <th>Birth Date</th>\n",
              "      <th>Age\\n(Years)</th>\n",
              "      <th>Tenure\\n(Years)</th>\n",
              "      <th>Time in\\nJob (Years)</th>\n",
              "      <th>Rating\\n(1=lowest, 5=highest)</th>\n",
              "      <th>Education\\n(Highest\\nDegree)</th>\n",
              "      <th>age_cat</th>\n",
              "    </tr>\n",
              "  </thead>\n",
              "  <tbody>\n",
              "    <tr>\n",
              "      <th>309</th>\n",
              "      <td>N2190</td>\n",
              "      <td>2016-12-31</td>\n",
              "      <td>Terminated</td>\n",
              "      <td>1</td>\n",
              "      <td>2015-09-27</td>\n",
              "      <td>Yes</td>\n",
              "      <td>2016-03-28</td>\n",
              "      <td>Yes</td>\n",
              "      <td>Involuntary Exit</td>\n",
              "      <td>2015-09-27</td>\n",
              "      <td>NaN</td>\n",
              "      <td>1994-05-15</td>\n",
              "      <td>22</td>\n",
              "      <td>0</td>\n",
              "      <td>0</td>\n",
              "      <td>2</td>\n",
              "      <td>BA/BS</td>\n",
              "      <td>&lt;25</td>\n",
              "    </tr>\n",
              "    <tr>\n",
              "      <th>310</th>\n",
              "      <td>N2191</td>\n",
              "      <td>2016-12-31</td>\n",
              "      <td>Terminated</td>\n",
              "      <td>1</td>\n",
              "      <td>2016-01-31</td>\n",
              "      <td>Yes</td>\n",
              "      <td>2016-08-03</td>\n",
              "      <td>Yes</td>\n",
              "      <td>Involuntary Exit</td>\n",
              "      <td>2016-01-31</td>\n",
              "      <td>NaN</td>\n",
              "      <td>1994-05-19</td>\n",
              "      <td>22</td>\n",
              "      <td>0</td>\n",
              "      <td>0</td>\n",
              "      <td>1</td>\n",
              "      <td>BA/BS</td>\n",
              "      <td>&lt;25</td>\n",
              "    </tr>\n",
              "    <tr>\n",
              "      <th>311</th>\n",
              "      <td>N2192</td>\n",
              "      <td>2016-12-31</td>\n",
              "      <td>Terminated</td>\n",
              "      <td>1</td>\n",
              "      <td>2015-12-25</td>\n",
              "      <td>Yes</td>\n",
              "      <td>2016-12-24</td>\n",
              "      <td>Yes</td>\n",
              "      <td>Involuntary Exit</td>\n",
              "      <td>2015-12-25</td>\n",
              "      <td>NaN</td>\n",
              "      <td>1993-05-11</td>\n",
              "      <td>23</td>\n",
              "      <td>0</td>\n",
              "      <td>0</td>\n",
              "      <td>2</td>\n",
              "      <td>BA/BS</td>\n",
              "      <td>&lt;25</td>\n",
              "    </tr>\n",
              "    <tr>\n",
              "      <th>312</th>\n",
              "      <td>N2193</td>\n",
              "      <td>2016-12-31</td>\n",
              "      <td>Terminated</td>\n",
              "      <td>1</td>\n",
              "      <td>2016-03-16</td>\n",
              "      <td>Yes</td>\n",
              "      <td>2016-05-28</td>\n",
              "      <td>Yes</td>\n",
              "      <td>Involuntary Exit</td>\n",
              "      <td>2016-03-16</td>\n",
              "      <td>NaN</td>\n",
              "      <td>1995-04-20</td>\n",
              "      <td>21</td>\n",
              "      <td>0</td>\n",
              "      <td>0</td>\n",
              "      <td>2</td>\n",
              "      <td>BA/BS</td>\n",
              "      <td>&lt;25</td>\n",
              "    </tr>\n",
              "    <tr>\n",
              "      <th>313</th>\n",
              "      <td>N2194</td>\n",
              "      <td>2016-12-31</td>\n",
              "      <td>Terminated</td>\n",
              "      <td>1</td>\n",
              "      <td>2016-05-18</td>\n",
              "      <td>Yes</td>\n",
              "      <td>2016-07-30</td>\n",
              "      <td>Yes</td>\n",
              "      <td>Involuntary Exit</td>\n",
              "      <td>2016-05-18</td>\n",
              "      <td>NaN</td>\n",
              "      <td>1993-01-08</td>\n",
              "      <td>23</td>\n",
              "      <td>0</td>\n",
              "      <td>0</td>\n",
              "      <td>2</td>\n",
              "      <td>BA/BS</td>\n",
              "      <td>&lt;25</td>\n",
              "    </tr>\n",
              "  </tbody>\n",
              "</table>\n",
              "</div>"
            ],
            "text/plain": [
              "    Employee ID Data Effective Date  ... Education\\n(Highest\\nDegree)  age_cat\n",
              "309       N2190          2016-12-31  ...                        BA/BS      <25\n",
              "310       N2191          2016-12-31  ...                        BA/BS      <25\n",
              "311       N2192          2016-12-31  ...                        BA/BS      <25\n",
              "312       N2193          2016-12-31  ...                        BA/BS      <25\n",
              "313       N2194          2016-12-31  ...                        BA/BS      <25\n",
              "\n",
              "[5 rows x 18 columns]"
            ]
          },
          "metadata": {
            "tags": []
          },
          "execution_count": 37
        }
      ]
    },
    {
      "cell_type": "code",
      "metadata": {
        "id": "W3NOby-sUIxk",
        "outputId": "a6b4ba96-c43d-49fe-c402-1154409fa3ac",
        "colab": {
          "base_uri": "https://localhost:8080/"
        }
      },
      "source": [
        "((df_term_invol_exit[\"Rating\\n(1=lowest, 5=highest)\"].value_counts()/df_term_invol_exit[\"Rating\\n(1=lowest, 5=highest)\"].value_counts().values.sum())*100)"
      ],
      "execution_count": null,
      "outputs": [
        {
          "output_type": "execute_result",
          "data": {
            "text/plain": [
              "2    94.805195\n",
              "1     5.194805\n",
              "Name: Rating\\n(1=lowest, 5=highest), dtype: float64"
            ]
          },
          "metadata": {
            "tags": []
          },
          "execution_count": 38
        }
      ]
    },
    {
      "cell_type": "code",
      "metadata": {
        "id": "mH213YO1XziT",
        "outputId": "44038419-ab21-41a9-dc34-d6152f74b6fc",
        "colab": {
          "base_uri": "https://localhost:8080/"
        }
      },
      "source": [
        "((df_term_invol_exit[\"Rating\\n(1=lowest, 5=highest)\"].value_counts()/df_term_invol_exit[\"Rating\\n(1=lowest, 5=highest)\"].value_counts().values.sum())*100).values[::-1]"
      ],
      "execution_count": null,
      "outputs": [
        {
          "output_type": "execute_result",
          "data": {
            "text/plain": [
              "array([ 5.19480519, 94.80519481])"
            ]
          },
          "metadata": {
            "tags": []
          },
          "execution_count": 39
        }
      ]
    },
    {
      "cell_type": "code",
      "metadata": {
        "id": "T31eCcTCUTN2",
        "outputId": "67a36996-6e24-4b3b-a3cf-a2185edd44d3",
        "colab": {
          "base_uri": "https://localhost:8080/",
          "height": 340
        }
      },
      "source": [
        "sns.barplot(((df_term_invol_exit[\"Rating\\n(1=lowest, 5=highest)\"].value_counts()/df_term_invol_exit[\"Rating\\n(1=lowest, 5=highest)\"].value_counts().values.sum())*100).index,((df_term_invol_exit[\"Rating\\n(1=lowest, 5=highest)\"].value_counts()/df_term_invol_exit[\"Rating\\n(1=lowest, 5=highest)\"].value_counts().values.sum())*100).values[::-1])\n",
        "for i,value in enumerate(((df_term_invol_exit[\"Rating\\n(1=lowest, 5=highest)\"].value_counts()/df_term_invol_exit[\"Rating\\n(1=lowest, 5=highest)\"].value_counts().values.sum())*100).index):\n",
        "    x,y=i,int(round(((df_term_invol_exit[\"Rating\\n(1=lowest, 5=highest)\"].value_counts()/df_term_invol_exit[\"Rating\\n(1=lowest, 5=highest)\"].value_counts().values.sum())*100).loc[value]))\n",
        "    plt.text(x,y,str(y)+\"%\",ha=\"center\")\n",
        "    plt.xlabel(\"Rating\")\n",
        "    plt.ylabel(\"Counts\")"
      ],
      "execution_count": null,
      "outputs": [
        {
          "output_type": "stream",
          "text": [
            "/usr/local/lib/python3.6/dist-packages/seaborn/_decorators.py:43: FutureWarning: Pass the following variables as keyword args: x, y. From version 0.12, the only valid positional argument will be `data`, and passing other arguments without an explicit keyword will result in an error or misinterpretation.\n",
            "  FutureWarning\n"
          ],
          "name": "stderr"
        },
        {
          "output_type": "display_data",
          "data": {
            "image/png": "[encoded data removed]",
            "text/plain": [
              "<Figure size 432x288 with 1 Axes>"
            ]
          },
          "metadata": {
            "tags": []
          }
        }
      ]
    },
    {
      "cell_type": "markdown",
      "metadata": {
        "id": "iPJBSOwDqrJe"
      },
      "source": [
        "###report-3 \n",
        "here in unit2, mostly low performance employees are getting Involuntary retirement.\n",
        "\n",
        "That means they are terminating on the basis of performance and that is good."
      ]
    },
    {
      "cell_type": "markdown",
      "metadata": {
        "id": "u2TC_vyDuTan"
      },
      "source": [
        "##4- career level termination"
      ]
    },
    {
      "cell_type": "code",
      "metadata": {
        "id": "sdcv6IwwUX0p",
        "outputId": "d702bd9d-a3a4-43ed-df8b-a87d00ab49f1",
        "colab": {
          "base_uri": "https://localhost:8080/"
        }
      },
      "source": [
        "df_term[\"Career Level \\n(1=lowest, 6=highest)\\n\"].value_counts()"
      ],
      "execution_count": null,
      "outputs": [
        {
          "output_type": "execute_result",
          "data": {
            "text/plain": [
              "4    200\n",
              "2    158\n",
              "3    150\n",
              "5     50\n",
              "1     45\n",
              "6     10\n",
              "Name: Career Level \\n(1=lowest, 6=highest)\\n, dtype: int64"
            ]
          },
          "metadata": {
            "tags": []
          },
          "execution_count": 41
        }
      ]
    },
    {
      "cell_type": "code",
      "metadata": {
        "id": "3jH0MhfXwX6c",
        "outputId": "3898da62-739b-49e9-9bb4-910d6a25bd11",
        "colab": {
          "base_uri": "https://localhost:8080/"
        }
      },
      "source": [
        "(df_term[\"Career Level \\n(1=lowest, 6=highest)\\n\"].value_counts()/df_term[\"Career Level \\n(1=lowest, 6=highest)\\n\"].value_counts().values.sum())*100"
      ],
      "execution_count": null,
      "outputs": [
        {
          "output_type": "execute_result",
          "data": {
            "text/plain": [
              "4    32.626427\n",
              "2    25.774878\n",
              "3    24.469821\n",
              "5     8.156607\n",
              "1     7.340946\n",
              "6     1.631321\n",
              "Name: Career Level \\n(1=lowest, 6=highest)\\n, dtype: float64"
            ]
          },
          "metadata": {
            "tags": []
          },
          "execution_count": 42
        }
      ]
    },
    {
      "cell_type": "code",
      "metadata": {
        "id": "c97NjfPrud9F"
      },
      "source": [
        "df_term_carrlevel=pd.DataFrame({\"pct\":(df_term[\"Career Level \\n(1=lowest, 6=highest)\\n\"].value_counts()/df_term[\"Career Level \\n(1=lowest, 6=highest)\\n\"].value_counts().values.sum())*100})"
      ],
      "execution_count": null,
      "outputs": []
    },
    {
      "cell_type": "code",
      "metadata": {
        "id": "_41XSqRowjYa",
        "outputId": "a5f73859-a980-4b0b-f940-e6673a9c549a",
        "colab": {
          "base_uri": "https://localhost:8080/",
          "height": 230
        }
      },
      "source": [
        "df_term_carrlevel=df_term_carrlevel.sort_index()\n",
        "df_term_carrlevel"
      ],
      "execution_count": null,
      "outputs": [
        {
          "output_type": "execute_result",
          "data": {
            "text/html": [
              "<div>\n",
              "<style scoped>\n",
              "    .dataframe tbody tr th:only-of-type {\n",
              "        vertical-align: middle;\n",
              "    }\n",
              "\n",
              "    .dataframe tbody tr th {\n",
              "        vertical-align: top;\n",
              "    }\n",
              "\n",
              "    .dataframe thead th {\n",
              "        text-align: right;\n",
              "    }\n",
              "</style>\n",
              "<table border=\"1\" class=\"dataframe\">\n",
              "  <thead>\n",
              "    <tr style=\"text-align: right;\">\n",
              "      <th></th>\n",
              "      <th>pct</th>\n",
              "    </tr>\n",
              "  </thead>\n",
              "  <tbody>\n",
              "    <tr>\n",
              "      <th>1</th>\n",
              "      <td>7.340946</td>\n",
              "    </tr>\n",
              "    <tr>\n",
              "      <th>2</th>\n",
              "      <td>25.774878</td>\n",
              "    </tr>\n",
              "    <tr>\n",
              "      <th>3</th>\n",
              "      <td>24.469821</td>\n",
              "    </tr>\n",
              "    <tr>\n",
              "      <th>4</th>\n",
              "      <td>32.626427</td>\n",
              "    </tr>\n",
              "    <tr>\n",
              "      <th>5</th>\n",
              "      <td>8.156607</td>\n",
              "    </tr>\n",
              "    <tr>\n",
              "      <th>6</th>\n",
              "      <td>1.631321</td>\n",
              "    </tr>\n",
              "  </tbody>\n",
              "</table>\n",
              "</div>"
            ],
            "text/plain": [
              "         pct\n",
              "1   7.340946\n",
              "2  25.774878\n",
              "3  24.469821\n",
              "4  32.626427\n",
              "5   8.156607\n",
              "6   1.631321"
            ]
          },
          "metadata": {
            "tags": []
          },
          "execution_count": 44
        }
      ]
    },
    {
      "cell_type": "code",
      "metadata": {
        "id": "vWiPHF5lwnuW",
        "outputId": "b36e0b41-cbee-42f2-a934-61e1d73f0a26",
        "colab": {
          "base_uri": "https://localhost:8080/",
          "height": 411
        }
      },
      "source": [
        "fig=plt.gcf()\n",
        "fig.set_size_inches(8,5)\n",
        "sns.barplot(df_term_carrlevel.index,df_term_carrlevel[\"pct\"])\n",
        "for i,value in enumerate(df_term_carrlevel.index):\n",
        "    x=i\n",
        "    y=int(round(df_term_carrlevel.loc[value]))\n",
        "    plt.text(x,y,str(y)+\"%\",ha=\"center\")\n",
        "plt.xlabel(\"Career Level\")\n",
        "plt.ylabel(\"Counts\")"
      ],
      "execution_count": null,
      "outputs": [
        {
          "output_type": "stream",
          "text": [
            "/usr/local/lib/python3.6/dist-packages/seaborn/_decorators.py:43: FutureWarning: Pass the following variables as keyword args: x, y. From version 0.12, the only valid positional argument will be `data`, and passing other arguments without an explicit keyword will result in an error or misinterpretation.\n",
            "  FutureWarning\n"
          ],
          "name": "stderr"
        },
        {
          "output_type": "execute_result",
          "data": {
            "text/plain": [
              "Text(0, 0.5, 'Counts')"
            ]
          },
          "metadata": {
            "tags": []
          },
          "execution_count": 45
        },
        {
          "output_type": "display_data",
          "data": {
            "image/png": "[encoded data removed]",
            "text/plain": [
              "<Figure size 576x360 with 1 Axes>"
            ]
          },
          "metadata": {
            "tags": []
          }
        }
      ]
    },
    {
      "cell_type": "markdown",
      "metadata": {
        "id": "dsLq2E_zy66P"
      },
      "source": [
        "###report-4 \n",
        "here in unit2 company is terminating mostly the low performance employees......as they are not biased to the senior levels....even senior level employees coming in the (4<career level<6) are getting the termination"
      ]
    },
    {
      "cell_type": "markdown",
      "metadata": {
        "id": "X--JJI8xP6Ot"
      },
      "source": [
        "#active employees"
      ]
    },
    {
      "cell_type": "code",
      "metadata": {
        "id": "tmHjTHZUxXpV",
        "outputId": "8c3b2aad-4879-4176-938d-b9d2468bc201",
        "colab": {
          "base_uri": "https://localhost:8080/",
          "height": 355
        }
      },
      "source": [
        "df_active=df[(df[\"Termination Date\"].isnull())]\n",
        "df_active.head()"
      ],
      "execution_count": null,
      "outputs": [
        {
          "output_type": "execute_result",
          "data": {
            "text/html": [
              "<div>\n",
              "<style scoped>\n",
              "    .dataframe tbody tr th:only-of-type {\n",
              "        vertical-align: middle;\n",
              "    }\n",
              "\n",
              "    .dataframe tbody tr th {\n",
              "        vertical-align: top;\n",
              "    }\n",
              "\n",
              "    .dataframe thead th {\n",
              "        text-align: right;\n",
              "    }\n",
              "</style>\n",
              "<table border=\"1\" class=\"dataframe\">\n",
              "  <thead>\n",
              "    <tr style=\"text-align: right;\">\n",
              "      <th></th>\n",
              "      <th>Employee ID</th>\n",
              "      <th>Data Effective Date</th>\n",
              "      <th>Employee\\nStatus\\n</th>\n",
              "      <th>Career Level \\n(1=lowest, 6=highest)\\n</th>\n",
              "      <th>Hired Date</th>\n",
              "      <th>Hired in FY\\n(Yes/No)</th>\n",
              "      <th>Termination Date</th>\n",
              "      <th>Terminated\\nin FY\\n(Yes/No)</th>\n",
              "      <th>Termination Type\\n(Voluntary or Involuntary Exit)</th>\n",
              "      <th>Job Start Date</th>\n",
              "      <th>Promoted\\nin FY\\n(Yes/No)</th>\n",
              "      <th>Birth Date</th>\n",
              "      <th>Age\\n(Years)</th>\n",
              "      <th>Tenure\\n(Years)</th>\n",
              "      <th>Time in\\nJob (Years)</th>\n",
              "      <th>Rating\\n(1=lowest, 5=highest)</th>\n",
              "      <th>Education\\n(Highest\\nDegree)</th>\n",
              "      <th>age_cat</th>\n",
              "    </tr>\n",
              "  </thead>\n",
              "  <tbody>\n",
              "    <tr>\n",
              "      <th>0</th>\n",
              "      <td>N0001</td>\n",
              "      <td>2016-12-31</td>\n",
              "      <td>Active</td>\n",
              "      <td>1</td>\n",
              "      <td>2016-04-19</td>\n",
              "      <td>Yes</td>\n",
              "      <td>NaT</td>\n",
              "      <td>No</td>\n",
              "      <td>NaN</td>\n",
              "      <td>2016-04-19</td>\n",
              "      <td>NaN</td>\n",
              "      <td>1995-01-09</td>\n",
              "      <td>21</td>\n",
              "      <td>NaN</td>\n",
              "      <td>NaN</td>\n",
              "      <td>3</td>\n",
              "      <td>MA/MS</td>\n",
              "      <td>&lt;25</td>\n",
              "    </tr>\n",
              "    <tr>\n",
              "      <th>1</th>\n",
              "      <td>N0002</td>\n",
              "      <td>2016-12-31</td>\n",
              "      <td>Active</td>\n",
              "      <td>1</td>\n",
              "      <td>2016-10-19</td>\n",
              "      <td>Yes</td>\n",
              "      <td>NaT</td>\n",
              "      <td>No</td>\n",
              "      <td>NaN</td>\n",
              "      <td>2016-10-19</td>\n",
              "      <td>NaN</td>\n",
              "      <td>1994-09-13</td>\n",
              "      <td>22</td>\n",
              "      <td>NaN</td>\n",
              "      <td>NaN</td>\n",
              "      <td>4</td>\n",
              "      <td>MA/MS</td>\n",
              "      <td>&lt;25</td>\n",
              "    </tr>\n",
              "    <tr>\n",
              "      <th>2</th>\n",
              "      <td>N0003</td>\n",
              "      <td>2016-12-31</td>\n",
              "      <td>Active</td>\n",
              "      <td>1</td>\n",
              "      <td>2016-05-26</td>\n",
              "      <td>Yes</td>\n",
              "      <td>NaT</td>\n",
              "      <td>No</td>\n",
              "      <td>NaN</td>\n",
              "      <td>2016-05-26</td>\n",
              "      <td>NaN</td>\n",
              "      <td>1996-04-19</td>\n",
              "      <td>20</td>\n",
              "      <td>NaN</td>\n",
              "      <td>NaN</td>\n",
              "      <td>3</td>\n",
              "      <td>BA/BS</td>\n",
              "      <td>&lt;25</td>\n",
              "    </tr>\n",
              "    <tr>\n",
              "      <th>3</th>\n",
              "      <td>N0004</td>\n",
              "      <td>2016-12-31</td>\n",
              "      <td>Active</td>\n",
              "      <td>1</td>\n",
              "      <td>2016-10-19</td>\n",
              "      <td>Yes</td>\n",
              "      <td>NaT</td>\n",
              "      <td>No</td>\n",
              "      <td>NaN</td>\n",
              "      <td>2016-10-19</td>\n",
              "      <td>NaN</td>\n",
              "      <td>1994-01-21</td>\n",
              "      <td>22</td>\n",
              "      <td>NaN</td>\n",
              "      <td>NaN</td>\n",
              "      <td>3</td>\n",
              "      <td>BA/BS</td>\n",
              "      <td>&lt;25</td>\n",
              "    </tr>\n",
              "    <tr>\n",
              "      <th>4</th>\n",
              "      <td>N0005</td>\n",
              "      <td>2016-12-31</td>\n",
              "      <td>Active</td>\n",
              "      <td>1</td>\n",
              "      <td>2016-06-02</td>\n",
              "      <td>Yes</td>\n",
              "      <td>NaT</td>\n",
              "      <td>No</td>\n",
              "      <td>NaN</td>\n",
              "      <td>2016-06-02</td>\n",
              "      <td>NaN</td>\n",
              "      <td>1993-05-18</td>\n",
              "      <td>23</td>\n",
              "      <td>NaN</td>\n",
              "      <td>NaN</td>\n",
              "      <td>3</td>\n",
              "      <td>BA/BS</td>\n",
              "      <td>&lt;25</td>\n",
              "    </tr>\n",
              "  </tbody>\n",
              "</table>\n",
              "</div>"
            ],
            "text/plain": [
              "  Employee ID Data Effective Date  ... Education\\n(Highest\\nDegree)  age_cat\n",
              "0       N0001          2016-12-31  ...                        MA/MS      <25\n",
              "1       N0002          2016-12-31  ...                        MA/MS      <25\n",
              "2       N0003          2016-12-31  ...                        BA/BS      <25\n",
              "3       N0004          2016-12-31  ...                        BA/BS      <25\n",
              "4       N0005          2016-12-31  ...                        BA/BS      <25\n",
              "\n",
              "[5 rows x 18 columns]"
            ]
          },
          "metadata": {
            "tags": []
          },
          "execution_count": 46
        }
      ]
    },
    {
      "cell_type": "code",
      "metadata": {
        "id": "mUw29-g6QAhe",
        "outputId": "1512b70f-9b5b-4d5e-8c3a-d21bc3bbfdad",
        "colab": {
          "base_uri": "https://localhost:8080/"
        }
      },
      "source": [
        "len(df_active)"
      ],
      "execution_count": null,
      "outputs": [
        {
          "output_type": "execute_result",
          "data": {
            "text/plain": [
              "2180"
            ]
          },
          "metadata": {
            "tags": []
          },
          "execution_count": 47
        }
      ]
    },
    {
      "cell_type": "code",
      "metadata": {
        "id": "xTbjYj5MQibG",
        "outputId": "c8d7b2fe-8926-4c72-f133-731ca651490a",
        "colab": {
          "base_uri": "https://localhost:8080/"
        }
      },
      "source": [
        "df_active[\"Rating\\n(1=lowest, 5=highest)\"].value_counts()"
      ],
      "execution_count": null,
      "outputs": [
        {
          "output_type": "execute_result",
          "data": {
            "text/plain": [
              "4    893\n",
              "5    647\n",
              "3    640\n",
              "Name: Rating\\n(1=lowest, 5=highest), dtype: int64"
            ]
          },
          "metadata": {
            "tags": []
          },
          "execution_count": 48
        }
      ]
    },
    {
      "cell_type": "code",
      "metadata": {
        "id": "PQeFfLedQu5l",
        "outputId": "1874ce3e-e30f-42ea-c4e9-a3c023ec5018",
        "colab": {
          "base_uri": "https://localhost:8080/",
          "height": 139
        }
      },
      "source": [
        "df_active_rating=pd.DataFrame({\"pct\":(df_active[\"Rating\\n(1=lowest, 5=highest)\"].value_counts()/df_active[\"Rating\\n(1=lowest, 5=highest)\"].value_counts().values.sum())*100})\n",
        "df_active_rating"
      ],
      "execution_count": null,
      "outputs": [
        {
          "output_type": "execute_result",
          "data": {
            "text/html": [
              "<div>\n",
              "<style scoped>\n",
              "    .dataframe tbody tr th:only-of-type {\n",
              "        vertical-align: middle;\n",
              "    }\n",
              "\n",
              "    .dataframe tbody tr th {\n",
              "        vertical-align: top;\n",
              "    }\n",
              "\n",
              "    .dataframe thead th {\n",
              "        text-align: right;\n",
              "    }\n",
              "</style>\n",
              "<table border=\"1\" class=\"dataframe\">\n",
              "  <thead>\n",
              "    <tr style=\"text-align: right;\">\n",
              "      <th></th>\n",
              "      <th>pct</th>\n",
              "    </tr>\n",
              "  </thead>\n",
              "  <tbody>\n",
              "    <tr>\n",
              "      <th>4</th>\n",
              "      <td>40.963303</td>\n",
              "    </tr>\n",
              "    <tr>\n",
              "      <th>5</th>\n",
              "      <td>29.678899</td>\n",
              "    </tr>\n",
              "    <tr>\n",
              "      <th>3</th>\n",
              "      <td>29.357798</td>\n",
              "    </tr>\n",
              "  </tbody>\n",
              "</table>\n",
              "</div>"
            ],
            "text/plain": [
              "         pct\n",
              "4  40.963303\n",
              "5  29.678899\n",
              "3  29.357798"
            ]
          },
          "metadata": {
            "tags": []
          },
          "execution_count": 49
        }
      ]
    },
    {
      "cell_type": "code",
      "metadata": {
        "id": "TMPgV4AIR86P",
        "outputId": "d4107e4c-f6c9-4ee8-9b20-5bb7dda1912b",
        "colab": {
          "base_uri": "https://localhost:8080/",
          "height": 139
        }
      },
      "source": [
        "df_active_rating=df_active_rating.sort_index()\n",
        "df_active_rating"
      ],
      "execution_count": null,
      "outputs": [
        {
          "output_type": "execute_result",
          "data": {
            "text/html": [
              "<div>\n",
              "<style scoped>\n",
              "    .dataframe tbody tr th:only-of-type {\n",
              "        vertical-align: middle;\n",
              "    }\n",
              "\n",
              "    .dataframe tbody tr th {\n",
              "        vertical-align: top;\n",
              "    }\n",
              "\n",
              "    .dataframe thead th {\n",
              "        text-align: right;\n",
              "    }\n",
              "</style>\n",
              "<table border=\"1\" class=\"dataframe\">\n",
              "  <thead>\n",
              "    <tr style=\"text-align: right;\">\n",
              "      <th></th>\n",
              "      <th>pct</th>\n",
              "    </tr>\n",
              "  </thead>\n",
              "  <tbody>\n",
              "    <tr>\n",
              "      <th>3</th>\n",
              "      <td>29.357798</td>\n",
              "    </tr>\n",
              "    <tr>\n",
              "      <th>4</th>\n",
              "      <td>40.963303</td>\n",
              "    </tr>\n",
              "    <tr>\n",
              "      <th>5</th>\n",
              "      <td>29.678899</td>\n",
              "    </tr>\n",
              "  </tbody>\n",
              "</table>\n",
              "</div>"
            ],
            "text/plain": [
              "         pct\n",
              "3  29.357798\n",
              "4  40.963303\n",
              "5  29.678899"
            ]
          },
          "metadata": {
            "tags": []
          },
          "execution_count": 50
        }
      ]
    },
    {
      "cell_type": "code",
      "metadata": {
        "id": "nY0L8w1rRUIE",
        "outputId": "635b05dc-7f7d-4810-8b8c-b59ba0f8df29",
        "colab": {
          "base_uri": "https://localhost:8080/",
          "height": 340
        }
      },
      "source": [
        "sns.barplot(df_active_rating.index,df_active_rating[\"pct\"])\n",
        "for i,value in enumerate(df_active_rating.index):\n",
        "    x,y=i,int(round(df_active_rating.loc[value]))\n",
        "    plt.text(x,y,str(y)+\"%\",ha=\"center\")\n",
        "    plt.xlabel(\"Rating\")\n",
        "    plt.ylabel(\"Counts\")"
      ],
      "execution_count": null,
      "outputs": [
        {
          "output_type": "stream",
          "text": [
            "/usr/local/lib/python3.6/dist-packages/seaborn/_decorators.py:43: FutureWarning: Pass the following variables as keyword args: x, y. From version 0.12, the only valid positional argument will be `data`, and passing other arguments without an explicit keyword will result in an error or misinterpretation.\n",
            "  FutureWarning\n"
          ],
          "name": "stderr"
        },
        {
          "output_type": "display_data",
          "data": {
            "image/png": "[encoded data removed]",
            "text/plain": [
              "<Figure size 432x288 with 1 Axes>"
            ]
          },
          "metadata": {
            "tags": []
          }
        }
      ]
    },
    {
      "cell_type": "markdown",
      "metadata": {
        "id": "mBy7Yu9mTCRl"
      },
      "source": [
        "###report-5\n",
        "here in unit2 there are only good performers."
      ]
    },
    {
      "cell_type": "code",
      "metadata": {
        "id": "f3nhm15GSxYK",
        "outputId": "baf0f02d-14d9-459e-8212-2f10909616dd",
        "colab": {
          "base_uri": "https://localhost:8080/"
        }
      },
      "source": [
        "df_active_edu_career=df_active.groupby([\"Education\\n(Highest\\nDegree)\",\"Career Level \\n(1=lowest, 6=highest)\\n\"])[\"Career Level \\n(1=lowest, 6=highest)\\n\"].agg(\"count\")\n",
        "df_active_edu_career"
      ],
      "execution_count": null,
      "outputs": [
        {
          "output_type": "execute_result",
          "data": {
            "text/plain": [
              "Education\\n(Highest\\nDegree)  Career Level \\n(1=lowest, 6=highest)\\n\n",
              "BA/BS                         1                                         275\n",
              "                              2                                         311\n",
              "                              3                                         143\n",
              "                              4                                         121\n",
              "                              5                                          86\n",
              "                              6                                          30\n",
              "JD                            3                                          22\n",
              "                              4                                          14\n",
              "                              5                                          12\n",
              "                              6                                           2\n",
              "MA/MS                         1                                          19\n",
              "                              2                                         152\n",
              "                              3                                         147\n",
              "                              4                                         122\n",
              "                              5                                          55\n",
              "                              6                                          28\n",
              "MBA                           1                                           6\n",
              "                              2                                         167\n",
              "                              3                                         161\n",
              "                              4                                         124\n",
              "                              5                                          64\n",
              "                              6                                          15\n",
              "PhD                           3                                          27\n",
              "                              4                                          19\n",
              "                              5                                          33\n",
              "                              6                                          25\n",
              "Name: Career Level \\n(1=lowest, 6=highest)\\n, dtype: int64"
            ]
          },
          "metadata": {
            "tags": []
          },
          "execution_count": 52
        }
      ]
    },
    {
      "cell_type": "code",
      "metadata": {
        "id": "5PFduodOlYsK",
        "outputId": "b017c773-026d-4da9-aa51-077ddd761f24",
        "colab": {
          "base_uri": "https://localhost:8080/"
        }
      },
      "source": [
        "df_active_edu_career.index"
      ],
      "execution_count": null,
      "outputs": [
        {
          "output_type": "execute_result",
          "data": {
            "text/plain": [
              "MultiIndex([('BA/BS', 1),\n",
              "            ('BA/BS', 2),\n",
              "            ('BA/BS', 3),\n",
              "            ('BA/BS', 4),\n",
              "            ('BA/BS', 5),\n",
              "            ('BA/BS', 6),\n",
              "            (   'JD', 3),\n",
              "            (   'JD', 4),\n",
              "            (   'JD', 5),\n",
              "            (   'JD', 6),\n",
              "            ('MA/MS', 1),\n",
              "            ('MA/MS', 2),\n",
              "            ('MA/MS', 3),\n",
              "            ('MA/MS', 4),\n",
              "            ('MA/MS', 5),\n",
              "            ('MA/MS', 6),\n",
              "            (  'MBA', 1),\n",
              "            (  'MBA', 2),\n",
              "            (  'MBA', 3),\n",
              "            (  'MBA', 4),\n",
              "            (  'MBA', 5),\n",
              "            (  'MBA', 6),\n",
              "            (  'PhD', 3),\n",
              "            (  'PhD', 4),\n",
              "            (  'PhD', 5),\n",
              "            (  'PhD', 6)],\n",
              "           names=['Education\\n(Highest\\nDegree)', 'Career Level \\n(1=lowest, 6=highest)\\n'])"
            ]
          },
          "metadata": {
            "tags": []
          },
          "execution_count": 53
        }
      ]
    },
    {
      "cell_type": "code",
      "metadata": {
        "id": "H-hlr6HElcPc",
        "outputId": "299b88af-d67c-4c9e-ee26-7902b5f8a95c",
        "colab": {
          "base_uri": "https://localhost:8080/"
        }
      },
      "source": [
        "s1,s2,s3,s4,s5=0,0,0,0,0\n",
        "for i in df_active_edu_career.index:\n",
        "    if (i[0]=='BA/BS' and i[1]>=4):\n",
        "        s1+=df_active_edu_career.loc[i]\n",
        "\n",
        "    elif (i[0]=='JD' and i[1]>=4):\n",
        "        s2+=df_active_edu_career.loc[i]\n",
        "\n",
        "    elif (i[0]=='MA/MS' and i[1]>=4):\n",
        "        s3+=df_active_edu_career.loc[i]\n",
        "\n",
        "    elif (i[0]=='MBA' and i[1]>=4):\n",
        "        s4+=df_active_edu_career.loc[i]\n",
        "\n",
        "    elif (i[0]=='PhD' and i[1]>=4):\n",
        "        s5+=df_active_edu_career.loc[i]\n",
        "\n",
        "print(f\"BA/BS : {int(round((s1/(s1+s2+s3+s4))*100))}\\nJD : {int(round((s2/(s1+s2+s3+s4))*100))}\\nMA/MS : {int(round((s3/(s1+s2+s3+s4))*100))}\\nMBA : {int(round((s4/(s1+s2+s3+s4))*100))}\\nPhD : {int(round((s5/(s1+s2+s3+s4))*100))}\")"
      ],
      "execution_count": null,
      "outputs": [
        {
          "output_type": "stream",
          "text": [
            "BA/BS : 35\n",
            "JD : 4\n",
            "MA/MS : 30\n",
            "MBA : 30\n",
            "PhD : 11\n"
          ],
          "name": "stdout"
        }
      ]
    },
    {
      "cell_type": "code",
      "metadata": {
        "id": "bSESLDGnlhvF",
        "outputId": "75e88f0c-137e-4f31-d205-6bd254a8f1bf",
        "colab": {
          "base_uri": "https://localhost:8080/",
          "height": 199
        }
      },
      "source": [
        "df_active_edu_career_dataframe=pd.DataFrame({\"counts\":[int(round((s1/(s1+s2+s3+s4))*100)),int(round((s2/(s1+s2+s3+s4))*100)),int(round((s3/(s1+s2+s3+s4))*100)),int(round((s4/(s1+s2+s3+s4))*100)),int(round((s5/(s1+s2+s3+s4))*100))]},index=[\"BA/BS\",\"JD\",\"MA/MS\",\"MBA\",\"PhD\"])\n",
        "df_active_edu_career_dataframe"
      ],
      "execution_count": null,
      "outputs": [
        {
          "output_type": "execute_result",
          "data": {
            "text/html": [
              "<div>\n",
              "<style scoped>\n",
              "    .dataframe tbody tr th:only-of-type {\n",
              "        vertical-align: middle;\n",
              "    }\n",
              "\n",
              "    .dataframe tbody tr th {\n",
              "        vertical-align: top;\n",
              "    }\n",
              "\n",
              "    .dataframe thead th {\n",
              "        text-align: right;\n",
              "    }\n",
              "</style>\n",
              "<table border=\"1\" class=\"dataframe\">\n",
              "  <thead>\n",
              "    <tr style=\"text-align: right;\">\n",
              "      <th></th>\n",
              "      <th>counts</th>\n",
              "    </tr>\n",
              "  </thead>\n",
              "  <tbody>\n",
              "    <tr>\n",
              "      <th>BA/BS</th>\n",
              "      <td>35</td>\n",
              "    </tr>\n",
              "    <tr>\n",
              "      <th>JD</th>\n",
              "      <td>4</td>\n",
              "    </tr>\n",
              "    <tr>\n",
              "      <th>MA/MS</th>\n",
              "      <td>30</td>\n",
              "    </tr>\n",
              "    <tr>\n",
              "      <th>MBA</th>\n",
              "      <td>30</td>\n",
              "    </tr>\n",
              "    <tr>\n",
              "      <th>PhD</th>\n",
              "      <td>11</td>\n",
              "    </tr>\n",
              "  </tbody>\n",
              "</table>\n",
              "</div>"
            ],
            "text/plain": [
              "       counts\n",
              "BA/BS      35\n",
              "JD          4\n",
              "MA/MS      30\n",
              "MBA        30\n",
              "PhD        11"
            ]
          },
          "metadata": {
            "tags": []
          },
          "execution_count": 55
        }
      ]
    },
    {
      "cell_type": "code",
      "metadata": {
        "id": "RsPAm86WqFKX",
        "outputId": "50915e49-11c6-4047-ef83-166a3df1cacc",
        "colab": {
          "base_uri": "https://localhost:8080/",
          "height": 411
        }
      },
      "source": [
        "fig=plt.gcf()\n",
        "fig.set_size_inches(8,5)\n",
        "sns.barplot(df_active_edu_career_dataframe.index,df_active_edu_career_dataframe[\"counts\"])\n",
        "for i,value in enumerate(df_active_edu_career_dataframe.index):\n",
        "    x=i\n",
        "    y=int(round(df_active_edu_career_dataframe.loc[value]))\n",
        "    plt.text(x,y,str(y)+\"%\",ha=\"center\")\n",
        "plt.xlabel(\"Education_Degree\")\n",
        "plt.ylabel(\"Counts\")"
      ],
      "execution_count": null,
      "outputs": [
        {
          "output_type": "stream",
          "text": [
            "/usr/local/lib/python3.6/dist-packages/seaborn/_decorators.py:43: FutureWarning: Pass the following variables as keyword args: x, y. From version 0.12, the only valid positional argument will be `data`, and passing other arguments without an explicit keyword will result in an error or misinterpretation.\n",
            "  FutureWarning\n"
          ],
          "name": "stderr"
        },
        {
          "output_type": "execute_result",
          "data": {
            "text/plain": [
              "Text(0, 0.5, 'Counts')"
            ]
          },
          "metadata": {
            "tags": []
          },
          "execution_count": 56
        },
        {
          "output_type": "display_data",
          "data": {
            "image/png": "[encoded data removed]",
            "text/plain": [
              "<Figure size 576x360 with 1 Axes>"
            ]
          },
          "metadata": {
            "tags": []
          }
        }
      ]
    },
    {
      "cell_type": "markdown",
      "metadata": {
        "id": "mbvHa37iqzSY"
      },
      "source": [
        "###report-6\n",
        "here in unit-2, the employees at senior levels are mostly highly educated as compared to unit1."
      ]
    },
    {
      "cell_type": "markdown",
      "metadata": {
        "id": "8yND1nJRr5lq"
      },
      "source": [
        "##calculating tenure and job time"
      ]
    },
    {
      "cell_type": "code",
      "metadata": {
        "id": "fw-LIR-HqGom",
        "outputId": "900ef45e-acb0-4789-f6c0-82ac5b5b759c",
        "colab": {
          "base_uri": "https://localhost:8080/"
        }
      },
      "source": [
        "(df_active[\"Data Effective Date\"]-df_active[\"Hired Date\"])/np.timedelta64(1,\"Y\")"
      ],
      "execution_count": null,
      "outputs": [
        {
          "output_type": "execute_result",
          "data": {
            "text/plain": [
              "0        0.700904\n",
              "1        0.199867\n",
              "2        0.599602\n",
              "3        0.199867\n",
              "4        0.580436\n",
              "          ...    \n",
              "2718    24.799962\n",
              "2719    29.583085\n",
              "2720    18.100303\n",
              "2721    26.201770\n",
              "2722    21.582921\n",
              "Length: 2180, dtype: float64"
            ]
          },
          "metadata": {
            "tags": []
          },
          "execution_count": 57
        }
      ]
    },
    {
      "cell_type": "code",
      "metadata": {
        "id": "-s9Vf-K8r__F",
        "outputId": "7f2ddc4b-711e-4793-a383-a6b659be7e04",
        "colab": {
          "base_uri": "https://localhost:8080/",
          "height": 460
        }
      },
      "source": [
        "df_active[\"Tenure\\n(Years)\"]=(pd.Series((df_active[\"Data Effective Date\"]-df_active[\"Hired Date\"])/np.timedelta64(1,\"Y\"))).astype(int)\n",
        "df_active.tail()"
      ],
      "execution_count": null,
      "outputs": [
        {
          "output_type": "stream",
          "text": [
            "/usr/local/lib/python3.6/dist-packages/ipykernel_launcher.py:1: SettingWithCopyWarning: \n",
            "A value is trying to be set on a copy of a slice from a DataFrame.\n",
            "Try using .loc[row_indexer,col_indexer] = value instead\n",
            "\n",
            "See the caveats in the documentation: https://pandas.pydata.org/pandas-docs/stable/user_guide/indexing.html#returning-a-view-versus-a-copy\n",
            "  \"\"\"Entry point for launching an IPython kernel.\n"
          ],
          "name": "stderr"
        },
        {
          "output_type": "execute_result",
          "data": {
            "text/html": [
              "<div>\n",
              "<style scoped>\n",
              "    .dataframe tbody tr th:only-of-type {\n",
              "        vertical-align: middle;\n",
              "    }\n",
              "\n",
              "    .dataframe tbody tr th {\n",
              "        vertical-align: top;\n",
              "    }\n",
              "\n",
              "    .dataframe thead th {\n",
              "        text-align: right;\n",
              "    }\n",
              "</style>\n",
              "<table border=\"1\" class=\"dataframe\">\n",
              "  <thead>\n",
              "    <tr style=\"text-align: right;\">\n",
              "      <th></th>\n",
              "      <th>Employee ID</th>\n",
              "      <th>Data Effective Date</th>\n",
              "      <th>Employee\\nStatus\\n</th>\n",
              "      <th>Career Level \\n(1=lowest, 6=highest)\\n</th>\n",
              "      <th>Hired Date</th>\n",
              "      <th>Hired in FY\\n(Yes/No)</th>\n",
              "      <th>Termination Date</th>\n",
              "      <th>Terminated\\nin FY\\n(Yes/No)</th>\n",
              "      <th>Termination Type\\n(Voluntary or Involuntary Exit)</th>\n",
              "      <th>Job Start Date</th>\n",
              "      <th>Promoted\\nin FY\\n(Yes/No)</th>\n",
              "      <th>Birth Date</th>\n",
              "      <th>Age\\n(Years)</th>\n",
              "      <th>Tenure\\n(Years)</th>\n",
              "      <th>Time in\\nJob (Years)</th>\n",
              "      <th>Rating\\n(1=lowest, 5=highest)</th>\n",
              "      <th>Education\\n(Highest\\nDegree)</th>\n",
              "      <th>age_cat</th>\n",
              "    </tr>\n",
              "  </thead>\n",
              "  <tbody>\n",
              "    <tr>\n",
              "      <th>2718</th>\n",
              "      <td>N2176</td>\n",
              "      <td>2016-12-31</td>\n",
              "      <td>Active</td>\n",
              "      <td>6</td>\n",
              "      <td>1992-03-14</td>\n",
              "      <td>No</td>\n",
              "      <td>NaT</td>\n",
              "      <td>No</td>\n",
              "      <td>NaN</td>\n",
              "      <td>2008-01-07</td>\n",
              "      <td>No</td>\n",
              "      <td>1970-02-22</td>\n",
              "      <td>46</td>\n",
              "      <td>24</td>\n",
              "      <td>NaN</td>\n",
              "      <td>4</td>\n",
              "      <td>MBA</td>\n",
              "      <td>45-55</td>\n",
              "    </tr>\n",
              "    <tr>\n",
              "      <th>2719</th>\n",
              "      <td>N2177</td>\n",
              "      <td>2016-12-31</td>\n",
              "      <td>Active</td>\n",
              "      <td>6</td>\n",
              "      <td>1987-06-02</td>\n",
              "      <td>No</td>\n",
              "      <td>NaT</td>\n",
              "      <td>No</td>\n",
              "      <td>NaN</td>\n",
              "      <td>2007-08-08</td>\n",
              "      <td>No</td>\n",
              "      <td>1961-04-07</td>\n",
              "      <td>55</td>\n",
              "      <td>29</td>\n",
              "      <td>NaN</td>\n",
              "      <td>4</td>\n",
              "      <td>BA/BS</td>\n",
              "      <td>45-55</td>\n",
              "    </tr>\n",
              "    <tr>\n",
              "      <th>2720</th>\n",
              "      <td>N2178</td>\n",
              "      <td>2016-12-31</td>\n",
              "      <td>Active</td>\n",
              "      <td>6</td>\n",
              "      <td>1998-11-25</td>\n",
              "      <td>No</td>\n",
              "      <td>NaT</td>\n",
              "      <td>No</td>\n",
              "      <td>NaN</td>\n",
              "      <td>2008-06-02</td>\n",
              "      <td>No</td>\n",
              "      <td>1969-10-12</td>\n",
              "      <td>47</td>\n",
              "      <td>18</td>\n",
              "      <td>NaN</td>\n",
              "      <td>4</td>\n",
              "      <td>PhD</td>\n",
              "      <td>45-55</td>\n",
              "    </tr>\n",
              "    <tr>\n",
              "      <th>2721</th>\n",
              "      <td>N2179</td>\n",
              "      <td>2016-12-31</td>\n",
              "      <td>Active</td>\n",
              "      <td>6</td>\n",
              "      <td>1990-10-19</td>\n",
              "      <td>No</td>\n",
              "      <td>NaT</td>\n",
              "      <td>No</td>\n",
              "      <td>NaN</td>\n",
              "      <td>2007-04-20</td>\n",
              "      <td>No</td>\n",
              "      <td>1970-11-30</td>\n",
              "      <td>46</td>\n",
              "      <td>26</td>\n",
              "      <td>NaN</td>\n",
              "      <td>4</td>\n",
              "      <td>BA/BS</td>\n",
              "      <td>45-55</td>\n",
              "    </tr>\n",
              "    <tr>\n",
              "      <th>2722</th>\n",
              "      <td>N2180</td>\n",
              "      <td>2016-12-31</td>\n",
              "      <td>Active</td>\n",
              "      <td>6</td>\n",
              "      <td>1995-06-02</td>\n",
              "      <td>No</td>\n",
              "      <td>NaT</td>\n",
              "      <td>No</td>\n",
              "      <td>NaN</td>\n",
              "      <td>2007-09-13</td>\n",
              "      <td>No</td>\n",
              "      <td>1967-02-15</td>\n",
              "      <td>49</td>\n",
              "      <td>21</td>\n",
              "      <td>NaN</td>\n",
              "      <td>4</td>\n",
              "      <td>BA/BS</td>\n",
              "      <td>45-55</td>\n",
              "    </tr>\n",
              "  </tbody>\n",
              "</table>\n",
              "</div>"
            ],
            "text/plain": [
              "     Employee ID Data Effective Date  ... Education\\n(Highest\\nDegree)  age_cat\n",
              "2718       N2176          2016-12-31  ...                          MBA    45-55\n",
              "2719       N2177          2016-12-31  ...                        BA/BS    45-55\n",
              "2720       N2178          2016-12-31  ...                          PhD    45-55\n",
              "2721       N2179          2016-12-31  ...                        BA/BS    45-55\n",
              "2722       N2180          2016-12-31  ...                        BA/BS    45-55\n",
              "\n",
              "[5 rows x 18 columns]"
            ]
          },
          "metadata": {
            "tags": []
          },
          "execution_count": 58
        }
      ]
    },
    {
      "cell_type": "code",
      "metadata": {
        "id": "Ja1ufys3sDgn",
        "outputId": "b83a6936-5b80-4331-a513-343319b7ff20",
        "colab": {
          "base_uri": "https://localhost:8080/",
          "height": 460
        }
      },
      "source": [
        "df_active[\"Time in\\nJob (Years)\"]=(pd.Series((df_active[\"Data Effective Date\"]-df_active[\"Job Start Date\"])/np.timedelta64(1,\"Y\"))).astype(int)\n",
        "df_active.tail()"
      ],
      "execution_count": null,
      "outputs": [
        {
          "output_type": "stream",
          "text": [
            "/usr/local/lib/python3.6/dist-packages/ipykernel_launcher.py:1: SettingWithCopyWarning: \n",
            "A value is trying to be set on a copy of a slice from a DataFrame.\n",
            "Try using .loc[row_indexer,col_indexer] = value instead\n",
            "\n",
            "See the caveats in the documentation: https://pandas.pydata.org/pandas-docs/stable/user_guide/indexing.html#returning-a-view-versus-a-copy\n",
            "  \"\"\"Entry point for launching an IPython kernel.\n"
          ],
          "name": "stderr"
        },
        {
          "output_type": "execute_result",
          "data": {
            "text/html": [
              "<div>\n",
              "<style scoped>\n",
              "    .dataframe tbody tr th:only-of-type {\n",
              "        vertical-align: middle;\n",
              "    }\n",
              "\n",
              "    .dataframe tbody tr th {\n",
              "        vertical-align: top;\n",
              "    }\n",
              "\n",
              "    .dataframe thead th {\n",
              "        text-align: right;\n",
              "    }\n",
              "</style>\n",
              "<table border=\"1\" class=\"dataframe\">\n",
              "  <thead>\n",
              "    <tr style=\"text-align: right;\">\n",
              "      <th></th>\n",
              "      <th>Employee ID</th>\n",
              "      <th>Data Effective Date</th>\n",
              "      <th>Employee\\nStatus\\n</th>\n",
              "      <th>Career Level \\n(1=lowest, 6=highest)\\n</th>\n",
              "      <th>Hired Date</th>\n",
              "      <th>Hired in FY\\n(Yes/No)</th>\n",
              "      <th>Termination Date</th>\n",
              "      <th>Terminated\\nin FY\\n(Yes/No)</th>\n",
              "      <th>Termination Type\\n(Voluntary or Involuntary Exit)</th>\n",
              "      <th>Job Start Date</th>\n",
              "      <th>Promoted\\nin FY\\n(Yes/No)</th>\n",
              "      <th>Birth Date</th>\n",
              "      <th>Age\\n(Years)</th>\n",
              "      <th>Tenure\\n(Years)</th>\n",
              "      <th>Time in\\nJob (Years)</th>\n",
              "      <th>Rating\\n(1=lowest, 5=highest)</th>\n",
              "      <th>Education\\n(Highest\\nDegree)</th>\n",
              "      <th>age_cat</th>\n",
              "    </tr>\n",
              "  </thead>\n",
              "  <tbody>\n",
              "    <tr>\n",
              "      <th>2718</th>\n",
              "      <td>N2176</td>\n",
              "      <td>2016-12-31</td>\n",
              "      <td>Active</td>\n",
              "      <td>6</td>\n",
              "      <td>1992-03-14</td>\n",
              "      <td>No</td>\n",
              "      <td>NaT</td>\n",
              "      <td>No</td>\n",
              "      <td>NaN</td>\n",
              "      <td>2008-01-07</td>\n",
              "      <td>No</td>\n",
              "      <td>1970-02-22</td>\n",
              "      <td>46</td>\n",
              "      <td>24</td>\n",
              "      <td>8</td>\n",
              "      <td>4</td>\n",
              "      <td>MBA</td>\n",
              "      <td>45-55</td>\n",
              "    </tr>\n",
              "    <tr>\n",
              "      <th>2719</th>\n",
              "      <td>N2177</td>\n",
              "      <td>2016-12-31</td>\n",
              "      <td>Active</td>\n",
              "      <td>6</td>\n",
              "      <td>1987-06-02</td>\n",
              "      <td>No</td>\n",
              "      <td>NaT</td>\n",
              "      <td>No</td>\n",
              "      <td>NaN</td>\n",
              "      <td>2007-08-08</td>\n",
              "      <td>No</td>\n",
              "      <td>1961-04-07</td>\n",
              "      <td>55</td>\n",
              "      <td>29</td>\n",
              "      <td>9</td>\n",
              "      <td>4</td>\n",
              "      <td>BA/BS</td>\n",
              "      <td>45-55</td>\n",
              "    </tr>\n",
              "    <tr>\n",
              "      <th>2720</th>\n",
              "      <td>N2178</td>\n",
              "      <td>2016-12-31</td>\n",
              "      <td>Active</td>\n",
              "      <td>6</td>\n",
              "      <td>1998-11-25</td>\n",
              "      <td>No</td>\n",
              "      <td>NaT</td>\n",
              "      <td>No</td>\n",
              "      <td>NaN</td>\n",
              "      <td>2008-06-02</td>\n",
              "      <td>No</td>\n",
              "      <td>1969-10-12</td>\n",
              "      <td>47</td>\n",
              "      <td>18</td>\n",
              "      <td>8</td>\n",
              "      <td>4</td>\n",
              "      <td>PhD</td>\n",
              "      <td>45-55</td>\n",
              "    </tr>\n",
              "    <tr>\n",
              "      <th>2721</th>\n",
              "      <td>N2179</td>\n",
              "      <td>2016-12-31</td>\n",
              "      <td>Active</td>\n",
              "      <td>6</td>\n",
              "      <td>1990-10-19</td>\n",
              "      <td>No</td>\n",
              "      <td>NaT</td>\n",
              "      <td>No</td>\n",
              "      <td>NaN</td>\n",
              "      <td>2007-04-20</td>\n",
              "      <td>No</td>\n",
              "      <td>1970-11-30</td>\n",
              "      <td>46</td>\n",
              "      <td>26</td>\n",
              "      <td>9</td>\n",
              "      <td>4</td>\n",
              "      <td>BA/BS</td>\n",
              "      <td>45-55</td>\n",
              "    </tr>\n",
              "    <tr>\n",
              "      <th>2722</th>\n",
              "      <td>N2180</td>\n",
              "      <td>2016-12-31</td>\n",
              "      <td>Active</td>\n",
              "      <td>6</td>\n",
              "      <td>1995-06-02</td>\n",
              "      <td>No</td>\n",
              "      <td>NaT</td>\n",
              "      <td>No</td>\n",
              "      <td>NaN</td>\n",
              "      <td>2007-09-13</td>\n",
              "      <td>No</td>\n",
              "      <td>1967-02-15</td>\n",
              "      <td>49</td>\n",
              "      <td>21</td>\n",
              "      <td>9</td>\n",
              "      <td>4</td>\n",
              "      <td>BA/BS</td>\n",
              "      <td>45-55</td>\n",
              "    </tr>\n",
              "  </tbody>\n",
              "</table>\n",
              "</div>"
            ],
            "text/plain": [
              "     Employee ID Data Effective Date  ... Education\\n(Highest\\nDegree)  age_cat\n",
              "2718       N2176          2016-12-31  ...                          MBA    45-55\n",
              "2719       N2177          2016-12-31  ...                        BA/BS    45-55\n",
              "2720       N2178          2016-12-31  ...                          PhD    45-55\n",
              "2721       N2179          2016-12-31  ...                        BA/BS    45-55\n",
              "2722       N2180          2016-12-31  ...                        BA/BS    45-55\n",
              "\n",
              "[5 rows x 18 columns]"
            ]
          },
          "metadata": {
            "tags": []
          },
          "execution_count": 59
        }
      ]
    },
    {
      "cell_type": "code",
      "metadata": {
        "id": "a19WmUChsI6a",
        "outputId": "c773487c-f30b-48e0-9000-f1fb7c119dbc",
        "colab": {
          "base_uri": "https://localhost:8080/"
        }
      },
      "source": [
        "(df[\"Job Start Date\"]-df[\"Hired Date\"])/np.timedelta64(1,\"M\")"
      ],
      "execution_count": null,
      "outputs": [
        {
          "output_type": "execute_result",
          "data": {
            "text/plain": [
              "0        0.000000\n",
              "1        0.000000\n",
              "2        0.000000\n",
              "3        0.000000\n",
              "4        0.000000\n",
              "          ...    \n",
              "2788    88.576767\n",
              "2789    84.272778\n",
              "2790    53.126348\n",
              "2791    76.814719\n",
              "2792    59.993018\n",
              "Length: 2793, dtype: float64"
            ]
          },
          "metadata": {
            "tags": []
          },
          "execution_count": 60
        }
      ]
    },
    {
      "cell_type": "code",
      "metadata": {
        "id": "bFtSV7fpt-qM",
        "outputId": "fc6b64a7-3554-4811-f9c6-4a8ff9f0a306",
        "colab": {
          "base_uri": "https://localhost:8080/",
          "height": 199
        }
      },
      "source": [
        "df_notice_period=pd.DataFrame({\"Notice_period_gap\":((df[\"Job Start Date\"]-df[\"Hired Date\"])/np.timedelta64(1,\"M\"))})\n",
        "df_notice_period.tail()"
      ],
      "execution_count": null,
      "outputs": [
        {
          "output_type": "execute_result",
          "data": {
            "text/html": [
              "<div>\n",
              "<style scoped>\n",
              "    .dataframe tbody tr th:only-of-type {\n",
              "        vertical-align: middle;\n",
              "    }\n",
              "\n",
              "    .dataframe tbody tr th {\n",
              "        vertical-align: top;\n",
              "    }\n",
              "\n",
              "    .dataframe thead th {\n",
              "        text-align: right;\n",
              "    }\n",
              "</style>\n",
              "<table border=\"1\" class=\"dataframe\">\n",
              "  <thead>\n",
              "    <tr style=\"text-align: right;\">\n",
              "      <th></th>\n",
              "      <th>Notice_period_gap</th>\n",
              "    </tr>\n",
              "  </thead>\n",
              "  <tbody>\n",
              "    <tr>\n",
              "      <th>2788</th>\n",
              "      <td>88.576767</td>\n",
              "    </tr>\n",
              "    <tr>\n",
              "      <th>2789</th>\n",
              "      <td>84.272778</td>\n",
              "    </tr>\n",
              "    <tr>\n",
              "      <th>2790</th>\n",
              "      <td>53.126348</td>\n",
              "    </tr>\n",
              "    <tr>\n",
              "      <th>2791</th>\n",
              "      <td>76.814719</td>\n",
              "    </tr>\n",
              "    <tr>\n",
              "      <th>2792</th>\n",
              "      <td>59.993018</td>\n",
              "    </tr>\n",
              "  </tbody>\n",
              "</table>\n",
              "</div>"
            ],
            "text/plain": [
              "      Notice_period_gap\n",
              "2788          88.576767\n",
              "2789          84.272778\n",
              "2790          53.126348\n",
              "2791          76.814719\n",
              "2792          59.993018"
            ]
          },
          "metadata": {
            "tags": []
          },
          "execution_count": 61
        }
      ]
    },
    {
      "cell_type": "code",
      "metadata": {
        "id": "4tLwoQmWzg_x"
      },
      "source": [
        "df_notice_period[\"Notice_period_gap\"]=df_notice_period[\"Notice_period_gap\"].astype(int)"
      ],
      "execution_count": null,
      "outputs": []
    },
    {
      "cell_type": "code",
      "metadata": {
        "id": "aryNDyUSz28I",
        "outputId": "28bbbf5f-393d-4b50-d52a-8d3e975b093c",
        "colab": {
          "base_uri": "https://localhost:8080/",
          "height": 199
        }
      },
      "source": [
        "df_notice_period.tail()"
      ],
      "execution_count": null,
      "outputs": [
        {
          "output_type": "execute_result",
          "data": {
            "text/html": [
              "<div>\n",
              "<style scoped>\n",
              "    .dataframe tbody tr th:only-of-type {\n",
              "        vertical-align: middle;\n",
              "    }\n",
              "\n",
              "    .dataframe tbody tr th {\n",
              "        vertical-align: top;\n",
              "    }\n",
              "\n",
              "    .dataframe thead th {\n",
              "        text-align: right;\n",
              "    }\n",
              "</style>\n",
              "<table border=\"1\" class=\"dataframe\">\n",
              "  <thead>\n",
              "    <tr style=\"text-align: right;\">\n",
              "      <th></th>\n",
              "      <th>Notice_period_gap</th>\n",
              "    </tr>\n",
              "  </thead>\n",
              "  <tbody>\n",
              "    <tr>\n",
              "      <th>2788</th>\n",
              "      <td>88</td>\n",
              "    </tr>\n",
              "    <tr>\n",
              "      <th>2789</th>\n",
              "      <td>84</td>\n",
              "    </tr>\n",
              "    <tr>\n",
              "      <th>2790</th>\n",
              "      <td>53</td>\n",
              "    </tr>\n",
              "    <tr>\n",
              "      <th>2791</th>\n",
              "      <td>76</td>\n",
              "    </tr>\n",
              "    <tr>\n",
              "      <th>2792</th>\n",
              "      <td>59</td>\n",
              "    </tr>\n",
              "  </tbody>\n",
              "</table>\n",
              "</div>"
            ],
            "text/plain": [
              "      Notice_period_gap\n",
              "2788                 88\n",
              "2789                 84\n",
              "2790                 53\n",
              "2791                 76\n",
              "2792                 59"
            ]
          },
          "metadata": {
            "tags": []
          },
          "execution_count": 63
        }
      ]
    },
    {
      "cell_type": "code",
      "metadata": {
        "id": "e-lF9tjGy7e9",
        "outputId": "c8521948-b087-4037-acdc-31e59ecd2f9f",
        "colab": {
          "base_uri": "https://localhost:8080/"
        }
      },
      "source": [
        "list(range(0,13,3))+[np.inf]"
      ],
      "execution_count": null,
      "outputs": [
        {
          "output_type": "execute_result",
          "data": {
            "text/plain": [
              "[0, 3, 6, 9, 12, inf]"
            ]
          },
          "metadata": {
            "tags": []
          },
          "execution_count": 64
        }
      ]
    },
    {
      "cell_type": "code",
      "metadata": {
        "id": "nXSIcdeduoUn",
        "outputId": "d96d675d-58f1-4564-eb85-5615e0e16ccf",
        "colab": {
          "base_uri": "https://localhost:8080/"
        }
      },
      "source": [
        "(pd.cut(df_notice_period[\"Notice_period_gap\"],bins=list(range(0,13,3))+[np.inf],labels=[\"1st 3 months\",\"1st 6 months\",\"1st 9 months\",\"1st 12 months\",\"> 1year\"],include_lowest=True))"
      ],
      "execution_count": null,
      "outputs": [
        {
          "output_type": "execute_result",
          "data": {
            "text/plain": [
              "0       1st 3 months\n",
              "1       1st 3 months\n",
              "2       1st 3 months\n",
              "3       1st 3 months\n",
              "4       1st 3 months\n",
              "            ...     \n",
              "2788         > 1year\n",
              "2789         > 1year\n",
              "2790         > 1year\n",
              "2791         > 1year\n",
              "2792         > 1year\n",
              "Name: Notice_period_gap, Length: 2793, dtype: category\n",
              "Categories (5, object): ['1st 3 months' < '1st 6 months' < '1st 9 months' < '1st 12 months' < '> 1year']"
            ]
          },
          "metadata": {
            "tags": []
          },
          "execution_count": 65
        }
      ]
    },
    {
      "cell_type": "code",
      "metadata": {
        "id": "MOf7wb5S8K6L"
      },
      "source": [
        "df_notice_period_new=pd.DataFrame({\"Notice_period_gap\":(pd.cut(df_notice_period[\"Notice_period_gap\"],bins=list(range(0,13,3))+[np.inf],labels=[\"1st 3 months\",\"1st 6 months\",\"1st 9 months\",\"1st 12 months\",\"> 1year\"],include_lowest=True))})"
      ],
      "execution_count": null,
      "outputs": []
    },
    {
      "cell_type": "code",
      "metadata": {
        "id": "b7r0M99Y2jzs",
        "outputId": "82abd167-ad72-4e8d-955e-5b9eb84895eb",
        "colab": {
          "base_uri": "https://localhost:8080/",
          "height": 410
        }
      },
      "source": [
        "df_notice_period_new"
      ],
      "execution_count": null,
      "outputs": [
        {
          "output_type": "execute_result",
          "data": {
            "text/html": [
              "<div>\n",
              "<style scoped>\n",
              "    .dataframe tbody tr th:only-of-type {\n",
              "        vertical-align: middle;\n",
              "    }\n",
              "\n",
              "    .dataframe tbody tr th {\n",
              "        vertical-align: top;\n",
              "    }\n",
              "\n",
              "    .dataframe thead th {\n",
              "        text-align: right;\n",
              "    }\n",
              "</style>\n",
              "<table border=\"1\" class=\"dataframe\">\n",
              "  <thead>\n",
              "    <tr style=\"text-align: right;\">\n",
              "      <th></th>\n",
              "      <th>Notice_period_gap</th>\n",
              "    </tr>\n",
              "  </thead>\n",
              "  <tbody>\n",
              "    <tr>\n",
              "      <th>0</th>\n",
              "      <td>1st 3 months</td>\n",
              "    </tr>\n",
              "    <tr>\n",
              "      <th>1</th>\n",
              "      <td>1st 3 months</td>\n",
              "    </tr>\n",
              "    <tr>\n",
              "      <th>2</th>\n",
              "      <td>1st 3 months</td>\n",
              "    </tr>\n",
              "    <tr>\n",
              "      <th>3</th>\n",
              "      <td>1st 3 months</td>\n",
              "    </tr>\n",
              "    <tr>\n",
              "      <th>4</th>\n",
              "      <td>1st 3 months</td>\n",
              "    </tr>\n",
              "    <tr>\n",
              "      <th>...</th>\n",
              "      <td>...</td>\n",
              "    </tr>\n",
              "    <tr>\n",
              "      <th>2788</th>\n",
              "      <td>&gt; 1year</td>\n",
              "    </tr>\n",
              "    <tr>\n",
              "      <th>2789</th>\n",
              "      <td>&gt; 1year</td>\n",
              "    </tr>\n",
              "    <tr>\n",
              "      <th>2790</th>\n",
              "      <td>&gt; 1year</td>\n",
              "    </tr>\n",
              "    <tr>\n",
              "      <th>2791</th>\n",
              "      <td>&gt; 1year</td>\n",
              "    </tr>\n",
              "    <tr>\n",
              "      <th>2792</th>\n",
              "      <td>&gt; 1year</td>\n",
              "    </tr>\n",
              "  </tbody>\n",
              "</table>\n",
              "<p>2793 rows × 1 columns</p>\n",
              "</div>"
            ],
            "text/plain": [
              "     Notice_period_gap\n",
              "0         1st 3 months\n",
              "1         1st 3 months\n",
              "2         1st 3 months\n",
              "3         1st 3 months\n",
              "4         1st 3 months\n",
              "...                ...\n",
              "2788           > 1year\n",
              "2789           > 1year\n",
              "2790           > 1year\n",
              "2791           > 1year\n",
              "2792           > 1year\n",
              "\n",
              "[2793 rows x 1 columns]"
            ]
          },
          "metadata": {
            "tags": []
          },
          "execution_count": 67
        }
      ]
    },
    {
      "cell_type": "code",
      "metadata": {
        "id": "XmPMjvDy2-la",
        "outputId": "95a7dce3-f219-4563-8a6d-c7d6420acd1e",
        "colab": {
          "base_uri": "https://localhost:8080/"
        }
      },
      "source": [
        "df_notice_period_new=df_notice_period_new[\"Notice_period_gap\"].value_counts()\n",
        "df_notice_period_new"
      ],
      "execution_count": null,
      "outputs": [
        {
          "output_type": "execute_result",
          "data": {
            "text/plain": [
              "> 1year          1739\n",
              "1st 3 months      965\n",
              "1st 12 months      36\n",
              "1st 9 months       28\n",
              "1st 6 months       21\n",
              "Name: Notice_period_gap, dtype: int64"
            ]
          },
          "metadata": {
            "tags": []
          },
          "execution_count": 68
        }
      ]
    },
    {
      "cell_type": "code",
      "metadata": {
        "id": "E-M0APRX3WLp",
        "outputId": "302ccfb9-1877-4387-8271-54c9d527c1ed",
        "colab": {
          "base_uri": "https://localhost:8080/",
          "height": 199
        }
      },
      "source": [
        "df_notice_period_new=pd.DataFrame({\"counts\":df_notice_period_new})\n",
        "df_notice_period_new"
      ],
      "execution_count": null,
      "outputs": [
        {
          "output_type": "execute_result",
          "data": {
            "text/html": [
              "<div>\n",
              "<style scoped>\n",
              "    .dataframe tbody tr th:only-of-type {\n",
              "        vertical-align: middle;\n",
              "    }\n",
              "\n",
              "    .dataframe tbody tr th {\n",
              "        vertical-align: top;\n",
              "    }\n",
              "\n",
              "    .dataframe thead th {\n",
              "        text-align: right;\n",
              "    }\n",
              "</style>\n",
              "<table border=\"1\" class=\"dataframe\">\n",
              "  <thead>\n",
              "    <tr style=\"text-align: right;\">\n",
              "      <th></th>\n",
              "      <th>counts</th>\n",
              "    </tr>\n",
              "  </thead>\n",
              "  <tbody>\n",
              "    <tr>\n",
              "      <th>&gt; 1year</th>\n",
              "      <td>1739</td>\n",
              "    </tr>\n",
              "    <tr>\n",
              "      <th>1st 3 months</th>\n",
              "      <td>965</td>\n",
              "    </tr>\n",
              "    <tr>\n",
              "      <th>1st 12 months</th>\n",
              "      <td>36</td>\n",
              "    </tr>\n",
              "    <tr>\n",
              "      <th>1st 9 months</th>\n",
              "      <td>28</td>\n",
              "    </tr>\n",
              "    <tr>\n",
              "      <th>1st 6 months</th>\n",
              "      <td>21</td>\n",
              "    </tr>\n",
              "  </tbody>\n",
              "</table>\n",
              "</div>"
            ],
            "text/plain": [
              "               counts\n",
              "> 1year          1739\n",
              "1st 3 months      965\n",
              "1st 12 months      36\n",
              "1st 9 months       28\n",
              "1st 6 months       21"
            ]
          },
          "metadata": {
            "tags": []
          },
          "execution_count": 69
        }
      ]
    },
    {
      "cell_type": "code",
      "metadata": {
        "id": "3MBZ1WRy3w85",
        "outputId": "42482bf7-3459-42e5-fdd7-e66021d6796a",
        "colab": {
          "base_uri": "https://localhost:8080/",
          "height": 199
        }
      },
      "source": [
        "df_notice_period_new=df_notice_period_new.reindex([\"1st 3 months\",\"1st 6 months\",\"1st 9 months\",\"1st 12 months\",\"> 1year\"])\n",
        "df_notice_period_new"
      ],
      "execution_count": null,
      "outputs": [
        {
          "output_type": "execute_result",
          "data": {
            "text/html": [
              "<div>\n",
              "<style scoped>\n",
              "    .dataframe tbody tr th:only-of-type {\n",
              "        vertical-align: middle;\n",
              "    }\n",
              "\n",
              "    .dataframe tbody tr th {\n",
              "        vertical-align: top;\n",
              "    }\n",
              "\n",
              "    .dataframe thead th {\n",
              "        text-align: right;\n",
              "    }\n",
              "</style>\n",
              "<table border=\"1\" class=\"dataframe\">\n",
              "  <thead>\n",
              "    <tr style=\"text-align: right;\">\n",
              "      <th></th>\n",
              "      <th>counts</th>\n",
              "    </tr>\n",
              "  </thead>\n",
              "  <tbody>\n",
              "    <tr>\n",
              "      <th>1st 3 months</th>\n",
              "      <td>965</td>\n",
              "    </tr>\n",
              "    <tr>\n",
              "      <th>1st 6 months</th>\n",
              "      <td>21</td>\n",
              "    </tr>\n",
              "    <tr>\n",
              "      <th>1st 9 months</th>\n",
              "      <td>28</td>\n",
              "    </tr>\n",
              "    <tr>\n",
              "      <th>1st 12 months</th>\n",
              "      <td>36</td>\n",
              "    </tr>\n",
              "    <tr>\n",
              "      <th>&gt; 1year</th>\n",
              "      <td>1739</td>\n",
              "    </tr>\n",
              "  </tbody>\n",
              "</table>\n",
              "</div>"
            ],
            "text/plain": [
              "               counts\n",
              "1st 3 months      965\n",
              "1st 6 months       21\n",
              "1st 9 months       28\n",
              "1st 12 months      36\n",
              "> 1year          1739"
            ]
          },
          "metadata": {
            "tags": []
          },
          "execution_count": 70
        }
      ]
    },
    {
      "cell_type": "code",
      "metadata": {
        "id": "duTt7fWa53Ej",
        "outputId": "79ae23ce-37a5-431f-fe4f-0171ab2d8a7e",
        "colab": {
          "base_uri": "https://localhost:8080/",
          "height": 199
        }
      },
      "source": [
        "(df_notice_period_new/df_notice_period_new.counts.sum())*100"
      ],
      "execution_count": null,
      "outputs": [
        {
          "output_type": "execute_result",
          "data": {
            "text/html": [
              "<div>\n",
              "<style scoped>\n",
              "    .dataframe tbody tr th:only-of-type {\n",
              "        vertical-align: middle;\n",
              "    }\n",
              "\n",
              "    .dataframe tbody tr th {\n",
              "        vertical-align: top;\n",
              "    }\n",
              "\n",
              "    .dataframe thead th {\n",
              "        text-align: right;\n",
              "    }\n",
              "</style>\n",
              "<table border=\"1\" class=\"dataframe\">\n",
              "  <thead>\n",
              "    <tr style=\"text-align: right;\">\n",
              "      <th></th>\n",
              "      <th>counts</th>\n",
              "    </tr>\n",
              "  </thead>\n",
              "  <tbody>\n",
              "    <tr>\n",
              "      <th>1st 3 months</th>\n",
              "      <td>34.600215</td>\n",
              "    </tr>\n",
              "    <tr>\n",
              "      <th>1st 6 months</th>\n",
              "      <td>0.752958</td>\n",
              "    </tr>\n",
              "    <tr>\n",
              "      <th>1st 9 months</th>\n",
              "      <td>1.003944</td>\n",
              "    </tr>\n",
              "    <tr>\n",
              "      <th>1st 12 months</th>\n",
              "      <td>1.290785</td>\n",
              "    </tr>\n",
              "    <tr>\n",
              "      <th>&gt; 1year</th>\n",
              "      <td>62.352098</td>\n",
              "    </tr>\n",
              "  </tbody>\n",
              "</table>\n",
              "</div>"
            ],
            "text/plain": [
              "                  counts\n",
              "1st 3 months   34.600215\n",
              "1st 6 months    0.752958\n",
              "1st 9 months    1.003944\n",
              "1st 12 months   1.290785\n",
              "> 1year        62.352098"
            ]
          },
          "metadata": {
            "tags": []
          },
          "execution_count": 71
        }
      ]
    },
    {
      "cell_type": "code",
      "metadata": {
        "id": "xJxZ6glH4ZOx",
        "outputId": "47b4c69e-36d2-44be-853e-10ff7c62d19b",
        "colab": {
          "base_uri": "https://localhost:8080/",
          "height": 411
        }
      },
      "source": [
        "fig=plt.gcf()\n",
        "fig.set_size_inches(8,5)\n",
        "sns.barplot(((df_notice_period_new/df_notice_period_new.counts.sum())*100).index,((df_notice_period_new/df_notice_period_new.counts.sum())*100)[\"counts\"])\n",
        "for i,value in enumerate(((df_notice_period_new/df_notice_period_new.counts.sum())*100).index):\n",
        "    x=i\n",
        "    y=int(round(((df_notice_period_new/df_notice_period_new.counts.sum())*100).loc[value]))\n",
        "    plt.text(x,y,str(y)+\"%\",ha=\"center\")\n",
        "plt.xlabel(\"Notice_period_gap\")\n",
        "plt.ylabel(\"Counts\")"
      ],
      "execution_count": null,
      "outputs": [
        {
          "output_type": "stream",
          "text": [
            "/usr/local/lib/python3.6/dist-packages/seaborn/_decorators.py:43: FutureWarning: Pass the following variables as keyword args: x, y. From version 0.12, the only valid positional argument will be `data`, and passing other arguments without an explicit keyword will result in an error or misinterpretation.\n",
            "  FutureWarning\n"
          ],
          "name": "stderr"
        },
        {
          "output_type": "execute_result",
          "data": {
            "text/plain": [
              "Text(0, 0.5, 'Counts')"
            ]
          },
          "metadata": {
            "tags": []
          },
          "execution_count": 72
        },
        {
          "output_type": "display_data",
          "data": {
            "image/png": "[encoded data removed]",
            "text/plain": [
              "<Figure size 576x360 with 1 Axes>"
            ]
          },
          "metadata": {
            "tags": []
          }
        }
      ]
    },
    {
      "cell_type": "markdown",
      "metadata": {
        "id": "srSPVaPaAmQD"
      },
      "source": [
        "###report-7\n",
        "here in unit2, almost 62% of the employees join the company after 1 year of notice and 35% of employees join in the 1st 3 months and some in the other months as well, which is pretty good as compared to unit1.\n",
        "\n",
        "This is not a good thing for a good company as it's process taking too much of time for the recruitment."
      ]
    }
  ]
}